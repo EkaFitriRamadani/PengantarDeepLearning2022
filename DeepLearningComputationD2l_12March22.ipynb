{
  "nbformat": 4,
  "nbformat_minor": 0,
  "metadata": {
    "colab": {
      "name": "DeepLearningComputationD2l_12March22.ipynb",
      "provenance": [],
      "authorship_tag": "ABX9TyN6nFXTkDGIJN9A+fIGYSqA",
      "include_colab_link": true
    },
    "kernelspec": {
      "name": "python3",
      "display_name": "Python 3"
    },
    "language_info": {
      "name": "python"
    }
  },
  "cells": [
    {
      "cell_type": "markdown",
      "metadata": {
        "id": "view-in-github",
        "colab_type": "text"
      },
      "source": [
        "<a href=\"https://colab.research.google.com/github/EkaFitriRamadani/PengantarDeepLearning2022/blob/main/DeepLearningComputationD2l_12March22.ipynb\" target=\"_parent\"><img src=\"https://colab.research.google.com/assets/colab-badge.svg\" alt=\"Open In Colab\"/></a>"
      ]
    },
    {
      "cell_type": "code",
      "execution_count": 1,
      "metadata": {
        "colab": {
          "base_uri": "https://localhost:8080/"
        },
        "id": "3jk3070rISGx",
        "outputId": "9c6886f8-7395-47c0-8bf6-704af437be8d"
      },
      "outputs": [
        {
          "output_type": "execute_result",
          "data": {
            "text/plain": [
              "<tf.Tensor: shape=(2, 10), dtype=float32, numpy=\n",
              "array([[ 0.00810969,  0.18566215,  0.26851723,  0.10982366,  0.06855363,\n",
              "        -0.14153041, -0.02970569, -0.15734035, -0.12218191, -0.22810626],\n",
              "       [-0.0271264 ,  0.13448231,  0.36666396,  0.02783715,  0.01078771,\n",
              "        -0.27087727,  0.14821039, -0.18813287,  0.00512167, -0.3762917 ]],\n",
              "      dtype=float32)>"
            ]
          },
          "metadata": {},
          "execution_count": 1
        }
      ],
      "source": [
        "import tensorflow as tf\n",
        "\n",
        "net = tf.keras.models.Sequential([\n",
        "    tf.keras.layers.Dense(256, activation=tf.nn.relu),\n",
        "    tf.keras.layers.Dense(10),\n",
        "])\n",
        "\n",
        "X = tf.random.uniform((2, 20))\n",
        "net(X)"
      ]
    }
  ]
}