{
  "nbformat": 4,
  "nbformat_minor": 0,
  "metadata": {
    "colab": {
      "name": "UTS-PengantarDeepLearning .ipynb",
      "provenance": [],
      "collapsed_sections": [],
      "include_colab_link": true
    },
    "kernelspec": {
      "name": "python3",
      "display_name": "Python 3"
    },
    "language_info": {
      "name": "python"
    },
    "accelerator": "GPU",
    "widgets": {
      "application/vnd.jupyter.widget-state+json": {
        "73b3aac688ab4bf3904e8d6c26eee798": {
          "model_module": "@jupyter-widgets/controls",
          "model_name": "HBoxModel",
          "model_module_version": "1.5.0",
          "state": {
            "_dom_classes": [],
            "_model_module": "@jupyter-widgets/controls",
            "_model_module_version": "1.5.0",
            "_model_name": "HBoxModel",
            "_view_count": null,
            "_view_module": "@jupyter-widgets/controls",
            "_view_module_version": "1.5.0",
            "_view_name": "HBoxView",
            "box_style": "",
            "children": [
              "IPY_MODEL_16d1fe7d04294080a365961a7e5a2e18",
              "IPY_MODEL_559322d4ccfe4255b61fb8e2f24c6661",
              "IPY_MODEL_b3a96e3f626842f38c24441de119d6a1"
            ],
            "layout": "IPY_MODEL_9e48c2ba8fb2462e9c7889b608b92e51"
          }
        },
        "16d1fe7d04294080a365961a7e5a2e18": {
          "model_module": "@jupyter-widgets/controls",
          "model_name": "HTMLModel",
          "model_module_version": "1.5.0",
          "state": {
            "_dom_classes": [],
            "_model_module": "@jupyter-widgets/controls",
            "_model_module_version": "1.5.0",
            "_model_name": "HTMLModel",
            "_view_count": null,
            "_view_module": "@jupyter-widgets/controls",
            "_view_module_version": "1.5.0",
            "_view_name": "HTMLView",
            "description": "",
            "description_tooltip": null,
            "layout": "IPY_MODEL_021792474472400b9b9d03a47f2ff591",
            "placeholder": "​",
            "style": "IPY_MODEL_7c6ec14b72f843bebf16125ee3a35d20",
            "value": "Testing DataLoader 0: 100%"
          }
        },
        "559322d4ccfe4255b61fb8e2f24c6661": {
          "model_module": "@jupyter-widgets/controls",
          "model_name": "FloatProgressModel",
          "model_module_version": "1.5.0",
          "state": {
            "_dom_classes": [],
            "_model_module": "@jupyter-widgets/controls",
            "_model_module_version": "1.5.0",
            "_model_name": "FloatProgressModel",
            "_view_count": null,
            "_view_module": "@jupyter-widgets/controls",
            "_view_module_version": "1.5.0",
            "_view_name": "ProgressView",
            "bar_style": "success",
            "description": "",
            "description_tooltip": null,
            "layout": "IPY_MODEL_78582bd8684d44fd9b9ee235b6c8ff46",
            "max": 1,
            "min": 0,
            "orientation": "horizontal",
            "style": "IPY_MODEL_4b0b89cfcbe947c6ad31f10b9c95cf76",
            "value": 1
          }
        },
        "b3a96e3f626842f38c24441de119d6a1": {
          "model_module": "@jupyter-widgets/controls",
          "model_name": "HTMLModel",
          "model_module_version": "1.5.0",
          "state": {
            "_dom_classes": [],
            "_model_module": "@jupyter-widgets/controls",
            "_model_module_version": "1.5.0",
            "_model_name": "HTMLModel",
            "_view_count": null,
            "_view_module": "@jupyter-widgets/controls",
            "_view_module_version": "1.5.0",
            "_view_name": "HTMLView",
            "description": "",
            "description_tooltip": null,
            "layout": "IPY_MODEL_d7d77ff40c604bc98b065803f4da511a",
            "placeholder": "​",
            "style": "IPY_MODEL_ae68456fae3141a2b0f2b1200f932901",
            "value": " 40/40 [00:03&lt;00:00, 10.35it/s]"
          }
        },
        "9e48c2ba8fb2462e9c7889b608b92e51": {
          "model_module": "@jupyter-widgets/base",
          "model_name": "LayoutModel",
          "model_module_version": "1.2.0",
          "state": {
            "_model_module": "@jupyter-widgets/base",
            "_model_module_version": "1.2.0",
            "_model_name": "LayoutModel",
            "_view_count": null,
            "_view_module": "@jupyter-widgets/base",
            "_view_module_version": "1.2.0",
            "_view_name": "LayoutView",
            "align_content": null,
            "align_items": null,
            "align_self": null,
            "border": null,
            "bottom": null,
            "display": "inline-flex",
            "flex": null,
            "flex_flow": "row wrap",
            "grid_area": null,
            "grid_auto_columns": null,
            "grid_auto_flow": null,
            "grid_auto_rows": null,
            "grid_column": null,
            "grid_gap": null,
            "grid_row": null,
            "grid_template_areas": null,
            "grid_template_columns": null,
            "grid_template_rows": null,
            "height": null,
            "justify_content": null,
            "justify_items": null,
            "left": null,
            "margin": null,
            "max_height": null,
            "max_width": null,
            "min_height": null,
            "min_width": null,
            "object_fit": null,
            "object_position": null,
            "order": null,
            "overflow": null,
            "overflow_x": null,
            "overflow_y": null,
            "padding": null,
            "right": null,
            "top": null,
            "visibility": null,
            "width": "100%"
          }
        },
        "021792474472400b9b9d03a47f2ff591": {
          "model_module": "@jupyter-widgets/base",
          "model_name": "LayoutModel",
          "model_module_version": "1.2.0",
          "state": {
            "_model_module": "@jupyter-widgets/base",
            "_model_module_version": "1.2.0",
            "_model_name": "LayoutModel",
            "_view_count": null,
            "_view_module": "@jupyter-widgets/base",
            "_view_module_version": "1.2.0",
            "_view_name": "LayoutView",
            "align_content": null,
            "align_items": null,
            "align_self": null,
            "border": null,
            "bottom": null,
            "display": null,
            "flex": null,
            "flex_flow": null,
            "grid_area": null,
            "grid_auto_columns": null,
            "grid_auto_flow": null,
            "grid_auto_rows": null,
            "grid_column": null,
            "grid_gap": null,
            "grid_row": null,
            "grid_template_areas": null,
            "grid_template_columns": null,
            "grid_template_rows": null,
            "height": null,
            "justify_content": null,
            "justify_items": null,
            "left": null,
            "margin": null,
            "max_height": null,
            "max_width": null,
            "min_height": null,
            "min_width": null,
            "object_fit": null,
            "object_position": null,
            "order": null,
            "overflow": null,
            "overflow_x": null,
            "overflow_y": null,
            "padding": null,
            "right": null,
            "top": null,
            "visibility": null,
            "width": null
          }
        },
        "7c6ec14b72f843bebf16125ee3a35d20": {
          "model_module": "@jupyter-widgets/controls",
          "model_name": "DescriptionStyleModel",
          "model_module_version": "1.5.0",
          "state": {
            "_model_module": "@jupyter-widgets/controls",
            "_model_module_version": "1.5.0",
            "_model_name": "DescriptionStyleModel",
            "_view_count": null,
            "_view_module": "@jupyter-widgets/base",
            "_view_module_version": "1.2.0",
            "_view_name": "StyleView",
            "description_width": ""
          }
        },
        "78582bd8684d44fd9b9ee235b6c8ff46": {
          "model_module": "@jupyter-widgets/base",
          "model_name": "LayoutModel",
          "model_module_version": "1.2.0",
          "state": {
            "_model_module": "@jupyter-widgets/base",
            "_model_module_version": "1.2.0",
            "_model_name": "LayoutModel",
            "_view_count": null,
            "_view_module": "@jupyter-widgets/base",
            "_view_module_version": "1.2.0",
            "_view_name": "LayoutView",
            "align_content": null,
            "align_items": null,
            "align_self": null,
            "border": null,
            "bottom": null,
            "display": null,
            "flex": "2",
            "flex_flow": null,
            "grid_area": null,
            "grid_auto_columns": null,
            "grid_auto_flow": null,
            "grid_auto_rows": null,
            "grid_column": null,
            "grid_gap": null,
            "grid_row": null,
            "grid_template_areas": null,
            "grid_template_columns": null,
            "grid_template_rows": null,
            "height": null,
            "justify_content": null,
            "justify_items": null,
            "left": null,
            "margin": null,
            "max_height": null,
            "max_width": null,
            "min_height": null,
            "min_width": null,
            "object_fit": null,
            "object_position": null,
            "order": null,
            "overflow": null,
            "overflow_x": null,
            "overflow_y": null,
            "padding": null,
            "right": null,
            "top": null,
            "visibility": null,
            "width": null
          }
        },
        "4b0b89cfcbe947c6ad31f10b9c95cf76": {
          "model_module": "@jupyter-widgets/controls",
          "model_name": "ProgressStyleModel",
          "model_module_version": "1.5.0",
          "state": {
            "_model_module": "@jupyter-widgets/controls",
            "_model_module_version": "1.5.0",
            "_model_name": "ProgressStyleModel",
            "_view_count": null,
            "_view_module": "@jupyter-widgets/base",
            "_view_module_version": "1.2.0",
            "_view_name": "StyleView",
            "bar_color": null,
            "description_width": ""
          }
        },
        "d7d77ff40c604bc98b065803f4da511a": {
          "model_module": "@jupyter-widgets/base",
          "model_name": "LayoutModel",
          "model_module_version": "1.2.0",
          "state": {
            "_model_module": "@jupyter-widgets/base",
            "_model_module_version": "1.2.0",
            "_model_name": "LayoutModel",
            "_view_count": null,
            "_view_module": "@jupyter-widgets/base",
            "_view_module_version": "1.2.0",
            "_view_name": "LayoutView",
            "align_content": null,
            "align_items": null,
            "align_self": null,
            "border": null,
            "bottom": null,
            "display": null,
            "flex": null,
            "flex_flow": null,
            "grid_area": null,
            "grid_auto_columns": null,
            "grid_auto_flow": null,
            "grid_auto_rows": null,
            "grid_column": null,
            "grid_gap": null,
            "grid_row": null,
            "grid_template_areas": null,
            "grid_template_columns": null,
            "grid_template_rows": null,
            "height": null,
            "justify_content": null,
            "justify_items": null,
            "left": null,
            "margin": null,
            "max_height": null,
            "max_width": null,
            "min_height": null,
            "min_width": null,
            "object_fit": null,
            "object_position": null,
            "order": null,
            "overflow": null,
            "overflow_x": null,
            "overflow_y": null,
            "padding": null,
            "right": null,
            "top": null,
            "visibility": null,
            "width": null
          }
        },
        "ae68456fae3141a2b0f2b1200f932901": {
          "model_module": "@jupyter-widgets/controls",
          "model_name": "DescriptionStyleModel",
          "model_module_version": "1.5.0",
          "state": {
            "_model_module": "@jupyter-widgets/controls",
            "_model_module_version": "1.5.0",
            "_model_name": "DescriptionStyleModel",
            "_view_count": null,
            "_view_module": "@jupyter-widgets/base",
            "_view_module_version": "1.2.0",
            "_view_name": "StyleView",
            "description_width": ""
          }
        },
        "21e0cc301ef44a5eb0d975f052652562": {
          "model_module": "@jupyter-widgets/controls",
          "model_name": "HBoxModel",
          "model_module_version": "1.5.0",
          "state": {
            "_dom_classes": [],
            "_model_module": "@jupyter-widgets/controls",
            "_model_module_version": "1.5.0",
            "_model_name": "HBoxModel",
            "_view_count": null,
            "_view_module": "@jupyter-widgets/controls",
            "_view_module_version": "1.5.0",
            "_view_name": "HBoxView",
            "box_style": "",
            "children": [
              "IPY_MODEL_2bb31b6bba564e17aef74084c06d85c5",
              "IPY_MODEL_cd3c7da1fab946559a38783c6d0e54f2",
              "IPY_MODEL_cd8d787bf14f4261bfdc81ddf8d62562"
            ],
            "layout": "IPY_MODEL_760cd3de2b894560a086b2f0b7c16382"
          }
        },
        "2bb31b6bba564e17aef74084c06d85c5": {
          "model_module": "@jupyter-widgets/controls",
          "model_name": "HTMLModel",
          "model_module_version": "1.5.0",
          "state": {
            "_dom_classes": [],
            "_model_module": "@jupyter-widgets/controls",
            "_model_module_version": "1.5.0",
            "_model_name": "HTMLModel",
            "_view_count": null,
            "_view_module": "@jupyter-widgets/controls",
            "_view_module_version": "1.5.0",
            "_view_name": "HTMLView",
            "description": "",
            "description_tooltip": null,
            "layout": "IPY_MODEL_3399d4909ded4797baff3c03dbb1dc4f",
            "placeholder": "​",
            "style": "IPY_MODEL_a30bf46139df488081c5445280b73437",
            "value": "Testing DataLoader 0: 100%"
          }
        },
        "cd3c7da1fab946559a38783c6d0e54f2": {
          "model_module": "@jupyter-widgets/controls",
          "model_name": "FloatProgressModel",
          "model_module_version": "1.5.0",
          "state": {
            "_dom_classes": [],
            "_model_module": "@jupyter-widgets/controls",
            "_model_module_version": "1.5.0",
            "_model_name": "FloatProgressModel",
            "_view_count": null,
            "_view_module": "@jupyter-widgets/controls",
            "_view_module_version": "1.5.0",
            "_view_name": "ProgressView",
            "bar_style": "success",
            "description": "",
            "description_tooltip": null,
            "layout": "IPY_MODEL_8832ad26f07340e5bc207648d8f528ed",
            "max": 1,
            "min": 0,
            "orientation": "horizontal",
            "style": "IPY_MODEL_4b62fd2b552942489ad4485371ee780b",
            "value": 1
          }
        },
        "cd8d787bf14f4261bfdc81ddf8d62562": {
          "model_module": "@jupyter-widgets/controls",
          "model_name": "HTMLModel",
          "model_module_version": "1.5.0",
          "state": {
            "_dom_classes": [],
            "_model_module": "@jupyter-widgets/controls",
            "_model_module_version": "1.5.0",
            "_model_name": "HTMLModel",
            "_view_count": null,
            "_view_module": "@jupyter-widgets/controls",
            "_view_module_version": "1.5.0",
            "_view_name": "HTMLView",
            "description": "",
            "description_tooltip": null,
            "layout": "IPY_MODEL_9e98ee09a66c476f9245551502c2bf55",
            "placeholder": "​",
            "style": "IPY_MODEL_3d792e04a6714d8185de0efd938631d0",
            "value": " 79/79 [00:06&lt;00:00, 12.24it/s]"
          }
        },
        "760cd3de2b894560a086b2f0b7c16382": {
          "model_module": "@jupyter-widgets/base",
          "model_name": "LayoutModel",
          "model_module_version": "1.2.0",
          "state": {
            "_model_module": "@jupyter-widgets/base",
            "_model_module_version": "1.2.0",
            "_model_name": "LayoutModel",
            "_view_count": null,
            "_view_module": "@jupyter-widgets/base",
            "_view_module_version": "1.2.0",
            "_view_name": "LayoutView",
            "align_content": null,
            "align_items": null,
            "align_self": null,
            "border": null,
            "bottom": null,
            "display": "inline-flex",
            "flex": null,
            "flex_flow": "row wrap",
            "grid_area": null,
            "grid_auto_columns": null,
            "grid_auto_flow": null,
            "grid_auto_rows": null,
            "grid_column": null,
            "grid_gap": null,
            "grid_row": null,
            "grid_template_areas": null,
            "grid_template_columns": null,
            "grid_template_rows": null,
            "height": null,
            "justify_content": null,
            "justify_items": null,
            "left": null,
            "margin": null,
            "max_height": null,
            "max_width": null,
            "min_height": null,
            "min_width": null,
            "object_fit": null,
            "object_position": null,
            "order": null,
            "overflow": null,
            "overflow_x": null,
            "overflow_y": null,
            "padding": null,
            "right": null,
            "top": null,
            "visibility": null,
            "width": "100%"
          }
        },
        "3399d4909ded4797baff3c03dbb1dc4f": {
          "model_module": "@jupyter-widgets/base",
          "model_name": "LayoutModel",
          "model_module_version": "1.2.0",
          "state": {
            "_model_module": "@jupyter-widgets/base",
            "_model_module_version": "1.2.0",
            "_model_name": "LayoutModel",
            "_view_count": null,
            "_view_module": "@jupyter-widgets/base",
            "_view_module_version": "1.2.0",
            "_view_name": "LayoutView",
            "align_content": null,
            "align_items": null,
            "align_self": null,
            "border": null,
            "bottom": null,
            "display": null,
            "flex": null,
            "flex_flow": null,
            "grid_area": null,
            "grid_auto_columns": null,
            "grid_auto_flow": null,
            "grid_auto_rows": null,
            "grid_column": null,
            "grid_gap": null,
            "grid_row": null,
            "grid_template_areas": null,
            "grid_template_columns": null,
            "grid_template_rows": null,
            "height": null,
            "justify_content": null,
            "justify_items": null,
            "left": null,
            "margin": null,
            "max_height": null,
            "max_width": null,
            "min_height": null,
            "min_width": null,
            "object_fit": null,
            "object_position": null,
            "order": null,
            "overflow": null,
            "overflow_x": null,
            "overflow_y": null,
            "padding": null,
            "right": null,
            "top": null,
            "visibility": null,
            "width": null
          }
        },
        "a30bf46139df488081c5445280b73437": {
          "model_module": "@jupyter-widgets/controls",
          "model_name": "DescriptionStyleModel",
          "model_module_version": "1.5.0",
          "state": {
            "_model_module": "@jupyter-widgets/controls",
            "_model_module_version": "1.5.0",
            "_model_name": "DescriptionStyleModel",
            "_view_count": null,
            "_view_module": "@jupyter-widgets/base",
            "_view_module_version": "1.2.0",
            "_view_name": "StyleView",
            "description_width": ""
          }
        },
        "8832ad26f07340e5bc207648d8f528ed": {
          "model_module": "@jupyter-widgets/base",
          "model_name": "LayoutModel",
          "model_module_version": "1.2.0",
          "state": {
            "_model_module": "@jupyter-widgets/base",
            "_model_module_version": "1.2.0",
            "_model_name": "LayoutModel",
            "_view_count": null,
            "_view_module": "@jupyter-widgets/base",
            "_view_module_version": "1.2.0",
            "_view_name": "LayoutView",
            "align_content": null,
            "align_items": null,
            "align_self": null,
            "border": null,
            "bottom": null,
            "display": null,
            "flex": "2",
            "flex_flow": null,
            "grid_area": null,
            "grid_auto_columns": null,
            "grid_auto_flow": null,
            "grid_auto_rows": null,
            "grid_column": null,
            "grid_gap": null,
            "grid_row": null,
            "grid_template_areas": null,
            "grid_template_columns": null,
            "grid_template_rows": null,
            "height": null,
            "justify_content": null,
            "justify_items": null,
            "left": null,
            "margin": null,
            "max_height": null,
            "max_width": null,
            "min_height": null,
            "min_width": null,
            "object_fit": null,
            "object_position": null,
            "order": null,
            "overflow": null,
            "overflow_x": null,
            "overflow_y": null,
            "padding": null,
            "right": null,
            "top": null,
            "visibility": null,
            "width": null
          }
        },
        "4b62fd2b552942489ad4485371ee780b": {
          "model_module": "@jupyter-widgets/controls",
          "model_name": "ProgressStyleModel",
          "model_module_version": "1.5.0",
          "state": {
            "_model_module": "@jupyter-widgets/controls",
            "_model_module_version": "1.5.0",
            "_model_name": "ProgressStyleModel",
            "_view_count": null,
            "_view_module": "@jupyter-widgets/base",
            "_view_module_version": "1.2.0",
            "_view_name": "StyleView",
            "bar_color": null,
            "description_width": ""
          }
        },
        "9e98ee09a66c476f9245551502c2bf55": {
          "model_module": "@jupyter-widgets/base",
          "model_name": "LayoutModel",
          "model_module_version": "1.2.0",
          "state": {
            "_model_module": "@jupyter-widgets/base",
            "_model_module_version": "1.2.0",
            "_model_name": "LayoutModel",
            "_view_count": null,
            "_view_module": "@jupyter-widgets/base",
            "_view_module_version": "1.2.0",
            "_view_name": "LayoutView",
            "align_content": null,
            "align_items": null,
            "align_self": null,
            "border": null,
            "bottom": null,
            "display": null,
            "flex": null,
            "flex_flow": null,
            "grid_area": null,
            "grid_auto_columns": null,
            "grid_auto_flow": null,
            "grid_auto_rows": null,
            "grid_column": null,
            "grid_gap": null,
            "grid_row": null,
            "grid_template_areas": null,
            "grid_template_columns": null,
            "grid_template_rows": null,
            "height": null,
            "justify_content": null,
            "justify_items": null,
            "left": null,
            "margin": null,
            "max_height": null,
            "max_width": null,
            "min_height": null,
            "min_width": null,
            "object_fit": null,
            "object_position": null,
            "order": null,
            "overflow": null,
            "overflow_x": null,
            "overflow_y": null,
            "padding": null,
            "right": null,
            "top": null,
            "visibility": null,
            "width": null
          }
        },
        "3d792e04a6714d8185de0efd938631d0": {
          "model_module": "@jupyter-widgets/controls",
          "model_name": "DescriptionStyleModel",
          "model_module_version": "1.5.0",
          "state": {
            "_model_module": "@jupyter-widgets/controls",
            "_model_module_version": "1.5.0",
            "_model_name": "DescriptionStyleModel",
            "_view_count": null,
            "_view_module": "@jupyter-widgets/base",
            "_view_module_version": "1.2.0",
            "_view_name": "StyleView",
            "description_width": ""
          }
        },
        "6a1abe64c45449599fb3dfe4715a4eba": {
          "model_module": "@jupyter-widgets/controls",
          "model_name": "HBoxModel",
          "model_module_version": "1.5.0",
          "state": {
            "_dom_classes": [],
            "_model_module": "@jupyter-widgets/controls",
            "_model_module_version": "1.5.0",
            "_model_name": "HBoxModel",
            "_view_count": null,
            "_view_module": "@jupyter-widgets/controls",
            "_view_module_version": "1.5.0",
            "_view_name": "HBoxView",
            "box_style": "",
            "children": [
              "IPY_MODEL_d57a0f2f8099447bb4da9723bc29959e",
              "IPY_MODEL_d8b43594fb8545d8a6ad93b87d5ae3cc",
              "IPY_MODEL_14f7dd9f481e4419bb48bf6040bfaa6a"
            ],
            "layout": "IPY_MODEL_281604e85411455a8e3c35edb6d3e633"
          }
        },
        "d57a0f2f8099447bb4da9723bc29959e": {
          "model_module": "@jupyter-widgets/controls",
          "model_name": "HTMLModel",
          "model_module_version": "1.5.0",
          "state": {
            "_dom_classes": [],
            "_model_module": "@jupyter-widgets/controls",
            "_model_module_version": "1.5.0",
            "_model_name": "HTMLModel",
            "_view_count": null,
            "_view_module": "@jupyter-widgets/controls",
            "_view_module_version": "1.5.0",
            "_view_name": "HTMLView",
            "description": "",
            "description_tooltip": null,
            "layout": "IPY_MODEL_1240ede0eeef4d67955af85706e820d9",
            "placeholder": "​",
            "style": "IPY_MODEL_5c65e6c1e54949f18d6190bd9ac96607",
            "value": "Testing DataLoader 0: 100%"
          }
        },
        "d8b43594fb8545d8a6ad93b87d5ae3cc": {
          "model_module": "@jupyter-widgets/controls",
          "model_name": "FloatProgressModel",
          "model_module_version": "1.5.0",
          "state": {
            "_dom_classes": [],
            "_model_module": "@jupyter-widgets/controls",
            "_model_module_version": "1.5.0",
            "_model_name": "FloatProgressModel",
            "_view_count": null,
            "_view_module": "@jupyter-widgets/controls",
            "_view_module_version": "1.5.0",
            "_view_name": "ProgressView",
            "bar_style": "success",
            "description": "",
            "description_tooltip": null,
            "layout": "IPY_MODEL_1da63bd9f56246e3a2cca5e5e348f343",
            "max": 1,
            "min": 0,
            "orientation": "horizontal",
            "style": "IPY_MODEL_bb3ba313a6ee431e8b4b159f1fd63df3",
            "value": 1
          }
        },
        "14f7dd9f481e4419bb48bf6040bfaa6a": {
          "model_module": "@jupyter-widgets/controls",
          "model_name": "HTMLModel",
          "model_module_version": "1.5.0",
          "state": {
            "_dom_classes": [],
            "_model_module": "@jupyter-widgets/controls",
            "_model_module_version": "1.5.0",
            "_model_name": "HTMLModel",
            "_view_count": null,
            "_view_module": "@jupyter-widgets/controls",
            "_view_module_version": "1.5.0",
            "_view_name": "HTMLView",
            "description": "",
            "description_tooltip": null,
            "layout": "IPY_MODEL_cc189cb1c78548faad825dfd0fb05a23",
            "placeholder": "​",
            "style": "IPY_MODEL_6b9cef36e0824aa78d017b51add93e37",
            "value": " 40/40 [00:01&lt;00:00, 22.76it/s]"
          }
        },
        "281604e85411455a8e3c35edb6d3e633": {
          "model_module": "@jupyter-widgets/base",
          "model_name": "LayoutModel",
          "model_module_version": "1.2.0",
          "state": {
            "_model_module": "@jupyter-widgets/base",
            "_model_module_version": "1.2.0",
            "_model_name": "LayoutModel",
            "_view_count": null,
            "_view_module": "@jupyter-widgets/base",
            "_view_module_version": "1.2.0",
            "_view_name": "LayoutView",
            "align_content": null,
            "align_items": null,
            "align_self": null,
            "border": null,
            "bottom": null,
            "display": "inline-flex",
            "flex": null,
            "flex_flow": "row wrap",
            "grid_area": null,
            "grid_auto_columns": null,
            "grid_auto_flow": null,
            "grid_auto_rows": null,
            "grid_column": null,
            "grid_gap": null,
            "grid_row": null,
            "grid_template_areas": null,
            "grid_template_columns": null,
            "grid_template_rows": null,
            "height": null,
            "justify_content": null,
            "justify_items": null,
            "left": null,
            "margin": null,
            "max_height": null,
            "max_width": null,
            "min_height": null,
            "min_width": null,
            "object_fit": null,
            "object_position": null,
            "order": null,
            "overflow": null,
            "overflow_x": null,
            "overflow_y": null,
            "padding": null,
            "right": null,
            "top": null,
            "visibility": null,
            "width": "100%"
          }
        },
        "1240ede0eeef4d67955af85706e820d9": {
          "model_module": "@jupyter-widgets/base",
          "model_name": "LayoutModel",
          "model_module_version": "1.2.0",
          "state": {
            "_model_module": "@jupyter-widgets/base",
            "_model_module_version": "1.2.0",
            "_model_name": "LayoutModel",
            "_view_count": null,
            "_view_module": "@jupyter-widgets/base",
            "_view_module_version": "1.2.0",
            "_view_name": "LayoutView",
            "align_content": null,
            "align_items": null,
            "align_self": null,
            "border": null,
            "bottom": null,
            "display": null,
            "flex": null,
            "flex_flow": null,
            "grid_area": null,
            "grid_auto_columns": null,
            "grid_auto_flow": null,
            "grid_auto_rows": null,
            "grid_column": null,
            "grid_gap": null,
            "grid_row": null,
            "grid_template_areas": null,
            "grid_template_columns": null,
            "grid_template_rows": null,
            "height": null,
            "justify_content": null,
            "justify_items": null,
            "left": null,
            "margin": null,
            "max_height": null,
            "max_width": null,
            "min_height": null,
            "min_width": null,
            "object_fit": null,
            "object_position": null,
            "order": null,
            "overflow": null,
            "overflow_x": null,
            "overflow_y": null,
            "padding": null,
            "right": null,
            "top": null,
            "visibility": null,
            "width": null
          }
        },
        "5c65e6c1e54949f18d6190bd9ac96607": {
          "model_module": "@jupyter-widgets/controls",
          "model_name": "DescriptionStyleModel",
          "model_module_version": "1.5.0",
          "state": {
            "_model_module": "@jupyter-widgets/controls",
            "_model_module_version": "1.5.0",
            "_model_name": "DescriptionStyleModel",
            "_view_count": null,
            "_view_module": "@jupyter-widgets/base",
            "_view_module_version": "1.2.0",
            "_view_name": "StyleView",
            "description_width": ""
          }
        },
        "1da63bd9f56246e3a2cca5e5e348f343": {
          "model_module": "@jupyter-widgets/base",
          "model_name": "LayoutModel",
          "model_module_version": "1.2.0",
          "state": {
            "_model_module": "@jupyter-widgets/base",
            "_model_module_version": "1.2.0",
            "_model_name": "LayoutModel",
            "_view_count": null,
            "_view_module": "@jupyter-widgets/base",
            "_view_module_version": "1.2.0",
            "_view_name": "LayoutView",
            "align_content": null,
            "align_items": null,
            "align_self": null,
            "border": null,
            "bottom": null,
            "display": null,
            "flex": "2",
            "flex_flow": null,
            "grid_area": null,
            "grid_auto_columns": null,
            "grid_auto_flow": null,
            "grid_auto_rows": null,
            "grid_column": null,
            "grid_gap": null,
            "grid_row": null,
            "grid_template_areas": null,
            "grid_template_columns": null,
            "grid_template_rows": null,
            "height": null,
            "justify_content": null,
            "justify_items": null,
            "left": null,
            "margin": null,
            "max_height": null,
            "max_width": null,
            "min_height": null,
            "min_width": null,
            "object_fit": null,
            "object_position": null,
            "order": null,
            "overflow": null,
            "overflow_x": null,
            "overflow_y": null,
            "padding": null,
            "right": null,
            "top": null,
            "visibility": null,
            "width": null
          }
        },
        "bb3ba313a6ee431e8b4b159f1fd63df3": {
          "model_module": "@jupyter-widgets/controls",
          "model_name": "ProgressStyleModel",
          "model_module_version": "1.5.0",
          "state": {
            "_model_module": "@jupyter-widgets/controls",
            "_model_module_version": "1.5.0",
            "_model_name": "ProgressStyleModel",
            "_view_count": null,
            "_view_module": "@jupyter-widgets/base",
            "_view_module_version": "1.2.0",
            "_view_name": "StyleView",
            "bar_color": null,
            "description_width": ""
          }
        },
        "cc189cb1c78548faad825dfd0fb05a23": {
          "model_module": "@jupyter-widgets/base",
          "model_name": "LayoutModel",
          "model_module_version": "1.2.0",
          "state": {
            "_model_module": "@jupyter-widgets/base",
            "_model_module_version": "1.2.0",
            "_model_name": "LayoutModel",
            "_view_count": null,
            "_view_module": "@jupyter-widgets/base",
            "_view_module_version": "1.2.0",
            "_view_name": "LayoutView",
            "align_content": null,
            "align_items": null,
            "align_self": null,
            "border": null,
            "bottom": null,
            "display": null,
            "flex": null,
            "flex_flow": null,
            "grid_area": null,
            "grid_auto_columns": null,
            "grid_auto_flow": null,
            "grid_auto_rows": null,
            "grid_column": null,
            "grid_gap": null,
            "grid_row": null,
            "grid_template_areas": null,
            "grid_template_columns": null,
            "grid_template_rows": null,
            "height": null,
            "justify_content": null,
            "justify_items": null,
            "left": null,
            "margin": null,
            "max_height": null,
            "max_width": null,
            "min_height": null,
            "min_width": null,
            "object_fit": null,
            "object_position": null,
            "order": null,
            "overflow": null,
            "overflow_x": null,
            "overflow_y": null,
            "padding": null,
            "right": null,
            "top": null,
            "visibility": null,
            "width": null
          }
        },
        "6b9cef36e0824aa78d017b51add93e37": {
          "model_module": "@jupyter-widgets/controls",
          "model_name": "DescriptionStyleModel",
          "model_module_version": "1.5.0",
          "state": {
            "_model_module": "@jupyter-widgets/controls",
            "_model_module_version": "1.5.0",
            "_model_name": "DescriptionStyleModel",
            "_view_count": null,
            "_view_module": "@jupyter-widgets/base",
            "_view_module_version": "1.2.0",
            "_view_name": "StyleView",
            "description_width": ""
          }
        },
        "13463f25ab5044c5b2d3552c1cf21b04": {
          "model_module": "@jupyter-widgets/controls",
          "model_name": "HBoxModel",
          "model_module_version": "1.5.0",
          "state": {
            "_dom_classes": [],
            "_model_module": "@jupyter-widgets/controls",
            "_model_module_version": "1.5.0",
            "_model_name": "HBoxModel",
            "_view_count": null,
            "_view_module": "@jupyter-widgets/controls",
            "_view_module_version": "1.5.0",
            "_view_name": "HBoxView",
            "box_style": "",
            "children": [
              "IPY_MODEL_f648fdf3c9484b99ae0cb5503bc58d34",
              "IPY_MODEL_fc20896947814b108be47b6d871acba0",
              "IPY_MODEL_4edd145f10d84134ab200cce1a4eb8f6"
            ],
            "layout": "IPY_MODEL_d608a19c2f0c414eb4824d986b4d44e8"
          }
        },
        "f648fdf3c9484b99ae0cb5503bc58d34": {
          "model_module": "@jupyter-widgets/controls",
          "model_name": "HTMLModel",
          "model_module_version": "1.5.0",
          "state": {
            "_dom_classes": [],
            "_model_module": "@jupyter-widgets/controls",
            "_model_module_version": "1.5.0",
            "_model_name": "HTMLModel",
            "_view_count": null,
            "_view_module": "@jupyter-widgets/controls",
            "_view_module_version": "1.5.0",
            "_view_name": "HTMLView",
            "description": "",
            "description_tooltip": null,
            "layout": "IPY_MODEL_55ebe4e970f642be9dc225a7764b79c8",
            "placeholder": "​",
            "style": "IPY_MODEL_91c93284359a481597ce595722c2df4a",
            "value": "Testing DataLoader 0: 100%"
          }
        },
        "fc20896947814b108be47b6d871acba0": {
          "model_module": "@jupyter-widgets/controls",
          "model_name": "FloatProgressModel",
          "model_module_version": "1.5.0",
          "state": {
            "_dom_classes": [],
            "_model_module": "@jupyter-widgets/controls",
            "_model_module_version": "1.5.0",
            "_model_name": "FloatProgressModel",
            "_view_count": null,
            "_view_module": "@jupyter-widgets/controls",
            "_view_module_version": "1.5.0",
            "_view_name": "ProgressView",
            "bar_style": "success",
            "description": "",
            "description_tooltip": null,
            "layout": "IPY_MODEL_cb1333187baa41069303421ef6552c7f",
            "max": 1,
            "min": 0,
            "orientation": "horizontal",
            "style": "IPY_MODEL_8e2dad92969e44efae7d71a7dcf175f8",
            "value": 1
          }
        },
        "4edd145f10d84134ab200cce1a4eb8f6": {
          "model_module": "@jupyter-widgets/controls",
          "model_name": "HTMLModel",
          "model_module_version": "1.5.0",
          "state": {
            "_dom_classes": [],
            "_model_module": "@jupyter-widgets/controls",
            "_model_module_version": "1.5.0",
            "_model_name": "HTMLModel",
            "_view_count": null,
            "_view_module": "@jupyter-widgets/controls",
            "_view_module_version": "1.5.0",
            "_view_name": "HTMLView",
            "description": "",
            "description_tooltip": null,
            "layout": "IPY_MODEL_8d60805736b248a594386dd9975dea7f",
            "placeholder": "​",
            "style": "IPY_MODEL_63301635669b4278904e33df0d307754",
            "value": " 79/79 [00:03&lt;00:00, 25.17it/s]"
          }
        },
        "d608a19c2f0c414eb4824d986b4d44e8": {
          "model_module": "@jupyter-widgets/base",
          "model_name": "LayoutModel",
          "model_module_version": "1.2.0",
          "state": {
            "_model_module": "@jupyter-widgets/base",
            "_model_module_version": "1.2.0",
            "_model_name": "LayoutModel",
            "_view_count": null,
            "_view_module": "@jupyter-widgets/base",
            "_view_module_version": "1.2.0",
            "_view_name": "LayoutView",
            "align_content": null,
            "align_items": null,
            "align_self": null,
            "border": null,
            "bottom": null,
            "display": "inline-flex",
            "flex": null,
            "flex_flow": "row wrap",
            "grid_area": null,
            "grid_auto_columns": null,
            "grid_auto_flow": null,
            "grid_auto_rows": null,
            "grid_column": null,
            "grid_gap": null,
            "grid_row": null,
            "grid_template_areas": null,
            "grid_template_columns": null,
            "grid_template_rows": null,
            "height": null,
            "justify_content": null,
            "justify_items": null,
            "left": null,
            "margin": null,
            "max_height": null,
            "max_width": null,
            "min_height": null,
            "min_width": null,
            "object_fit": null,
            "object_position": null,
            "order": null,
            "overflow": null,
            "overflow_x": null,
            "overflow_y": null,
            "padding": null,
            "right": null,
            "top": null,
            "visibility": null,
            "width": "100%"
          }
        },
        "55ebe4e970f642be9dc225a7764b79c8": {
          "model_module": "@jupyter-widgets/base",
          "model_name": "LayoutModel",
          "model_module_version": "1.2.0",
          "state": {
            "_model_module": "@jupyter-widgets/base",
            "_model_module_version": "1.2.0",
            "_model_name": "LayoutModel",
            "_view_count": null,
            "_view_module": "@jupyter-widgets/base",
            "_view_module_version": "1.2.0",
            "_view_name": "LayoutView",
            "align_content": null,
            "align_items": null,
            "align_self": null,
            "border": null,
            "bottom": null,
            "display": null,
            "flex": null,
            "flex_flow": null,
            "grid_area": null,
            "grid_auto_columns": null,
            "grid_auto_flow": null,
            "grid_auto_rows": null,
            "grid_column": null,
            "grid_gap": null,
            "grid_row": null,
            "grid_template_areas": null,
            "grid_template_columns": null,
            "grid_template_rows": null,
            "height": null,
            "justify_content": null,
            "justify_items": null,
            "left": null,
            "margin": null,
            "max_height": null,
            "max_width": null,
            "min_height": null,
            "min_width": null,
            "object_fit": null,
            "object_position": null,
            "order": null,
            "overflow": null,
            "overflow_x": null,
            "overflow_y": null,
            "padding": null,
            "right": null,
            "top": null,
            "visibility": null,
            "width": null
          }
        },
        "91c93284359a481597ce595722c2df4a": {
          "model_module": "@jupyter-widgets/controls",
          "model_name": "DescriptionStyleModel",
          "model_module_version": "1.5.0",
          "state": {
            "_model_module": "@jupyter-widgets/controls",
            "_model_module_version": "1.5.0",
            "_model_name": "DescriptionStyleModel",
            "_view_count": null,
            "_view_module": "@jupyter-widgets/base",
            "_view_module_version": "1.2.0",
            "_view_name": "StyleView",
            "description_width": ""
          }
        },
        "cb1333187baa41069303421ef6552c7f": {
          "model_module": "@jupyter-widgets/base",
          "model_name": "LayoutModel",
          "model_module_version": "1.2.0",
          "state": {
            "_model_module": "@jupyter-widgets/base",
            "_model_module_version": "1.2.0",
            "_model_name": "LayoutModel",
            "_view_count": null,
            "_view_module": "@jupyter-widgets/base",
            "_view_module_version": "1.2.0",
            "_view_name": "LayoutView",
            "align_content": null,
            "align_items": null,
            "align_self": null,
            "border": null,
            "bottom": null,
            "display": null,
            "flex": "2",
            "flex_flow": null,
            "grid_area": null,
            "grid_auto_columns": null,
            "grid_auto_flow": null,
            "grid_auto_rows": null,
            "grid_column": null,
            "grid_gap": null,
            "grid_row": null,
            "grid_template_areas": null,
            "grid_template_columns": null,
            "grid_template_rows": null,
            "height": null,
            "justify_content": null,
            "justify_items": null,
            "left": null,
            "margin": null,
            "max_height": null,
            "max_width": null,
            "min_height": null,
            "min_width": null,
            "object_fit": null,
            "object_position": null,
            "order": null,
            "overflow": null,
            "overflow_x": null,
            "overflow_y": null,
            "padding": null,
            "right": null,
            "top": null,
            "visibility": null,
            "width": null
          }
        },
        "8e2dad92969e44efae7d71a7dcf175f8": {
          "model_module": "@jupyter-widgets/controls",
          "model_name": "ProgressStyleModel",
          "model_module_version": "1.5.0",
          "state": {
            "_model_module": "@jupyter-widgets/controls",
            "_model_module_version": "1.5.0",
            "_model_name": "ProgressStyleModel",
            "_view_count": null,
            "_view_module": "@jupyter-widgets/base",
            "_view_module_version": "1.2.0",
            "_view_name": "StyleView",
            "bar_color": null,
            "description_width": ""
          }
        },
        "8d60805736b248a594386dd9975dea7f": {
          "model_module": "@jupyter-widgets/base",
          "model_name": "LayoutModel",
          "model_module_version": "1.2.0",
          "state": {
            "_model_module": "@jupyter-widgets/base",
            "_model_module_version": "1.2.0",
            "_model_name": "LayoutModel",
            "_view_count": null,
            "_view_module": "@jupyter-widgets/base",
            "_view_module_version": "1.2.0",
            "_view_name": "LayoutView",
            "align_content": null,
            "align_items": null,
            "align_self": null,
            "border": null,
            "bottom": null,
            "display": null,
            "flex": null,
            "flex_flow": null,
            "grid_area": null,
            "grid_auto_columns": null,
            "grid_auto_flow": null,
            "grid_auto_rows": null,
            "grid_column": null,
            "grid_gap": null,
            "grid_row": null,
            "grid_template_areas": null,
            "grid_template_columns": null,
            "grid_template_rows": null,
            "height": null,
            "justify_content": null,
            "justify_items": null,
            "left": null,
            "margin": null,
            "max_height": null,
            "max_width": null,
            "min_height": null,
            "min_width": null,
            "object_fit": null,
            "object_position": null,
            "order": null,
            "overflow": null,
            "overflow_x": null,
            "overflow_y": null,
            "padding": null,
            "right": null,
            "top": null,
            "visibility": null,
            "width": null
          }
        },
        "63301635669b4278904e33df0d307754": {
          "model_module": "@jupyter-widgets/controls",
          "model_name": "DescriptionStyleModel",
          "model_module_version": "1.5.0",
          "state": {
            "_model_module": "@jupyter-widgets/controls",
            "_model_module_version": "1.5.0",
            "_model_name": "DescriptionStyleModel",
            "_view_count": null,
            "_view_module": "@jupyter-widgets/base",
            "_view_module_version": "1.2.0",
            "_view_name": "StyleView",
            "description_width": ""
          }
        },
        "72a3bbe001a94e4eb133839f513cc307": {
          "model_module": "@jupyter-widgets/controls",
          "model_name": "HBoxModel",
          "model_module_version": "1.5.0",
          "state": {
            "_dom_classes": [],
            "_model_module": "@jupyter-widgets/controls",
            "_model_module_version": "1.5.0",
            "_model_name": "HBoxModel",
            "_view_count": null,
            "_view_module": "@jupyter-widgets/controls",
            "_view_module_version": "1.5.0",
            "_view_name": "HBoxView",
            "box_style": "",
            "children": [
              "IPY_MODEL_80429a64eb634fa6896e2f870873c871",
              "IPY_MODEL_27ef5d9ac1114a8d99b9e3fb225332d1",
              "IPY_MODEL_64d3faab14204e199ae2dd25e36c09f7"
            ],
            "layout": "IPY_MODEL_dbd494713ad34f1db50f4e1fc80515fb"
          }
        },
        "80429a64eb634fa6896e2f870873c871": {
          "model_module": "@jupyter-widgets/controls",
          "model_name": "HTMLModel",
          "model_module_version": "1.5.0",
          "state": {
            "_dom_classes": [],
            "_model_module": "@jupyter-widgets/controls",
            "_model_module_version": "1.5.0",
            "_model_name": "HTMLModel",
            "_view_count": null,
            "_view_module": "@jupyter-widgets/controls",
            "_view_module_version": "1.5.0",
            "_view_name": "HTMLView",
            "description": "",
            "description_tooltip": null,
            "layout": "IPY_MODEL_6a617354c3394056a2698492c547bb72",
            "placeholder": "​",
            "style": "IPY_MODEL_ccfb56092eb44f06a79590dc7baf08b2",
            "value": "Testing DataLoader 0: 100%"
          }
        },
        "27ef5d9ac1114a8d99b9e3fb225332d1": {
          "model_module": "@jupyter-widgets/controls",
          "model_name": "FloatProgressModel",
          "model_module_version": "1.5.0",
          "state": {
            "_dom_classes": [],
            "_model_module": "@jupyter-widgets/controls",
            "_model_module_version": "1.5.0",
            "_model_name": "FloatProgressModel",
            "_view_count": null,
            "_view_module": "@jupyter-widgets/controls",
            "_view_module_version": "1.5.0",
            "_view_name": "ProgressView",
            "bar_style": "success",
            "description": "",
            "description_tooltip": null,
            "layout": "IPY_MODEL_820d2619b5b44dcd9183debed1957515",
            "max": 1,
            "min": 0,
            "orientation": "horizontal",
            "style": "IPY_MODEL_3115562706b343c8aeb20916388a4504",
            "value": 1
          }
        },
        "64d3faab14204e199ae2dd25e36c09f7": {
          "model_module": "@jupyter-widgets/controls",
          "model_name": "HTMLModel",
          "model_module_version": "1.5.0",
          "state": {
            "_dom_classes": [],
            "_model_module": "@jupyter-widgets/controls",
            "_model_module_version": "1.5.0",
            "_model_name": "HTMLModel",
            "_view_count": null,
            "_view_module": "@jupyter-widgets/controls",
            "_view_module_version": "1.5.0",
            "_view_name": "HTMLView",
            "description": "",
            "description_tooltip": null,
            "layout": "IPY_MODEL_84b04ecb13e543ed85b082c4edad1706",
            "placeholder": "​",
            "style": "IPY_MODEL_f90c27fdea634aeeae38db12fdc4f604",
            "value": " 40/40 [00:01&lt;00:00, 24.01it/s]"
          }
        },
        "dbd494713ad34f1db50f4e1fc80515fb": {
          "model_module": "@jupyter-widgets/base",
          "model_name": "LayoutModel",
          "model_module_version": "1.2.0",
          "state": {
            "_model_module": "@jupyter-widgets/base",
            "_model_module_version": "1.2.0",
            "_model_name": "LayoutModel",
            "_view_count": null,
            "_view_module": "@jupyter-widgets/base",
            "_view_module_version": "1.2.0",
            "_view_name": "LayoutView",
            "align_content": null,
            "align_items": null,
            "align_self": null,
            "border": null,
            "bottom": null,
            "display": "inline-flex",
            "flex": null,
            "flex_flow": "row wrap",
            "grid_area": null,
            "grid_auto_columns": null,
            "grid_auto_flow": null,
            "grid_auto_rows": null,
            "grid_column": null,
            "grid_gap": null,
            "grid_row": null,
            "grid_template_areas": null,
            "grid_template_columns": null,
            "grid_template_rows": null,
            "height": null,
            "justify_content": null,
            "justify_items": null,
            "left": null,
            "margin": null,
            "max_height": null,
            "max_width": null,
            "min_height": null,
            "min_width": null,
            "object_fit": null,
            "object_position": null,
            "order": null,
            "overflow": null,
            "overflow_x": null,
            "overflow_y": null,
            "padding": null,
            "right": null,
            "top": null,
            "visibility": null,
            "width": "100%"
          }
        },
        "6a617354c3394056a2698492c547bb72": {
          "model_module": "@jupyter-widgets/base",
          "model_name": "LayoutModel",
          "model_module_version": "1.2.0",
          "state": {
            "_model_module": "@jupyter-widgets/base",
            "_model_module_version": "1.2.0",
            "_model_name": "LayoutModel",
            "_view_count": null,
            "_view_module": "@jupyter-widgets/base",
            "_view_module_version": "1.2.0",
            "_view_name": "LayoutView",
            "align_content": null,
            "align_items": null,
            "align_self": null,
            "border": null,
            "bottom": null,
            "display": null,
            "flex": null,
            "flex_flow": null,
            "grid_area": null,
            "grid_auto_columns": null,
            "grid_auto_flow": null,
            "grid_auto_rows": null,
            "grid_column": null,
            "grid_gap": null,
            "grid_row": null,
            "grid_template_areas": null,
            "grid_template_columns": null,
            "grid_template_rows": null,
            "height": null,
            "justify_content": null,
            "justify_items": null,
            "left": null,
            "margin": null,
            "max_height": null,
            "max_width": null,
            "min_height": null,
            "min_width": null,
            "object_fit": null,
            "object_position": null,
            "order": null,
            "overflow": null,
            "overflow_x": null,
            "overflow_y": null,
            "padding": null,
            "right": null,
            "top": null,
            "visibility": null,
            "width": null
          }
        },
        "ccfb56092eb44f06a79590dc7baf08b2": {
          "model_module": "@jupyter-widgets/controls",
          "model_name": "DescriptionStyleModel",
          "model_module_version": "1.5.0",
          "state": {
            "_model_module": "@jupyter-widgets/controls",
            "_model_module_version": "1.5.0",
            "_model_name": "DescriptionStyleModel",
            "_view_count": null,
            "_view_module": "@jupyter-widgets/base",
            "_view_module_version": "1.2.0",
            "_view_name": "StyleView",
            "description_width": ""
          }
        },
        "820d2619b5b44dcd9183debed1957515": {
          "model_module": "@jupyter-widgets/base",
          "model_name": "LayoutModel",
          "model_module_version": "1.2.0",
          "state": {
            "_model_module": "@jupyter-widgets/base",
            "_model_module_version": "1.2.0",
            "_model_name": "LayoutModel",
            "_view_count": null,
            "_view_module": "@jupyter-widgets/base",
            "_view_module_version": "1.2.0",
            "_view_name": "LayoutView",
            "align_content": null,
            "align_items": null,
            "align_self": null,
            "border": null,
            "bottom": null,
            "display": null,
            "flex": "2",
            "flex_flow": null,
            "grid_area": null,
            "grid_auto_columns": null,
            "grid_auto_flow": null,
            "grid_auto_rows": null,
            "grid_column": null,
            "grid_gap": null,
            "grid_row": null,
            "grid_template_areas": null,
            "grid_template_columns": null,
            "grid_template_rows": null,
            "height": null,
            "justify_content": null,
            "justify_items": null,
            "left": null,
            "margin": null,
            "max_height": null,
            "max_width": null,
            "min_height": null,
            "min_width": null,
            "object_fit": null,
            "object_position": null,
            "order": null,
            "overflow": null,
            "overflow_x": null,
            "overflow_y": null,
            "padding": null,
            "right": null,
            "top": null,
            "visibility": null,
            "width": null
          }
        },
        "3115562706b343c8aeb20916388a4504": {
          "model_module": "@jupyter-widgets/controls",
          "model_name": "ProgressStyleModel",
          "model_module_version": "1.5.0",
          "state": {
            "_model_module": "@jupyter-widgets/controls",
            "_model_module_version": "1.5.0",
            "_model_name": "ProgressStyleModel",
            "_view_count": null,
            "_view_module": "@jupyter-widgets/base",
            "_view_module_version": "1.2.0",
            "_view_name": "StyleView",
            "bar_color": null,
            "description_width": ""
          }
        },
        "84b04ecb13e543ed85b082c4edad1706": {
          "model_module": "@jupyter-widgets/base",
          "model_name": "LayoutModel",
          "model_module_version": "1.2.0",
          "state": {
            "_model_module": "@jupyter-widgets/base",
            "_model_module_version": "1.2.0",
            "_model_name": "LayoutModel",
            "_view_count": null,
            "_view_module": "@jupyter-widgets/base",
            "_view_module_version": "1.2.0",
            "_view_name": "LayoutView",
            "align_content": null,
            "align_items": null,
            "align_self": null,
            "border": null,
            "bottom": null,
            "display": null,
            "flex": null,
            "flex_flow": null,
            "grid_area": null,
            "grid_auto_columns": null,
            "grid_auto_flow": null,
            "grid_auto_rows": null,
            "grid_column": null,
            "grid_gap": null,
            "grid_row": null,
            "grid_template_areas": null,
            "grid_template_columns": null,
            "grid_template_rows": null,
            "height": null,
            "justify_content": null,
            "justify_items": null,
            "left": null,
            "margin": null,
            "max_height": null,
            "max_width": null,
            "min_height": null,
            "min_width": null,
            "object_fit": null,
            "object_position": null,
            "order": null,
            "overflow": null,
            "overflow_x": null,
            "overflow_y": null,
            "padding": null,
            "right": null,
            "top": null,
            "visibility": null,
            "width": null
          }
        },
        "f90c27fdea634aeeae38db12fdc4f604": {
          "model_module": "@jupyter-widgets/controls",
          "model_name": "DescriptionStyleModel",
          "model_module_version": "1.5.0",
          "state": {
            "_model_module": "@jupyter-widgets/controls",
            "_model_module_version": "1.5.0",
            "_model_name": "DescriptionStyleModel",
            "_view_count": null,
            "_view_module": "@jupyter-widgets/base",
            "_view_module_version": "1.2.0",
            "_view_name": "StyleView",
            "description_width": ""
          }
        },
        "f845b8e682294699a076b773e5933ed1": {
          "model_module": "@jupyter-widgets/controls",
          "model_name": "HBoxModel",
          "model_module_version": "1.5.0",
          "state": {
            "_dom_classes": [],
            "_model_module": "@jupyter-widgets/controls",
            "_model_module_version": "1.5.0",
            "_model_name": "HBoxModel",
            "_view_count": null,
            "_view_module": "@jupyter-widgets/controls",
            "_view_module_version": "1.5.0",
            "_view_name": "HBoxView",
            "box_style": "",
            "children": [
              "IPY_MODEL_04eed8a0ade24197b275b49dde9955cb",
              "IPY_MODEL_d2f0e8ac38ab466a98da7dcb590190db",
              "IPY_MODEL_64be2e6784764487b407f9198fc0cf08"
            ],
            "layout": "IPY_MODEL_5bc1f5e7587048729b87e04cb8f3417c"
          }
        },
        "04eed8a0ade24197b275b49dde9955cb": {
          "model_module": "@jupyter-widgets/controls",
          "model_name": "HTMLModel",
          "model_module_version": "1.5.0",
          "state": {
            "_dom_classes": [],
            "_model_module": "@jupyter-widgets/controls",
            "_model_module_version": "1.5.0",
            "_model_name": "HTMLModel",
            "_view_count": null,
            "_view_module": "@jupyter-widgets/controls",
            "_view_module_version": "1.5.0",
            "_view_name": "HTMLView",
            "description": "",
            "description_tooltip": null,
            "layout": "IPY_MODEL_e0c8830ea1f44fb2bf55c8e9a9bc409e",
            "placeholder": "​",
            "style": "IPY_MODEL_695643cc87f143a885830c782b070061",
            "value": "Testing DataLoader 0: 100%"
          }
        },
        "d2f0e8ac38ab466a98da7dcb590190db": {
          "model_module": "@jupyter-widgets/controls",
          "model_name": "FloatProgressModel",
          "model_module_version": "1.5.0",
          "state": {
            "_dom_classes": [],
            "_model_module": "@jupyter-widgets/controls",
            "_model_module_version": "1.5.0",
            "_model_name": "FloatProgressModel",
            "_view_count": null,
            "_view_module": "@jupyter-widgets/controls",
            "_view_module_version": "1.5.0",
            "_view_name": "ProgressView",
            "bar_style": "success",
            "description": "",
            "description_tooltip": null,
            "layout": "IPY_MODEL_bb43154f6ea64f12a0906889d0eef99b",
            "max": 1,
            "min": 0,
            "orientation": "horizontal",
            "style": "IPY_MODEL_22f061fe0c624e9980bcc615b5494a72",
            "value": 1
          }
        },
        "64be2e6784764487b407f9198fc0cf08": {
          "model_module": "@jupyter-widgets/controls",
          "model_name": "HTMLModel",
          "model_module_version": "1.5.0",
          "state": {
            "_dom_classes": [],
            "_model_module": "@jupyter-widgets/controls",
            "_model_module_version": "1.5.0",
            "_model_name": "HTMLModel",
            "_view_count": null,
            "_view_module": "@jupyter-widgets/controls",
            "_view_module_version": "1.5.0",
            "_view_name": "HTMLView",
            "description": "",
            "description_tooltip": null,
            "layout": "IPY_MODEL_0717b0b1c23647998f6be7f85d254dda",
            "placeholder": "​",
            "style": "IPY_MODEL_2beb7923cf424fdb90320980a3a11bbe",
            "value": " 79/79 [00:03&lt;00:00, 25.82it/s]"
          }
        },
        "5bc1f5e7587048729b87e04cb8f3417c": {
          "model_module": "@jupyter-widgets/base",
          "model_name": "LayoutModel",
          "model_module_version": "1.2.0",
          "state": {
            "_model_module": "@jupyter-widgets/base",
            "_model_module_version": "1.2.0",
            "_model_name": "LayoutModel",
            "_view_count": null,
            "_view_module": "@jupyter-widgets/base",
            "_view_module_version": "1.2.0",
            "_view_name": "LayoutView",
            "align_content": null,
            "align_items": null,
            "align_self": null,
            "border": null,
            "bottom": null,
            "display": "inline-flex",
            "flex": null,
            "flex_flow": "row wrap",
            "grid_area": null,
            "grid_auto_columns": null,
            "grid_auto_flow": null,
            "grid_auto_rows": null,
            "grid_column": null,
            "grid_gap": null,
            "grid_row": null,
            "grid_template_areas": null,
            "grid_template_columns": null,
            "grid_template_rows": null,
            "height": null,
            "justify_content": null,
            "justify_items": null,
            "left": null,
            "margin": null,
            "max_height": null,
            "max_width": null,
            "min_height": null,
            "min_width": null,
            "object_fit": null,
            "object_position": null,
            "order": null,
            "overflow": null,
            "overflow_x": null,
            "overflow_y": null,
            "padding": null,
            "right": null,
            "top": null,
            "visibility": null,
            "width": "100%"
          }
        },
        "e0c8830ea1f44fb2bf55c8e9a9bc409e": {
          "model_module": "@jupyter-widgets/base",
          "model_name": "LayoutModel",
          "model_module_version": "1.2.0",
          "state": {
            "_model_module": "@jupyter-widgets/base",
            "_model_module_version": "1.2.0",
            "_model_name": "LayoutModel",
            "_view_count": null,
            "_view_module": "@jupyter-widgets/base",
            "_view_module_version": "1.2.0",
            "_view_name": "LayoutView",
            "align_content": null,
            "align_items": null,
            "align_self": null,
            "border": null,
            "bottom": null,
            "display": null,
            "flex": null,
            "flex_flow": null,
            "grid_area": null,
            "grid_auto_columns": null,
            "grid_auto_flow": null,
            "grid_auto_rows": null,
            "grid_column": null,
            "grid_gap": null,
            "grid_row": null,
            "grid_template_areas": null,
            "grid_template_columns": null,
            "grid_template_rows": null,
            "height": null,
            "justify_content": null,
            "justify_items": null,
            "left": null,
            "margin": null,
            "max_height": null,
            "max_width": null,
            "min_height": null,
            "min_width": null,
            "object_fit": null,
            "object_position": null,
            "order": null,
            "overflow": null,
            "overflow_x": null,
            "overflow_y": null,
            "padding": null,
            "right": null,
            "top": null,
            "visibility": null,
            "width": null
          }
        },
        "695643cc87f143a885830c782b070061": {
          "model_module": "@jupyter-widgets/controls",
          "model_name": "DescriptionStyleModel",
          "model_module_version": "1.5.0",
          "state": {
            "_model_module": "@jupyter-widgets/controls",
            "_model_module_version": "1.5.0",
            "_model_name": "DescriptionStyleModel",
            "_view_count": null,
            "_view_module": "@jupyter-widgets/base",
            "_view_module_version": "1.2.0",
            "_view_name": "StyleView",
            "description_width": ""
          }
        },
        "bb43154f6ea64f12a0906889d0eef99b": {
          "model_module": "@jupyter-widgets/base",
          "model_name": "LayoutModel",
          "model_module_version": "1.2.0",
          "state": {
            "_model_module": "@jupyter-widgets/base",
            "_model_module_version": "1.2.0",
            "_model_name": "LayoutModel",
            "_view_count": null,
            "_view_module": "@jupyter-widgets/base",
            "_view_module_version": "1.2.0",
            "_view_name": "LayoutView",
            "align_content": null,
            "align_items": null,
            "align_self": null,
            "border": null,
            "bottom": null,
            "display": null,
            "flex": "2",
            "flex_flow": null,
            "grid_area": null,
            "grid_auto_columns": null,
            "grid_auto_flow": null,
            "grid_auto_rows": null,
            "grid_column": null,
            "grid_gap": null,
            "grid_row": null,
            "grid_template_areas": null,
            "grid_template_columns": null,
            "grid_template_rows": null,
            "height": null,
            "justify_content": null,
            "justify_items": null,
            "left": null,
            "margin": null,
            "max_height": null,
            "max_width": null,
            "min_height": null,
            "min_width": null,
            "object_fit": null,
            "object_position": null,
            "order": null,
            "overflow": null,
            "overflow_x": null,
            "overflow_y": null,
            "padding": null,
            "right": null,
            "top": null,
            "visibility": null,
            "width": null
          }
        },
        "22f061fe0c624e9980bcc615b5494a72": {
          "model_module": "@jupyter-widgets/controls",
          "model_name": "ProgressStyleModel",
          "model_module_version": "1.5.0",
          "state": {
            "_model_module": "@jupyter-widgets/controls",
            "_model_module_version": "1.5.0",
            "_model_name": "ProgressStyleModel",
            "_view_count": null,
            "_view_module": "@jupyter-widgets/base",
            "_view_module_version": "1.2.0",
            "_view_name": "StyleView",
            "bar_color": null,
            "description_width": ""
          }
        },
        "0717b0b1c23647998f6be7f85d254dda": {
          "model_module": "@jupyter-widgets/base",
          "model_name": "LayoutModel",
          "model_module_version": "1.2.0",
          "state": {
            "_model_module": "@jupyter-widgets/base",
            "_model_module_version": "1.2.0",
            "_model_name": "LayoutModel",
            "_view_count": null,
            "_view_module": "@jupyter-widgets/base",
            "_view_module_version": "1.2.0",
            "_view_name": "LayoutView",
            "align_content": null,
            "align_items": null,
            "align_self": null,
            "border": null,
            "bottom": null,
            "display": null,
            "flex": null,
            "flex_flow": null,
            "grid_area": null,
            "grid_auto_columns": null,
            "grid_auto_flow": null,
            "grid_auto_rows": null,
            "grid_column": null,
            "grid_gap": null,
            "grid_row": null,
            "grid_template_areas": null,
            "grid_template_columns": null,
            "grid_template_rows": null,
            "height": null,
            "justify_content": null,
            "justify_items": null,
            "left": null,
            "margin": null,
            "max_height": null,
            "max_width": null,
            "min_height": null,
            "min_width": null,
            "object_fit": null,
            "object_position": null,
            "order": null,
            "overflow": null,
            "overflow_x": null,
            "overflow_y": null,
            "padding": null,
            "right": null,
            "top": null,
            "visibility": null,
            "width": null
          }
        },
        "2beb7923cf424fdb90320980a3a11bbe": {
          "model_module": "@jupyter-widgets/controls",
          "model_name": "DescriptionStyleModel",
          "model_module_version": "1.5.0",
          "state": {
            "_model_module": "@jupyter-widgets/controls",
            "_model_module_version": "1.5.0",
            "_model_name": "DescriptionStyleModel",
            "_view_count": null,
            "_view_module": "@jupyter-widgets/base",
            "_view_module_version": "1.2.0",
            "_view_name": "StyleView",
            "description_width": ""
          }
        },
        "f177d415bab7451ab0d3532a1fccf324": {
          "model_module": "@jupyter-widgets/controls",
          "model_name": "HBoxModel",
          "model_module_version": "1.5.0",
          "state": {
            "_dom_classes": [],
            "_model_module": "@jupyter-widgets/controls",
            "_model_module_version": "1.5.0",
            "_model_name": "HBoxModel",
            "_view_count": null,
            "_view_module": "@jupyter-widgets/controls",
            "_view_module_version": "1.5.0",
            "_view_name": "HBoxView",
            "box_style": "",
            "children": [
              "IPY_MODEL_07cc682054434ee2ae1bddf0b374ac1c",
              "IPY_MODEL_4fdc142c81454190863b98b82fafee10",
              "IPY_MODEL_8628b2d4eade48a0be4146316de55046"
            ],
            "layout": "IPY_MODEL_d34413919a32495583a48cf2e1edac2a"
          }
        },
        "07cc682054434ee2ae1bddf0b374ac1c": {
          "model_module": "@jupyter-widgets/controls",
          "model_name": "HTMLModel",
          "model_module_version": "1.5.0",
          "state": {
            "_dom_classes": [],
            "_model_module": "@jupyter-widgets/controls",
            "_model_module_version": "1.5.0",
            "_model_name": "HTMLModel",
            "_view_count": null,
            "_view_module": "@jupyter-widgets/controls",
            "_view_module_version": "1.5.0",
            "_view_name": "HTMLView",
            "description": "",
            "description_tooltip": null,
            "layout": "IPY_MODEL_f728c9f228cb4944a0e8751cae95ac0b",
            "placeholder": "​",
            "style": "IPY_MODEL_5adab803c6624dc2b6bdf9b87241b4f7",
            "value": "Testing DataLoader 0: 100%"
          }
        },
        "4fdc142c81454190863b98b82fafee10": {
          "model_module": "@jupyter-widgets/controls",
          "model_name": "FloatProgressModel",
          "model_module_version": "1.5.0",
          "state": {
            "_dom_classes": [],
            "_model_module": "@jupyter-widgets/controls",
            "_model_module_version": "1.5.0",
            "_model_name": "FloatProgressModel",
            "_view_count": null,
            "_view_module": "@jupyter-widgets/controls",
            "_view_module_version": "1.5.0",
            "_view_name": "ProgressView",
            "bar_style": "success",
            "description": "",
            "description_tooltip": null,
            "layout": "IPY_MODEL_b70c1ced47754f71aca721873508a47d",
            "max": 1,
            "min": 0,
            "orientation": "horizontal",
            "style": "IPY_MODEL_a25cb2b35fbe45659c912ad643bbb3a8",
            "value": 1
          }
        },
        "8628b2d4eade48a0be4146316de55046": {
          "model_module": "@jupyter-widgets/controls",
          "model_name": "HTMLModel",
          "model_module_version": "1.5.0",
          "state": {
            "_dom_classes": [],
            "_model_module": "@jupyter-widgets/controls",
            "_model_module_version": "1.5.0",
            "_model_name": "HTMLModel",
            "_view_count": null,
            "_view_module": "@jupyter-widgets/controls",
            "_view_module_version": "1.5.0",
            "_view_name": "HTMLView",
            "description": "",
            "description_tooltip": null,
            "layout": "IPY_MODEL_a9b64ed5c0b349cc8fdbcdba2385241b",
            "placeholder": "​",
            "style": "IPY_MODEL_55dc4ad903e24e20a9ae424dc4981eaf",
            "value": " 40/40 [00:03&lt;00:00, 12.79it/s]"
          }
        },
        "d34413919a32495583a48cf2e1edac2a": {
          "model_module": "@jupyter-widgets/base",
          "model_name": "LayoutModel",
          "model_module_version": "1.2.0",
          "state": {
            "_model_module": "@jupyter-widgets/base",
            "_model_module_version": "1.2.0",
            "_model_name": "LayoutModel",
            "_view_count": null,
            "_view_module": "@jupyter-widgets/base",
            "_view_module_version": "1.2.0",
            "_view_name": "LayoutView",
            "align_content": null,
            "align_items": null,
            "align_self": null,
            "border": null,
            "bottom": null,
            "display": "inline-flex",
            "flex": null,
            "flex_flow": "row wrap",
            "grid_area": null,
            "grid_auto_columns": null,
            "grid_auto_flow": null,
            "grid_auto_rows": null,
            "grid_column": null,
            "grid_gap": null,
            "grid_row": null,
            "grid_template_areas": null,
            "grid_template_columns": null,
            "grid_template_rows": null,
            "height": null,
            "justify_content": null,
            "justify_items": null,
            "left": null,
            "margin": null,
            "max_height": null,
            "max_width": null,
            "min_height": null,
            "min_width": null,
            "object_fit": null,
            "object_position": null,
            "order": null,
            "overflow": null,
            "overflow_x": null,
            "overflow_y": null,
            "padding": null,
            "right": null,
            "top": null,
            "visibility": null,
            "width": "100%"
          }
        },
        "f728c9f228cb4944a0e8751cae95ac0b": {
          "model_module": "@jupyter-widgets/base",
          "model_name": "LayoutModel",
          "model_module_version": "1.2.0",
          "state": {
            "_model_module": "@jupyter-widgets/base",
            "_model_module_version": "1.2.0",
            "_model_name": "LayoutModel",
            "_view_count": null,
            "_view_module": "@jupyter-widgets/base",
            "_view_module_version": "1.2.0",
            "_view_name": "LayoutView",
            "align_content": null,
            "align_items": null,
            "align_self": null,
            "border": null,
            "bottom": null,
            "display": null,
            "flex": null,
            "flex_flow": null,
            "grid_area": null,
            "grid_auto_columns": null,
            "grid_auto_flow": null,
            "grid_auto_rows": null,
            "grid_column": null,
            "grid_gap": null,
            "grid_row": null,
            "grid_template_areas": null,
            "grid_template_columns": null,
            "grid_template_rows": null,
            "height": null,
            "justify_content": null,
            "justify_items": null,
            "left": null,
            "margin": null,
            "max_height": null,
            "max_width": null,
            "min_height": null,
            "min_width": null,
            "object_fit": null,
            "object_position": null,
            "order": null,
            "overflow": null,
            "overflow_x": null,
            "overflow_y": null,
            "padding": null,
            "right": null,
            "top": null,
            "visibility": null,
            "width": null
          }
        },
        "5adab803c6624dc2b6bdf9b87241b4f7": {
          "model_module": "@jupyter-widgets/controls",
          "model_name": "DescriptionStyleModel",
          "model_module_version": "1.5.0",
          "state": {
            "_model_module": "@jupyter-widgets/controls",
            "_model_module_version": "1.5.0",
            "_model_name": "DescriptionStyleModel",
            "_view_count": null,
            "_view_module": "@jupyter-widgets/base",
            "_view_module_version": "1.2.0",
            "_view_name": "StyleView",
            "description_width": ""
          }
        },
        "b70c1ced47754f71aca721873508a47d": {
          "model_module": "@jupyter-widgets/base",
          "model_name": "LayoutModel",
          "model_module_version": "1.2.0",
          "state": {
            "_model_module": "@jupyter-widgets/base",
            "_model_module_version": "1.2.0",
            "_model_name": "LayoutModel",
            "_view_count": null,
            "_view_module": "@jupyter-widgets/base",
            "_view_module_version": "1.2.0",
            "_view_name": "LayoutView",
            "align_content": null,
            "align_items": null,
            "align_self": null,
            "border": null,
            "bottom": null,
            "display": null,
            "flex": "2",
            "flex_flow": null,
            "grid_area": null,
            "grid_auto_columns": null,
            "grid_auto_flow": null,
            "grid_auto_rows": null,
            "grid_column": null,
            "grid_gap": null,
            "grid_row": null,
            "grid_template_areas": null,
            "grid_template_columns": null,
            "grid_template_rows": null,
            "height": null,
            "justify_content": null,
            "justify_items": null,
            "left": null,
            "margin": null,
            "max_height": null,
            "max_width": null,
            "min_height": null,
            "min_width": null,
            "object_fit": null,
            "object_position": null,
            "order": null,
            "overflow": null,
            "overflow_x": null,
            "overflow_y": null,
            "padding": null,
            "right": null,
            "top": null,
            "visibility": null,
            "width": null
          }
        },
        "a25cb2b35fbe45659c912ad643bbb3a8": {
          "model_module": "@jupyter-widgets/controls",
          "model_name": "ProgressStyleModel",
          "model_module_version": "1.5.0",
          "state": {
            "_model_module": "@jupyter-widgets/controls",
            "_model_module_version": "1.5.0",
            "_model_name": "ProgressStyleModel",
            "_view_count": null,
            "_view_module": "@jupyter-widgets/base",
            "_view_module_version": "1.2.0",
            "_view_name": "StyleView",
            "bar_color": null,
            "description_width": ""
          }
        },
        "a9b64ed5c0b349cc8fdbcdba2385241b": {
          "model_module": "@jupyter-widgets/base",
          "model_name": "LayoutModel",
          "model_module_version": "1.2.0",
          "state": {
            "_model_module": "@jupyter-widgets/base",
            "_model_module_version": "1.2.0",
            "_model_name": "LayoutModel",
            "_view_count": null,
            "_view_module": "@jupyter-widgets/base",
            "_view_module_version": "1.2.0",
            "_view_name": "LayoutView",
            "align_content": null,
            "align_items": null,
            "align_self": null,
            "border": null,
            "bottom": null,
            "display": null,
            "flex": null,
            "flex_flow": null,
            "grid_area": null,
            "grid_auto_columns": null,
            "grid_auto_flow": null,
            "grid_auto_rows": null,
            "grid_column": null,
            "grid_gap": null,
            "grid_row": null,
            "grid_template_areas": null,
            "grid_template_columns": null,
            "grid_template_rows": null,
            "height": null,
            "justify_content": null,
            "justify_items": null,
            "left": null,
            "margin": null,
            "max_height": null,
            "max_width": null,
            "min_height": null,
            "min_width": null,
            "object_fit": null,
            "object_position": null,
            "order": null,
            "overflow": null,
            "overflow_x": null,
            "overflow_y": null,
            "padding": null,
            "right": null,
            "top": null,
            "visibility": null,
            "width": null
          }
        },
        "55dc4ad903e24e20a9ae424dc4981eaf": {
          "model_module": "@jupyter-widgets/controls",
          "model_name": "DescriptionStyleModel",
          "model_module_version": "1.5.0",
          "state": {
            "_model_module": "@jupyter-widgets/controls",
            "_model_module_version": "1.5.0",
            "_model_name": "DescriptionStyleModel",
            "_view_count": null,
            "_view_module": "@jupyter-widgets/base",
            "_view_module_version": "1.2.0",
            "_view_name": "StyleView",
            "description_width": ""
          }
        },
        "b1e527cd46bf42628972e7c0a558341f": {
          "model_module": "@jupyter-widgets/controls",
          "model_name": "HBoxModel",
          "model_module_version": "1.5.0",
          "state": {
            "_dom_classes": [],
            "_model_module": "@jupyter-widgets/controls",
            "_model_module_version": "1.5.0",
            "_model_name": "HBoxModel",
            "_view_count": null,
            "_view_module": "@jupyter-widgets/controls",
            "_view_module_version": "1.5.0",
            "_view_name": "HBoxView",
            "box_style": "",
            "children": [
              "IPY_MODEL_34dfcc805a284c42b2747de2304df350",
              "IPY_MODEL_f8f7bff21fc444b98756c6ae3e786370",
              "IPY_MODEL_f281859776684c6484501e4d414ff4db"
            ],
            "layout": "IPY_MODEL_e06336b7a2ae4118a21acf82833c46fe"
          }
        },
        "34dfcc805a284c42b2747de2304df350": {
          "model_module": "@jupyter-widgets/controls",
          "model_name": "HTMLModel",
          "model_module_version": "1.5.0",
          "state": {
            "_dom_classes": [],
            "_model_module": "@jupyter-widgets/controls",
            "_model_module_version": "1.5.0",
            "_model_name": "HTMLModel",
            "_view_count": null,
            "_view_module": "@jupyter-widgets/controls",
            "_view_module_version": "1.5.0",
            "_view_name": "HTMLView",
            "description": "",
            "description_tooltip": null,
            "layout": "IPY_MODEL_f88009d93d3749f9aaa0f40f1765e3d2",
            "placeholder": "​",
            "style": "IPY_MODEL_92d79cdf46b64df0849877c330d53069",
            "value": "Testing DataLoader 0: 100%"
          }
        },
        "f8f7bff21fc444b98756c6ae3e786370": {
          "model_module": "@jupyter-widgets/controls",
          "model_name": "FloatProgressModel",
          "model_module_version": "1.5.0",
          "state": {
            "_dom_classes": [],
            "_model_module": "@jupyter-widgets/controls",
            "_model_module_version": "1.5.0",
            "_model_name": "FloatProgressModel",
            "_view_count": null,
            "_view_module": "@jupyter-widgets/controls",
            "_view_module_version": "1.5.0",
            "_view_name": "ProgressView",
            "bar_style": "success",
            "description": "",
            "description_tooltip": null,
            "layout": "IPY_MODEL_42b842df16244280b4476cc721972a10",
            "max": 1,
            "min": 0,
            "orientation": "horizontal",
            "style": "IPY_MODEL_9bf37b180a154d239325d43979694815",
            "value": 1
          }
        },
        "f281859776684c6484501e4d414ff4db": {
          "model_module": "@jupyter-widgets/controls",
          "model_name": "HTMLModel",
          "model_module_version": "1.5.0",
          "state": {
            "_dom_classes": [],
            "_model_module": "@jupyter-widgets/controls",
            "_model_module_version": "1.5.0",
            "_model_name": "HTMLModel",
            "_view_count": null,
            "_view_module": "@jupyter-widgets/controls",
            "_view_module_version": "1.5.0",
            "_view_name": "HTMLView",
            "description": "",
            "description_tooltip": null,
            "layout": "IPY_MODEL_8d2739b0c15047829d32c55573977a6a",
            "placeholder": "​",
            "style": "IPY_MODEL_3e73ebef51114d0fa779c12f9dd3165d",
            "value": " 79/79 [00:05&lt;00:00, 15.11it/s]"
          }
        },
        "e06336b7a2ae4118a21acf82833c46fe": {
          "model_module": "@jupyter-widgets/base",
          "model_name": "LayoutModel",
          "model_module_version": "1.2.0",
          "state": {
            "_model_module": "@jupyter-widgets/base",
            "_model_module_version": "1.2.0",
            "_model_name": "LayoutModel",
            "_view_count": null,
            "_view_module": "@jupyter-widgets/base",
            "_view_module_version": "1.2.0",
            "_view_name": "LayoutView",
            "align_content": null,
            "align_items": null,
            "align_self": null,
            "border": null,
            "bottom": null,
            "display": "inline-flex",
            "flex": null,
            "flex_flow": "row wrap",
            "grid_area": null,
            "grid_auto_columns": null,
            "grid_auto_flow": null,
            "grid_auto_rows": null,
            "grid_column": null,
            "grid_gap": null,
            "grid_row": null,
            "grid_template_areas": null,
            "grid_template_columns": null,
            "grid_template_rows": null,
            "height": null,
            "justify_content": null,
            "justify_items": null,
            "left": null,
            "margin": null,
            "max_height": null,
            "max_width": null,
            "min_height": null,
            "min_width": null,
            "object_fit": null,
            "object_position": null,
            "order": null,
            "overflow": null,
            "overflow_x": null,
            "overflow_y": null,
            "padding": null,
            "right": null,
            "top": null,
            "visibility": null,
            "width": "100%"
          }
        },
        "f88009d93d3749f9aaa0f40f1765e3d2": {
          "model_module": "@jupyter-widgets/base",
          "model_name": "LayoutModel",
          "model_module_version": "1.2.0",
          "state": {
            "_model_module": "@jupyter-widgets/base",
            "_model_module_version": "1.2.0",
            "_model_name": "LayoutModel",
            "_view_count": null,
            "_view_module": "@jupyter-widgets/base",
            "_view_module_version": "1.2.0",
            "_view_name": "LayoutView",
            "align_content": null,
            "align_items": null,
            "align_self": null,
            "border": null,
            "bottom": null,
            "display": null,
            "flex": null,
            "flex_flow": null,
            "grid_area": null,
            "grid_auto_columns": null,
            "grid_auto_flow": null,
            "grid_auto_rows": null,
            "grid_column": null,
            "grid_gap": null,
            "grid_row": null,
            "grid_template_areas": null,
            "grid_template_columns": null,
            "grid_template_rows": null,
            "height": null,
            "justify_content": null,
            "justify_items": null,
            "left": null,
            "margin": null,
            "max_height": null,
            "max_width": null,
            "min_height": null,
            "min_width": null,
            "object_fit": null,
            "object_position": null,
            "order": null,
            "overflow": null,
            "overflow_x": null,
            "overflow_y": null,
            "padding": null,
            "right": null,
            "top": null,
            "visibility": null,
            "width": null
          }
        },
        "92d79cdf46b64df0849877c330d53069": {
          "model_module": "@jupyter-widgets/controls",
          "model_name": "DescriptionStyleModel",
          "model_module_version": "1.5.0",
          "state": {
            "_model_module": "@jupyter-widgets/controls",
            "_model_module_version": "1.5.0",
            "_model_name": "DescriptionStyleModel",
            "_view_count": null,
            "_view_module": "@jupyter-widgets/base",
            "_view_module_version": "1.2.0",
            "_view_name": "StyleView",
            "description_width": ""
          }
        },
        "42b842df16244280b4476cc721972a10": {
          "model_module": "@jupyter-widgets/base",
          "model_name": "LayoutModel",
          "model_module_version": "1.2.0",
          "state": {
            "_model_module": "@jupyter-widgets/base",
            "_model_module_version": "1.2.0",
            "_model_name": "LayoutModel",
            "_view_count": null,
            "_view_module": "@jupyter-widgets/base",
            "_view_module_version": "1.2.0",
            "_view_name": "LayoutView",
            "align_content": null,
            "align_items": null,
            "align_self": null,
            "border": null,
            "bottom": null,
            "display": null,
            "flex": "2",
            "flex_flow": null,
            "grid_area": null,
            "grid_auto_columns": null,
            "grid_auto_flow": null,
            "grid_auto_rows": null,
            "grid_column": null,
            "grid_gap": null,
            "grid_row": null,
            "grid_template_areas": null,
            "grid_template_columns": null,
            "grid_template_rows": null,
            "height": null,
            "justify_content": null,
            "justify_items": null,
            "left": null,
            "margin": null,
            "max_height": null,
            "max_width": null,
            "min_height": null,
            "min_width": null,
            "object_fit": null,
            "object_position": null,
            "order": null,
            "overflow": null,
            "overflow_x": null,
            "overflow_y": null,
            "padding": null,
            "right": null,
            "top": null,
            "visibility": null,
            "width": null
          }
        },
        "9bf37b180a154d239325d43979694815": {
          "model_module": "@jupyter-widgets/controls",
          "model_name": "ProgressStyleModel",
          "model_module_version": "1.5.0",
          "state": {
            "_model_module": "@jupyter-widgets/controls",
            "_model_module_version": "1.5.0",
            "_model_name": "ProgressStyleModel",
            "_view_count": null,
            "_view_module": "@jupyter-widgets/base",
            "_view_module_version": "1.2.0",
            "_view_name": "StyleView",
            "bar_color": null,
            "description_width": ""
          }
        },
        "8d2739b0c15047829d32c55573977a6a": {
          "model_module": "@jupyter-widgets/base",
          "model_name": "LayoutModel",
          "model_module_version": "1.2.0",
          "state": {
            "_model_module": "@jupyter-widgets/base",
            "_model_module_version": "1.2.0",
            "_model_name": "LayoutModel",
            "_view_count": null,
            "_view_module": "@jupyter-widgets/base",
            "_view_module_version": "1.2.0",
            "_view_name": "LayoutView",
            "align_content": null,
            "align_items": null,
            "align_self": null,
            "border": null,
            "bottom": null,
            "display": null,
            "flex": null,
            "flex_flow": null,
            "grid_area": null,
            "grid_auto_columns": null,
            "grid_auto_flow": null,
            "grid_auto_rows": null,
            "grid_column": null,
            "grid_gap": null,
            "grid_row": null,
            "grid_template_areas": null,
            "grid_template_columns": null,
            "grid_template_rows": null,
            "height": null,
            "justify_content": null,
            "justify_items": null,
            "left": null,
            "margin": null,
            "max_height": null,
            "max_width": null,
            "min_height": null,
            "min_width": null,
            "object_fit": null,
            "object_position": null,
            "order": null,
            "overflow": null,
            "overflow_x": null,
            "overflow_y": null,
            "padding": null,
            "right": null,
            "top": null,
            "visibility": null,
            "width": null
          }
        },
        "3e73ebef51114d0fa779c12f9dd3165d": {
          "model_module": "@jupyter-widgets/controls",
          "model_name": "DescriptionStyleModel",
          "model_module_version": "1.5.0",
          "state": {
            "_model_module": "@jupyter-widgets/controls",
            "_model_module_version": "1.5.0",
            "_model_name": "DescriptionStyleModel",
            "_view_count": null,
            "_view_module": "@jupyter-widgets/base",
            "_view_module_version": "1.2.0",
            "_view_name": "StyleView",
            "description_width": ""
          }
        }
      }
    }
  },
  "cells": [
    {
      "cell_type": "markdown",
      "metadata": {
        "id": "view-in-github",
        "colab_type": "text"
      },
      "source": [
        "<a href=\"https://colab.research.google.com/github/EkaFitriRamadani/PengantarDeepLearning2022/blob/main/UTS_PengantarDeepLearning_.ipynb\" target=\"_parent\"><img src=\"https://colab.research.google.com/assets/colab-badge.svg\" alt=\"Open In Colab\"/></a>"
      ]
    },
    {
      "cell_type": "markdown",
      "source": [
        "Nama Anggota Kelompok:\n",
        "1. Rahmi (H071191007)\n",
        "2. Eka Fitri Ramadani (H071191043)\n",
        "3. Alika Oktaviani (H071191057)\n"
      ],
      "metadata": {
        "id": "I0GBuowHWJ-L"
      }
    },
    {
      "cell_type": "markdown",
      "source": [
        "Dalam tutorial ini, kita akan menerapkan dan membahas varian arsitektur modern CNN. Ada banyak arsitektur yang berbeda telah diusulkan selama beberapa tahun terakhir. Beberapa yang paling berdampak, dan masih relevan saat ini, adalah sebagai berikut: arsitektur GoogleNet / Inception (pemenang ILSVRC 2014), ResNet (pemenang ILSVRC 2015), dan DenseNet (penghargaan paper terbaik CVPR 2017). Semuanya adalah model canggih ketika diusulkan, dan ide-ide inti dari jaringan ini adalah dasar untuk sebagian besar arsitektur canggih saat ini. Dengan demikian, penting untuk memahami arsitektur ini secara rinci dan belajar bagaimana menerapkannya.\n",
        "\n",
        "Mari kita mulai dengan mengimpor library standar kami di sini."
      ],
      "metadata": {
        "id": "jWwAy7HzVusL"
      }
    },
    {
      "cell_type": "code",
      "source": [
        "!pip install -q torch==1.10.0 torchvision"
      ],
      "metadata": {
        "id": "3Ke-0cCqM6wj"
      },
      "execution_count": 1,
      "outputs": []
    },
    {
      "cell_type": "code",
      "source": [
        "!pip install pytorch-lightning"
      ],
      "metadata": {
        "colab": {
          "base_uri": "https://localhost:8080/"
        },
        "id": "g3v2YPEPM9E7",
        "outputId": "33416071-f082-4dc4-f55d-99cd4b71ecfb"
      },
      "execution_count": 2,
      "outputs": [
        {
          "output_type": "stream",
          "name": "stdout",
          "text": [
            "Requirement already satisfied: pytorch-lightning in /usr/local/lib/python3.7/dist-packages (1.6.2)\n",
            "Requirement already satisfied: pyDeprecate<0.4.0,>=0.3.1 in /usr/local/lib/python3.7/dist-packages (from pytorch-lightning) (0.3.2)\n",
            "Requirement already satisfied: packaging>=17.0 in /usr/local/lib/python3.7/dist-packages (from pytorch-lightning) (21.3)\n",
            "Requirement already satisfied: tensorboard>=2.2.0 in /usr/local/lib/python3.7/dist-packages (from pytorch-lightning) (2.8.0)\n",
            "Requirement already satisfied: torch>=1.8.* in /usr/local/lib/python3.7/dist-packages (from pytorch-lightning) (1.10.0)\n",
            "Requirement already satisfied: tqdm>=4.41.0 in /usr/local/lib/python3.7/dist-packages (from pytorch-lightning) (4.64.0)\n",
            "Requirement already satisfied: typing-extensions>=4.0.0 in /usr/local/lib/python3.7/dist-packages (from pytorch-lightning) (4.2.0)\n",
            "Requirement already satisfied: torchmetrics>=0.4.1 in /usr/local/lib/python3.7/dist-packages (from pytorch-lightning) (0.8.1)\n",
            "Requirement already satisfied: fsspec[http]!=2021.06.0,>=2021.05.0 in /usr/local/lib/python3.7/dist-packages (from pytorch-lightning) (2022.3.0)\n",
            "Requirement already satisfied: PyYAML>=5.4 in /usr/local/lib/python3.7/dist-packages (from pytorch-lightning) (6.0)\n",
            "Requirement already satisfied: numpy>=1.17.2 in /usr/local/lib/python3.7/dist-packages (from pytorch-lightning) (1.21.6)\n",
            "Requirement already satisfied: aiohttp in /usr/local/lib/python3.7/dist-packages (from fsspec[http]!=2021.06.0,>=2021.05.0->pytorch-lightning) (3.8.1)\n",
            "Requirement already satisfied: requests in /usr/local/lib/python3.7/dist-packages (from fsspec[http]!=2021.06.0,>=2021.05.0->pytorch-lightning) (2.23.0)\n",
            "Requirement already satisfied: pyparsing!=3.0.5,>=2.0.2 in /usr/local/lib/python3.7/dist-packages (from packaging>=17.0->pytorch-lightning) (3.0.8)\n",
            "Requirement already satisfied: tensorboard-plugin-wit>=1.6.0 in /usr/local/lib/python3.7/dist-packages (from tensorboard>=2.2.0->pytorch-lightning) (1.8.1)\n",
            "Requirement already satisfied: grpcio>=1.24.3 in /usr/local/lib/python3.7/dist-packages (from tensorboard>=2.2.0->pytorch-lightning) (1.44.0)\n",
            "Requirement already satisfied: setuptools>=41.0.0 in /usr/local/lib/python3.7/dist-packages (from tensorboard>=2.2.0->pytorch-lightning) (57.4.0)\n",
            "Requirement already satisfied: werkzeug>=0.11.15 in /usr/local/lib/python3.7/dist-packages (from tensorboard>=2.2.0->pytorch-lightning) (1.0.1)\n",
            "Requirement already satisfied: google-auth-oauthlib<0.5,>=0.4.1 in /usr/local/lib/python3.7/dist-packages (from tensorboard>=2.2.0->pytorch-lightning) (0.4.6)\n",
            "Requirement already satisfied: google-auth<3,>=1.6.3 in /usr/local/lib/python3.7/dist-packages (from tensorboard>=2.2.0->pytorch-lightning) (1.35.0)\n",
            "Requirement already satisfied: protobuf>=3.6.0 in /usr/local/lib/python3.7/dist-packages (from tensorboard>=2.2.0->pytorch-lightning) (3.17.3)\n",
            "Requirement already satisfied: absl-py>=0.4 in /usr/local/lib/python3.7/dist-packages (from tensorboard>=2.2.0->pytorch-lightning) (1.0.0)\n",
            "Requirement already satisfied: wheel>=0.26 in /usr/local/lib/python3.7/dist-packages (from tensorboard>=2.2.0->pytorch-lightning) (0.37.1)\n",
            "Requirement already satisfied: tensorboard-data-server<0.7.0,>=0.6.0 in /usr/local/lib/python3.7/dist-packages (from tensorboard>=2.2.0->pytorch-lightning) (0.6.1)\n",
            "Requirement already satisfied: markdown>=2.6.8 in /usr/local/lib/python3.7/dist-packages (from tensorboard>=2.2.0->pytorch-lightning) (3.3.6)\n",
            "Requirement already satisfied: six in /usr/local/lib/python3.7/dist-packages (from absl-py>=0.4->tensorboard>=2.2.0->pytorch-lightning) (1.15.0)\n",
            "Requirement already satisfied: cachetools<5.0,>=2.0.0 in /usr/local/lib/python3.7/dist-packages (from google-auth<3,>=1.6.3->tensorboard>=2.2.0->pytorch-lightning) (4.2.4)\n",
            "Requirement already satisfied: rsa<5,>=3.1.4 in /usr/local/lib/python3.7/dist-packages (from google-auth<3,>=1.6.3->tensorboard>=2.2.0->pytorch-lightning) (4.8)\n",
            "Requirement already satisfied: pyasn1-modules>=0.2.1 in /usr/local/lib/python3.7/dist-packages (from google-auth<3,>=1.6.3->tensorboard>=2.2.0->pytorch-lightning) (0.2.8)\n",
            "Requirement already satisfied: requests-oauthlib>=0.7.0 in /usr/local/lib/python3.7/dist-packages (from google-auth-oauthlib<0.5,>=0.4.1->tensorboard>=2.2.0->pytorch-lightning) (1.3.1)\n",
            "Requirement already satisfied: importlib-metadata>=4.4 in /usr/local/lib/python3.7/dist-packages (from markdown>=2.6.8->tensorboard>=2.2.0->pytorch-lightning) (4.11.3)\n",
            "Requirement already satisfied: zipp>=0.5 in /usr/local/lib/python3.7/dist-packages (from importlib-metadata>=4.4->markdown>=2.6.8->tensorboard>=2.2.0->pytorch-lightning) (3.8.0)\n",
            "Requirement already satisfied: pyasn1<0.5.0,>=0.4.6 in /usr/local/lib/python3.7/dist-packages (from pyasn1-modules>=0.2.1->google-auth<3,>=1.6.3->tensorboard>=2.2.0->pytorch-lightning) (0.4.8)\n",
            "Requirement already satisfied: idna<3,>=2.5 in /usr/local/lib/python3.7/dist-packages (from requests->fsspec[http]!=2021.06.0,>=2021.05.0->pytorch-lightning) (2.10)\n",
            "Requirement already satisfied: chardet<4,>=3.0.2 in /usr/local/lib/python3.7/dist-packages (from requests->fsspec[http]!=2021.06.0,>=2021.05.0->pytorch-lightning) (3.0.4)\n",
            "Requirement already satisfied: urllib3!=1.25.0,!=1.25.1,<1.26,>=1.21.1 in /usr/local/lib/python3.7/dist-packages (from requests->fsspec[http]!=2021.06.0,>=2021.05.0->pytorch-lightning) (1.24.3)\n",
            "Requirement already satisfied: certifi>=2017.4.17 in /usr/local/lib/python3.7/dist-packages (from requests->fsspec[http]!=2021.06.0,>=2021.05.0->pytorch-lightning) (2021.10.8)\n",
            "Requirement already satisfied: oauthlib>=3.0.0 in /usr/local/lib/python3.7/dist-packages (from requests-oauthlib>=0.7.0->google-auth-oauthlib<0.5,>=0.4.1->tensorboard>=2.2.0->pytorch-lightning) (3.2.0)\n",
            "Requirement already satisfied: charset-normalizer<3.0,>=2.0 in /usr/local/lib/python3.7/dist-packages (from aiohttp->fsspec[http]!=2021.06.0,>=2021.05.0->pytorch-lightning) (2.0.12)\n",
            "Requirement already satisfied: yarl<2.0,>=1.0 in /usr/local/lib/python3.7/dist-packages (from aiohttp->fsspec[http]!=2021.06.0,>=2021.05.0->pytorch-lightning) (1.7.2)\n",
            "Requirement already satisfied: async-timeout<5.0,>=4.0.0a3 in /usr/local/lib/python3.7/dist-packages (from aiohttp->fsspec[http]!=2021.06.0,>=2021.05.0->pytorch-lightning) (4.0.2)\n",
            "Requirement already satisfied: frozenlist>=1.1.1 in /usr/local/lib/python3.7/dist-packages (from aiohttp->fsspec[http]!=2021.06.0,>=2021.05.0->pytorch-lightning) (1.3.0)\n",
            "Requirement already satisfied: asynctest==0.13.0 in /usr/local/lib/python3.7/dist-packages (from aiohttp->fsspec[http]!=2021.06.0,>=2021.05.0->pytorch-lightning) (0.13.0)\n",
            "Requirement already satisfied: aiosignal>=1.1.2 in /usr/local/lib/python3.7/dist-packages (from aiohttp->fsspec[http]!=2021.06.0,>=2021.05.0->pytorch-lightning) (1.2.0)\n",
            "Requirement already satisfied: multidict<7.0,>=4.5 in /usr/local/lib/python3.7/dist-packages (from aiohttp->fsspec[http]!=2021.06.0,>=2021.05.0->pytorch-lightning) (6.0.2)\n",
            "Requirement already satisfied: attrs>=17.3.0 in /usr/local/lib/python3.7/dist-packages (from aiohttp->fsspec[http]!=2021.06.0,>=2021.05.0->pytorch-lightning) (21.4.0)\n"
          ]
        }
      ]
    },
    {
      "cell_type": "code",
      "execution_count": 3,
      "metadata": {
        "id": "kVXgeQgxL80l"
      },
      "outputs": [],
      "source": [
        "## Standard libraries\n",
        "import os\n",
        "import numpy as np #Untuk proses komputasi numerik \n",
        "import random   #Untuk menghasilkan angka acak\n",
        "from PIL import Image  #Untuk mengambil gambar\n",
        "from types import SimpleNamespace\n",
        "\n",
        "## Imports for plotting\n",
        "import matplotlib.pyplot as plt\n",
        "%matplotlib inline \n",
        "from IPython.display import set_matplotlib_formats\n",
        "set_matplotlib_formats('svg', 'pdf') # For export\n",
        "import matplotlib\n",
        "matplotlib.rcParams['lines.linewidth'] = 2.0\n",
        "import seaborn as sns\n",
        "sns.reset_orig()\n",
        "\n",
        "## PyTorch\n",
        "import torch\n",
        "import torch.nn as nn\n",
        "import torch.utils.data as data\n",
        "import torch.optim as optim\n",
        "# Torchvision\n",
        "import torchvision\n",
        "from torchvision.datasets import CIFAR10\n",
        "from torchvision import transforms"
      ]
    },
    {
      "cell_type": "markdown",
      "source": [
        "Kita akan menggunakan fungsi set_seed yang sama seperti pada tutorial sebelumnya, serta menggunakan variabel DATASET_PATH dan CHECKPOINT_PATH"
      ],
      "metadata": {
        "id": "IFkyHoWu80N4"
      }
    },
    {
      "cell_type": "code",
      "source": [
        "# Path to the folder where the datasets are/should be downloaded (e.g. CIFAR10)\n",
        "DATASET_PATH = \"../data\"\n",
        "# Path to the folder where the pretrained models are saved\n",
        "CHECKPOINT_PATH = \"../saved_models/tutorial5\"\n",
        "\n",
        "# Function for setting the seed\n",
        "def set_seed(seed):\n",
        "    random.seed(seed)\n",
        "    np.random.seed(seed)\n",
        "    torch.manual_seed(seed)\n",
        "    if torch.cuda.is_available():\n",
        "        torch.cuda.manual_seed(seed)\n",
        "        torch.cuda.manual_seed_all(seed)\n",
        "set_seed(42)\n",
        "\n",
        "# Ensure that all operations are deterministic on GPU (if used) for reproducibility\n",
        "torch.backends.cudnn.determinstic = True\n",
        "torch.backends.cudnn.benchmark = False\n",
        "\n",
        "device = torch.device(\"cuda:0\") if torch.cuda.is_available() else torch.device(\"cpu\")"
      ],
      "metadata": {
        "id": "dTA1689nNbzv"
      },
      "execution_count": 4,
      "outputs": []
    },
    {
      "cell_type": "markdown",
      "source": [
        "Kita juga memiliki model dan Tensoboard yang telah dilatih sebelumnya"
      ],
      "metadata": {
        "id": "FagLzK2F9oRO"
      }
    },
    {
      "cell_type": "code",
      "source": [
        "import urllib.request\n",
        "from urllib.error import HTTPError\n",
        "# Github URL where saved models are stored for this tutorial\n",
        "base_url = \"https://raw.githubusercontent.com/phlippe/saved_models/main/tutorial5/\"\n",
        "# Files to download\n",
        "pretrained_files = [\"GoogleNet.ckpt\", \"ResNet.ckpt\", \"ResNetPreAct.ckpt\", \"DenseNet.ckpt\",\n",
        "                    \"tensorboards/GoogleNet/events.out.tfevents.googlenet\",\n",
        "                    \"tensorboards/ResNet/events.out.tfevents.resnet\",\n",
        "                    \"tensorboards/ResNetPreAct/events.out.tfevents.resnetpreact\",\n",
        "                    \"tensorboards/DenseNet/events.out.tfevents.densenet\"]\n",
        "# Create checkpoint path if it doesn't exist yet\n",
        "os.makedirs(CHECKPOINT_PATH, exist_ok=True)\n",
        "\n",
        "# For each file, check whether it already exists. If not, try downloading it.\n",
        "for file_name in pretrained_files:\n",
        "    file_path = os.path.join(CHECKPOINT_PATH, file_name)\n",
        "    if \"/\" in file_name:\n",
        "        os.makedirs(file_path.rsplit(\"/\",1)[0], exist_ok=True)\n",
        "    if not os.path.isfile(file_path):\n",
        "        file_url = base_url + file_name\n",
        "        print(f\"Downloading {file_url}...\")\n",
        "        try:\n",
        "            urllib.request.urlretrieve(file_url, file_path)\n",
        "        except HTTPError as e:\n",
        "            print(\"Something went wrong. Please try to download the file from the GDrive folder, or contact the author with the full output including the following error:\\n\", e)"
      ],
      "metadata": {
        "id": "jEBWOvsmNb2z"
      },
      "execution_count": 5,
      "outputs": []
    },
    {
      "cell_type": "markdown",
      "source": [
        "Pada tutorial ini, dataset yang akan dilatih dan dievaluasi modelnya adalah dataset CIFAR10. Sebelum datanya dilatih dan dievaluasi, kita perlu melakukan normalisasi dengan cara menghitung nilai mean dan standar deviasi dari dataset CIFAR10 untuk setiap channel red, green dan blue."
      ],
      "metadata": {
        "id": "-iCGJ8nHVtX6"
      }
    },
    {
      "cell_type": "code",
      "source": [
        "train_dataset = CIFAR10(root=DATASET_PATH, train=True, download=True)\n",
        "DATA_MEANS = (train_dataset.data / 255.0).mean(axis=(0,1,2))\n",
        "DATA_STD = (train_dataset.data / 255.0).std(axis=(0,1,2))\n",
        "print(\"Data mean\", DATA_MEANS)\n",
        "print(\"Data std\", DATA_STD)"
      ],
      "metadata": {
        "colab": {
          "base_uri": "https://localhost:8080/"
        },
        "id": "zEgxiY6JNb55",
        "outputId": "26ba41a5-5353-403e-94d5-7f7f33613175"
      },
      "execution_count": 6,
      "outputs": [
        {
          "output_type": "stream",
          "name": "stdout",
          "text": [
            "Files already downloaded and verified\n",
            "Data mean [0.49139968 0.48215841 0.44653091]\n",
            "Data std [0.24703223 0.24348513 0.26158784]\n"
          ]
        }
      ]
    },
    {
      "cell_type": "markdown",
      "source": [
        "Kemudian informasi di atas digunakan untuk mendefinisikan transforms yang merupakan modul normalisasi yang akan menormalkan dataset kita. Selain itu, dilakukan pula augmentasi data selama pelatihan/training. Ini berfungsi untuk mengurangi risiko eoverfitting dan membantu CNN dalam melakukan generalisasi. Disini kita menerapkan dua augmentasi acak.\n",
        "\n",
        "Augemnatasi pertama, kita membalik gambar secara horizontal dengan peluang 50% (transforms.RandomHorizontalFlip) tidak mengubah objeknya. Augmentasi kedua, kita menggunakan (transforms.RandomResizedCrop) yang berfungsi untuk menskalakan gambar dalam rentang kecil, mengubah rasio, dan memotongnya dalam ukuran sebelumnya. Maka nilai piksel aslinya berubah sementara konten  keseluruhan gambarnya tetap sama.\n",
        "\n",
        "Selanjutnya, kita membagi secara acak  dataset training menjadi set pelatihan/training dan set validasi. Set validasi akan digunakan untuk menentukan penghentian awal. Setelah training selesai, kita menguji model pada set test CIFAR10"
      ],
      "metadata": {
        "id": "rYIoBUW_bI4D"
      }
    },
    {
      "cell_type": "code",
      "source": [
        "test_transform = transforms.Compose([transforms.ToTensor(),\n",
        "                                     transforms.Normalize(DATA_MEANS, DATA_STD)\n",
        "                                     ])\n",
        "# For training, we add some augmentation. Networks are too powerful and would overfit.\n",
        "train_transform = transforms.Compose([transforms.RandomHorizontalFlip(),\n",
        "                                      transforms.RandomResizedCrop((32,32),scale=(0.8,1.0),ratio=(0.9,1.1)),\n",
        "                                      transforms.ToTensor(),\n",
        "                                      transforms.Normalize(DATA_MEANS, DATA_STD)\n",
        "                                     ])\n",
        "# Loading the training dataset. We need to split it into a training and validation part\n",
        "# We need to do a little trick because the validation set should not use the augmentation.\n",
        "train_dataset = CIFAR10(root=DATASET_PATH, train=True, transform=train_transform, download=True)\n",
        "val_dataset = CIFAR10(root=DATASET_PATH, train=True, transform=test_transform, download=True)\n",
        "set_seed(42)\n",
        "train_set, _ = torch.utils.data.random_split(train_dataset, [45000, 5000])\n",
        "set_seed(42)\n",
        "_, val_set = torch.utils.data.random_split(val_dataset, [45000, 5000])\n",
        "\n",
        "# Loading the test set\n",
        "test_set = CIFAR10(root=DATASET_PATH, train=False, transform=test_transform, download=True)\n",
        "\n",
        "# We define a set of data loaders that we can use for various purposes later.\n",
        "train_loader = data.DataLoader(train_set, batch_size=128, shuffle=True, drop_last=True, pin_memory=True, num_workers=2)\n",
        "val_loader = data.DataLoader(val_set, batch_size=128, shuffle=False, drop_last=False, num_workers=2)\n",
        "test_loader = data.DataLoader(test_set, batch_size=128, shuffle=False, drop_last=False, num_workers=2)"
      ],
      "metadata": {
        "colab": {
          "base_uri": "https://localhost:8080/"
        },
        "id": "vm4efTrINspj",
        "outputId": "399b4b9d-20d5-4f78-e2cb-3a9c9ceef62c"
      },
      "execution_count": 7,
      "outputs": [
        {
          "output_type": "stream",
          "name": "stdout",
          "text": [
            "Files already downloaded and verified\n",
            "Files already downloaded and verified\n",
            "Files already downloaded and verified\n"
          ]
        }
      ]
    },
    {
      "cell_type": "markdown",
      "source": [
        "Untuk mengetahui bahwa normalisainya berfungsi, kita mencetak mean dan standar deviasi dari single batch. Rata-ratanya harus mendekati 0 dan standar deviasinya mendekati 1 untuk setiap channel."
      ],
      "metadata": {
        "id": "g4EWELwdjh6L"
      }
    },
    {
      "cell_type": "code",
      "source": [
        "imgs, _ = next(iter(train_loader))\n",
        "print(\"Batch mean\", imgs.mean(dim=[0,2,3]))\n",
        "print(\"Batch std\", imgs.std(dim=[0,2,3]))"
      ],
      "metadata": {
        "colab": {
          "base_uri": "https://localhost:8080/"
        },
        "id": "n7e8GZh9OBkQ",
        "outputId": "ffbdbefb-40f3-4b60-8514-ed957d8653e9"
      },
      "execution_count": 8,
      "outputs": [
        {
          "output_type": "stream",
          "name": "stdout",
          "text": [
            "Batch mean tensor([0.0231, 0.0006, 0.0005])\n",
            "Batch std tensor([0.9865, 0.9849, 0.9868])\n"
          ]
        }
      ]
    },
    {
      "cell_type": "markdown",
      "source": [
        "Terakhir, kita melakukan visualisasi pada beberapa gambar dari set training, dan melihat tampilannya setelah dilakukan augmentasi acak."
      ],
      "metadata": {
        "id": "3YO57w1LkdVN"
      }
    },
    {
      "cell_type": "code",
      "source": [
        "NUM_IMAGES = 4\n",
        "images = [train_dataset[idx][0] for idx in range(NUM_IMAGES)]\n",
        "orig_images = [Image.fromarray(train_dataset.data[idx]) for idx in range(NUM_IMAGES)]\n",
        "orig_images = [test_transform(img) for img in orig_images]\n",
        "\n",
        "img_grid = torchvision.utils.make_grid(torch.stack(images + orig_images, dim=0), nrow=4, normalize=True, pad_value=0.5)\n",
        "img_grid = img_grid.permute(1, 2, 0)\n",
        "\n",
        "plt.figure(figsize=(8,8))\n",
        "plt.title(\"Augmentation examples on CIFAR10\")\n",
        "plt.imshow(img_grid)\n",
        "plt.axis('off')\n",
        "plt.show()\n",
        "plt.close()"
      ],
      "metadata": {
        "colab": {
          "base_uri": "https://localhost:8080/",
          "height": 362
        },
        "id": "A0JcouEcOIJq",
        "outputId": "d2bf5603-b18a-4e92-e421-31a07dc9886d"
      },
      "execution_count": 9,
      "outputs": [
        {
          "output_type": "display_data",
          "data": {
            "text/plain": [
              "<Figure size 576x576 with 1 Axes>"
            ],
            "image/svg+xml": "<?xml version=\"1.0\" encoding=\"utf-8\" standalone=\"no\"?>\n<!DOCTYPE svg PUBLIC \"-//W3C//DTD SVG 1.1//EN\"\n  \"http://www.w3.org/Graphics/SVG/1.1/DTD/svg11.dtd\">\n<!-- Created with matplotlib (https://matplotlib.org/) -->\n<svg height=\"255.952908pt\" version=\"1.1\" viewBox=\"0 0 460.8 255.952908\" width=\"460.8pt\" xmlns=\"http://www.w3.org/2000/svg\" xmlns:xlink=\"http://www.w3.org/1999/xlink\">\n <defs>\n  <style type=\"text/css\">\n*{stroke-linecap:butt;stroke-linejoin:round;}\n  </style>\n </defs>\n <g id=\"figure_1\">\n  <g id=\"patch_1\">\n   <path d=\"M 0 255.952908 \nL 460.8 255.952908 \nL 460.8 0 \nL 0 0 \nz\n\" style=\"fill:none;\"/>\n  </g>\n  <g id=\"axes_1\">\n   <g clip-path=\"url(#p13f988f00a)\">\n    <image height=\"227\" id=\"image0b401087bf\" transform=\"scale(1 -1)translate(0 -227)\" width=\"447\" x=\"7.2\" xlink:href=\"data:image/png;base64,\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\" y=\"-21.752908\"/>\n   </g>\n   <g id=\"text_1\">\n    <!-- Augmentation examples on CIFAR10 -->\n    <defs>\n     <path d=\"M 34.1875 63.1875 \nL 20.796875 26.90625 \nL 47.609375 26.90625 \nz\nM 28.609375 72.90625 \nL 39.796875 72.90625 \nL 67.578125 0 \nL 57.328125 0 \nL 50.6875 18.703125 \nL 17.828125 18.703125 \nL 11.1875 0 \nL 0.78125 0 \nz\n\" id=\"DejaVuSans-65\"/>\n     <path d=\"M 8.5 21.578125 \nL 8.5 54.6875 \nL 17.484375 54.6875 \nL 17.484375 21.921875 \nQ 17.484375 14.15625 20.5 10.265625 \nQ 23.53125 6.390625 29.59375 6.390625 \nQ 36.859375 6.390625 41.078125 11.03125 \nQ 45.3125 15.671875 45.3125 23.6875 \nL 45.3125 54.6875 \nL 54.296875 54.6875 \nL 54.296875 0 \nL 45.3125 0 \nL 45.3125 8.40625 \nQ 42.046875 3.421875 37.71875 1 \nQ 33.40625 -1.421875 27.6875 -1.421875 \nQ 18.265625 -1.421875 13.375 4.4375 \nQ 8.5 10.296875 8.5 21.578125 \nz\nM 31.109375 56 \nz\n\" id=\"DejaVuSans-117\"/>\n     <path d=\"M 45.40625 27.984375 \nQ 45.40625 37.75 41.375 43.109375 \nQ 37.359375 48.484375 30.078125 48.484375 \nQ 22.859375 48.484375 18.828125 43.109375 \nQ 14.796875 37.75 14.796875 27.984375 \nQ 14.796875 18.265625 18.828125 12.890625 \nQ 22.859375 7.515625 30.078125 7.515625 \nQ 37.359375 7.515625 41.375 12.890625 \nQ 45.40625 18.265625 45.40625 27.984375 \nz\nM 54.390625 6.78125 \nQ 54.390625 -7.171875 48.1875 -13.984375 \nQ 42 -20.796875 29.203125 -20.796875 \nQ 24.46875 -20.796875 20.265625 -20.09375 \nQ 16.0625 -19.390625 12.109375 -17.921875 \nL 12.109375 -9.1875 \nQ 16.0625 -11.328125 19.921875 -12.34375 \nQ 23.78125 -13.375 27.78125 -13.375 \nQ 36.625 -13.375 41.015625 -8.765625 \nQ 45.40625 -4.15625 45.40625 5.171875 \nL 45.40625 9.625 \nQ 42.625 4.78125 38.28125 2.390625 \nQ 33.9375 0 27.875 0 \nQ 17.828125 0 11.671875 7.65625 \nQ 5.515625 15.328125 5.515625 27.984375 \nQ 5.515625 40.671875 11.671875 48.328125 \nQ 17.828125 56 27.875 56 \nQ 33.9375 56 38.28125 53.609375 \nQ 42.625 51.21875 45.40625 46.390625 \nL 45.40625 54.6875 \nL 54.390625 54.6875 \nz\n\" id=\"DejaVuSans-103\"/>\n     <path d=\"M 52 44.1875 \nQ 55.375 50.25 60.0625 53.125 \nQ 64.75 56 71.09375 56 \nQ 79.640625 56 84.28125 50.015625 \nQ 88.921875 44.046875 88.921875 33.015625 \nL 88.921875 0 \nL 79.890625 0 \nL 79.890625 32.71875 \nQ 79.890625 40.578125 77.09375 44.375 \nQ 74.3125 48.1875 68.609375 48.1875 \nQ 61.625 48.1875 57.5625 43.546875 \nQ 53.515625 38.921875 53.515625 30.90625 \nL 53.515625 0 \nL 44.484375 0 \nL 44.484375 32.71875 \nQ 44.484375 40.625 41.703125 44.40625 \nQ 38.921875 48.1875 33.109375 48.1875 \nQ 26.21875 48.1875 22.15625 43.53125 \nQ 18.109375 38.875 18.109375 30.90625 \nL 18.109375 0 \nL 9.078125 0 \nL 9.078125 54.6875 \nL 18.109375 54.6875 \nL 18.109375 46.1875 \nQ 21.1875 51.21875 25.484375 53.609375 \nQ 29.78125 56 35.6875 56 \nQ 41.65625 56 45.828125 52.96875 \nQ 50 49.953125 52 44.1875 \nz\n\" id=\"DejaVuSans-109\"/>\n     <path d=\"M 56.203125 29.59375 \nL 56.203125 25.203125 \nL 14.890625 25.203125 \nQ 15.484375 15.921875 20.484375 11.0625 \nQ 25.484375 6.203125 34.421875 6.203125 \nQ 39.59375 6.203125 44.453125 7.46875 \nQ 49.3125 8.734375 54.109375 11.28125 \nL 54.109375 2.78125 \nQ 49.265625 0.734375 44.1875 -0.34375 \nQ 39.109375 -1.421875 33.890625 -1.421875 \nQ 20.796875 -1.421875 13.15625 6.1875 \nQ 5.515625 13.8125 5.515625 26.8125 \nQ 5.515625 40.234375 12.765625 48.109375 \nQ 20.015625 56 32.328125 56 \nQ 43.359375 56 49.78125 48.890625 \nQ 56.203125 41.796875 56.203125 29.59375 \nz\nM 47.21875 32.234375 \nQ 47.125 39.59375 43.09375 43.984375 \nQ 39.0625 48.390625 32.421875 48.390625 \nQ 24.90625 48.390625 20.390625 44.140625 \nQ 15.875 39.890625 15.1875 32.171875 \nz\n\" id=\"DejaVuSans-101\"/>\n     <path d=\"M 54.890625 33.015625 \nL 54.890625 0 \nL 45.90625 0 \nL 45.90625 32.71875 \nQ 45.90625 40.484375 42.875 44.328125 \nQ 39.84375 48.1875 33.796875 48.1875 \nQ 26.515625 48.1875 22.3125 43.546875 \nQ 18.109375 38.921875 18.109375 30.90625 \nL 18.109375 0 \nL 9.078125 0 \nL 9.078125 54.6875 \nL 18.109375 54.6875 \nL 18.109375 46.1875 \nQ 21.34375 51.125 25.703125 53.5625 \nQ 30.078125 56 35.796875 56 \nQ 45.21875 56 50.046875 50.171875 \nQ 54.890625 44.34375 54.890625 33.015625 \nz\n\" id=\"DejaVuSans-110\"/>\n     <path d=\"M 18.3125 70.21875 \nL 18.3125 54.6875 \nL 36.8125 54.6875 \nL 36.8125 47.703125 \nL 18.3125 47.703125 \nL 18.3125 18.015625 \nQ 18.3125 11.328125 20.140625 9.421875 \nQ 21.96875 7.515625 27.59375 7.515625 \nL 36.8125 7.515625 \nL 36.8125 0 \nL 27.59375 0 \nQ 17.1875 0 13.234375 3.875 \nQ 9.28125 7.765625 9.28125 18.015625 \nL 9.28125 47.703125 \nL 2.6875 47.703125 \nL 2.6875 54.6875 \nL 9.28125 54.6875 \nL 9.28125 70.21875 \nz\n\" id=\"DejaVuSans-116\"/>\n     <path d=\"M 34.28125 27.484375 \nQ 23.390625 27.484375 19.1875 25 \nQ 14.984375 22.515625 14.984375 16.5 \nQ 14.984375 11.71875 18.140625 8.90625 \nQ 21.296875 6.109375 26.703125 6.109375 \nQ 34.1875 6.109375 38.703125 11.40625 \nQ 43.21875 16.703125 43.21875 25.484375 \nL 43.21875 27.484375 \nz\nM 52.203125 31.203125 \nL 52.203125 0 \nL 43.21875 0 \nL 43.21875 8.296875 \nQ 40.140625 3.328125 35.546875 0.953125 \nQ 30.953125 -1.421875 24.3125 -1.421875 \nQ 15.921875 -1.421875 10.953125 3.296875 \nQ 6 8.015625 6 15.921875 \nQ 6 25.140625 12.171875 29.828125 \nQ 18.359375 34.515625 30.609375 34.515625 \nL 43.21875 34.515625 \nL 43.21875 35.40625 \nQ 43.21875 41.609375 39.140625 45 \nQ 35.0625 48.390625 27.6875 48.390625 \nQ 23 48.390625 18.546875 47.265625 \nQ 14.109375 46.140625 10.015625 43.890625 \nL 10.015625 52.203125 \nQ 14.9375 54.109375 19.578125 55.046875 \nQ 24.21875 56 28.609375 56 \nQ 40.484375 56 46.34375 49.84375 \nQ 52.203125 43.703125 52.203125 31.203125 \nz\n\" id=\"DejaVuSans-97\"/>\n     <path d=\"M 9.421875 54.6875 \nL 18.40625 54.6875 \nL 18.40625 0 \nL 9.421875 0 \nz\nM 9.421875 75.984375 \nL 18.40625 75.984375 \nL 18.40625 64.59375 \nL 9.421875 64.59375 \nz\n\" id=\"DejaVuSans-105\"/>\n     <path d=\"M 30.609375 48.390625 \nQ 23.390625 48.390625 19.1875 42.75 \nQ 14.984375 37.109375 14.984375 27.296875 \nQ 14.984375 17.484375 19.15625 11.84375 \nQ 23.34375 6.203125 30.609375 6.203125 \nQ 37.796875 6.203125 41.984375 11.859375 \nQ 46.1875 17.53125 46.1875 27.296875 \nQ 46.1875 37.015625 41.984375 42.703125 \nQ 37.796875 48.390625 30.609375 48.390625 \nz\nM 30.609375 56 \nQ 42.328125 56 49.015625 48.375 \nQ 55.71875 40.765625 55.71875 27.296875 \nQ 55.71875 13.875 49.015625 6.21875 \nQ 42.328125 -1.421875 30.609375 -1.421875 \nQ 18.84375 -1.421875 12.171875 6.21875 \nQ 5.515625 13.875 5.515625 27.296875 \nQ 5.515625 40.765625 12.171875 48.375 \nQ 18.84375 56 30.609375 56 \nz\n\" id=\"DejaVuSans-111\"/>\n     <path id=\"DejaVuSans-32\"/>\n     <path d=\"M 54.890625 54.6875 \nL 35.109375 28.078125 \nL 55.90625 0 \nL 45.3125 0 \nL 29.390625 21.484375 \nL 13.484375 0 \nL 2.875 0 \nL 24.125 28.609375 \nL 4.6875 54.6875 \nL 15.28125 54.6875 \nL 29.78125 35.203125 \nL 44.28125 54.6875 \nz\n\" id=\"DejaVuSans-120\"/>\n     <path d=\"M 18.109375 8.203125 \nL 18.109375 -20.796875 \nL 9.078125 -20.796875 \nL 9.078125 54.6875 \nL 18.109375 54.6875 \nL 18.109375 46.390625 \nQ 20.953125 51.265625 25.265625 53.625 \nQ 29.59375 56 35.59375 56 \nQ 45.5625 56 51.78125 48.09375 \nQ 58.015625 40.1875 58.015625 27.296875 \nQ 58.015625 14.40625 51.78125 6.484375 \nQ 45.5625 -1.421875 35.59375 -1.421875 \nQ 29.59375 -1.421875 25.265625 0.953125 \nQ 20.953125 3.328125 18.109375 8.203125 \nz\nM 48.6875 27.296875 \nQ 48.6875 37.203125 44.609375 42.84375 \nQ 40.53125 48.484375 33.40625 48.484375 \nQ 26.265625 48.484375 22.1875 42.84375 \nQ 18.109375 37.203125 18.109375 27.296875 \nQ 18.109375 17.390625 22.1875 11.75 \nQ 26.265625 6.109375 33.40625 6.109375 \nQ 40.53125 6.109375 44.609375 11.75 \nQ 48.6875 17.390625 48.6875 27.296875 \nz\n\" id=\"DejaVuSans-112\"/>\n     <path d=\"M 9.421875 75.984375 \nL 18.40625 75.984375 \nL 18.40625 0 \nL 9.421875 0 \nz\n\" id=\"DejaVuSans-108\"/>\n     <path d=\"M 44.28125 53.078125 \nL 44.28125 44.578125 \nQ 40.484375 46.53125 36.375 47.5 \nQ 32.28125 48.484375 27.875 48.484375 \nQ 21.1875 48.484375 17.84375 46.4375 \nQ 14.5 44.390625 14.5 40.28125 \nQ 14.5 37.15625 16.890625 35.375 \nQ 19.28125 33.59375 26.515625 31.984375 \nL 29.59375 31.296875 \nQ 39.15625 29.25 43.1875 25.515625 \nQ 47.21875 21.78125 47.21875 15.09375 \nQ 47.21875 7.46875 41.1875 3.015625 \nQ 35.15625 -1.421875 24.609375 -1.421875 \nQ 20.21875 -1.421875 15.453125 -0.5625 \nQ 10.6875 0.296875 5.421875 2 \nL 5.421875 11.28125 \nQ 10.40625 8.6875 15.234375 7.390625 \nQ 20.0625 6.109375 24.8125 6.109375 \nQ 31.15625 6.109375 34.5625 8.28125 \nQ 37.984375 10.453125 37.984375 14.40625 \nQ 37.984375 18.0625 35.515625 20.015625 \nQ 33.0625 21.96875 24.703125 23.78125 \nL 21.578125 24.515625 \nQ 13.234375 26.265625 9.515625 29.90625 \nQ 5.8125 33.546875 5.8125 39.890625 \nQ 5.8125 47.609375 11.28125 51.796875 \nQ 16.75 56 26.8125 56 \nQ 31.78125 56 36.171875 55.265625 \nQ 40.578125 54.546875 44.28125 53.078125 \nz\n\" id=\"DejaVuSans-115\"/>\n     <path d=\"M 64.40625 67.28125 \nL 64.40625 56.890625 \nQ 59.421875 61.53125 53.78125 63.8125 \nQ 48.140625 66.109375 41.796875 66.109375 \nQ 29.296875 66.109375 22.65625 58.46875 \nQ 16.015625 50.828125 16.015625 36.375 \nQ 16.015625 21.96875 22.65625 14.328125 \nQ 29.296875 6.6875 41.796875 6.6875 \nQ 48.140625 6.6875 53.78125 8.984375 \nQ 59.421875 11.28125 64.40625 15.921875 \nL 64.40625 5.609375 \nQ 59.234375 2.09375 53.4375 0.328125 \nQ 47.65625 -1.421875 41.21875 -1.421875 \nQ 24.65625 -1.421875 15.125 8.703125 \nQ 5.609375 18.84375 5.609375 36.375 \nQ 5.609375 53.953125 15.125 64.078125 \nQ 24.65625 74.21875 41.21875 74.21875 \nQ 47.75 74.21875 53.53125 72.484375 \nQ 59.328125 70.75 64.40625 67.28125 \nz\n\" id=\"DejaVuSans-67\"/>\n     <path d=\"M 9.8125 72.90625 \nL 19.671875 72.90625 \nL 19.671875 0 \nL 9.8125 0 \nz\n\" id=\"DejaVuSans-73\"/>\n     <path d=\"M 9.8125 72.90625 \nL 51.703125 72.90625 \nL 51.703125 64.59375 \nL 19.671875 64.59375 \nL 19.671875 43.109375 \nL 48.578125 43.109375 \nL 48.578125 34.8125 \nL 19.671875 34.8125 \nL 19.671875 0 \nL 9.8125 0 \nz\n\" id=\"DejaVuSans-70\"/>\n     <path d=\"M 44.390625 34.1875 \nQ 47.5625 33.109375 50.5625 29.59375 \nQ 53.5625 26.078125 56.59375 19.921875 \nL 66.609375 0 \nL 56 0 \nL 46.6875 18.703125 \nQ 43.0625 26.03125 39.671875 28.421875 \nQ 36.28125 30.8125 30.421875 30.8125 \nL 19.671875 30.8125 \nL 19.671875 0 \nL 9.8125 0 \nL 9.8125 72.90625 \nL 32.078125 72.90625 \nQ 44.578125 72.90625 50.734375 67.671875 \nQ 56.890625 62.453125 56.890625 51.90625 \nQ 56.890625 45.015625 53.6875 40.46875 \nQ 50.484375 35.9375 44.390625 34.1875 \nz\nM 19.671875 64.796875 \nL 19.671875 38.921875 \nL 32.078125 38.921875 \nQ 39.203125 38.921875 42.84375 42.21875 \nQ 46.484375 45.515625 46.484375 51.90625 \nQ 46.484375 58.296875 42.84375 61.546875 \nQ 39.203125 64.796875 32.078125 64.796875 \nz\n\" id=\"DejaVuSans-82\"/>\n     <path d=\"M 12.40625 8.296875 \nL 28.515625 8.296875 \nL 28.515625 63.921875 \nL 10.984375 60.40625 \nL 10.984375 69.390625 \nL 28.421875 72.90625 \nL 38.28125 72.90625 \nL 38.28125 8.296875 \nL 54.390625 8.296875 \nL 54.390625 0 \nL 12.40625 0 \nz\n\" id=\"DejaVuSans-49\"/>\n     <path d=\"M 31.78125 66.40625 \nQ 24.171875 66.40625 20.328125 58.90625 \nQ 16.5 51.421875 16.5 36.375 \nQ 16.5 21.390625 20.328125 13.890625 \nQ 24.171875 6.390625 31.78125 6.390625 \nQ 39.453125 6.390625 43.28125 13.890625 \nQ 47.125 21.390625 47.125 36.375 \nQ 47.125 51.421875 43.28125 58.90625 \nQ 39.453125 66.40625 31.78125 66.40625 \nz\nM 31.78125 74.21875 \nQ 44.046875 74.21875 50.515625 64.515625 \nQ 56.984375 54.828125 56.984375 36.375 \nQ 56.984375 17.96875 50.515625 8.265625 \nQ 44.046875 -1.421875 31.78125 -1.421875 \nQ 19.53125 -1.421875 13.0625 8.265625 \nQ 6.59375 17.96875 6.59375 36.375 \nQ 6.59375 54.828125 13.0625 64.515625 \nQ 19.53125 74.21875 31.78125 74.21875 \nz\n\" id=\"DejaVuSans-48\"/>\n    </defs>\n    <g transform=\"translate(120.904687 16.318125)scale(0.12 -0.12)\">\n     <use xlink:href=\"#DejaVuSans-65\"/>\n     <use x=\"68.408203\" xlink:href=\"#DejaVuSans-117\"/>\n     <use x=\"131.787109\" xlink:href=\"#DejaVuSans-103\"/>\n     <use x=\"195.263672\" xlink:href=\"#DejaVuSans-109\"/>\n     <use x=\"292.675781\" xlink:href=\"#DejaVuSans-101\"/>\n     <use x=\"354.199219\" xlink:href=\"#DejaVuSans-110\"/>\n     <use x=\"417.578125\" xlink:href=\"#DejaVuSans-116\"/>\n     <use x=\"456.787109\" xlink:href=\"#DejaVuSans-97\"/>\n     <use x=\"518.066406\" xlink:href=\"#DejaVuSans-116\"/>\n     <use x=\"557.275391\" xlink:href=\"#DejaVuSans-105\"/>\n     <use x=\"585.058594\" xlink:href=\"#DejaVuSans-111\"/>\n     <use x=\"646.240234\" xlink:href=\"#DejaVuSans-110\"/>\n     <use x=\"709.619141\" xlink:href=\"#DejaVuSans-32\"/>\n     <use x=\"741.40625\" xlink:href=\"#DejaVuSans-101\"/>\n     <use x=\"801.179688\" xlink:href=\"#DejaVuSans-120\"/>\n     <use x=\"860.359375\" xlink:href=\"#DejaVuSans-97\"/>\n     <use x=\"921.638672\" xlink:href=\"#DejaVuSans-109\"/>\n     <use x=\"1019.050781\" xlink:href=\"#DejaVuSans-112\"/>\n     <use x=\"1082.527344\" xlink:href=\"#DejaVuSans-108\"/>\n     <use x=\"1110.310547\" xlink:href=\"#DejaVuSans-101\"/>\n     <use x=\"1171.833984\" xlink:href=\"#DejaVuSans-115\"/>\n     <use x=\"1223.933594\" xlink:href=\"#DejaVuSans-32\"/>\n     <use x=\"1255.720703\" xlink:href=\"#DejaVuSans-111\"/>\n     <use x=\"1316.902344\" xlink:href=\"#DejaVuSans-110\"/>\n     <use x=\"1380.28125\" xlink:href=\"#DejaVuSans-32\"/>\n     <use x=\"1412.068359\" xlink:href=\"#DejaVuSans-67\"/>\n     <use x=\"1481.892578\" xlink:href=\"#DejaVuSans-73\"/>\n     <use x=\"1511.384766\" xlink:href=\"#DejaVuSans-70\"/>\n     <use x=\"1559.779297\" xlink:href=\"#DejaVuSans-65\"/>\n     <use x=\"1628.1875\" xlink:href=\"#DejaVuSans-82\"/>\n     <use x=\"1697.669922\" xlink:href=\"#DejaVuSans-49\"/>\n     <use x=\"1761.292969\" xlink:href=\"#DejaVuSans-48\"/>\n    </g>\n   </g>\n  </g>\n </g>\n <defs>\n  <clipPath id=\"p13f988f00a\">\n   <rect height=\"226.434783\" width=\"446.4\" x=\"7.2\" y=\"22.318125\"/>\n  </clipPath>\n </defs>\n</svg>\n",
            "application/pdf": "[encoded data removed]"
          },
          "metadata": {
            "needs_background": "light"
          }
        }
      ]
    },
    {
      "cell_type": "markdown",
      "source": [
        "# PyTorch Lightning"
      ],
      "metadata": {
        "id": "vmSk6AidOSUs"
      }
    },
    {
      "cell_type": "markdown",
      "source": [
        "Di notebook ini, kami akan menggunakan library PyTorch Lightning . PyTorch Lightning adalah kerangka kerja yang menyederhanakan kode yang Anda perlukan untuk melatih, mengevaluasi, dan menguji model di PyTorch. Ini juga menangani login ke TensorBoard , toolkit visualisasi untuk eksperimen ML, dan menyimpan model checkpoints secara otomatis dengan overhead kode minimal dari pihak kami. Ini sangat membantu kami karena kami ingin fokus pada penerapan arsitektur model yang berbeda dan menghabiskan sedikit waktu untuk overhead kode lainnya. Perhatikan bahwa pada saat penulisan/pengajaran, kerangka kerja telah dirilis dalam versi 1.3. Versi mendatang mungkin memiliki antarmuka yang sedikit berubah dan dengan demikian mungkin tidak berfungsi sempurna dengan kode (kami akan mencoba untuk tetap memperbaruinya sebanyak mungkin).\n",
        "\n",
        "Sekarang, kita akan mengambil langkah pertama di PyTorch Lightning, dan melanjutkan menjelajahi kerangka kerja di tutorial kami yang lain. Pertama, kami mengimpor library:"
      ],
      "metadata": {
        "id": "bw0dUzaaztTO"
      }
    },
    {
      "cell_type": "code",
      "source": [
        "# PyTorch Lightning\n",
        "import pytorch_lightning as pl"
      ],
      "metadata": {
        "id": "wG5fg850OPcr"
      },
      "execution_count": 10,
      "outputs": []
    },
    {
      "cell_type": "markdown",
      "source": [
        "PyTorch Lightning hadir dengan banyak fungsi yang berguna, seperti satu untuk menyetel seed:"
      ],
      "metadata": {
        "id": "nyF9XPJT00gj"
      }
    },
    {
      "cell_type": "code",
      "source": [
        "# Setting the seed\n",
        "# Fungsi yang menetapkan seed untuk generator nomor pseudo-acak di: pytorch, numpy, python.random Selain itu, setel variabel lingkungan\n",
        "pl.seed_everything(42)"
      ],
      "metadata": {
        "colab": {
          "base_uri": "https://localhost:8080/"
        },
        "id": "4BER7DtZOPZd",
        "outputId": "81bab99b-3fd6-4467-9e65-25ad69ab852f"
      },
      "execution_count": 11,
      "outputs": [
        {
          "output_type": "stream",
          "name": "stderr",
          "text": [
            "Global seed set to 42\n"
          ]
        },
        {
          "output_type": "execute_result",
          "data": {
            "text/plain": [
              "42"
            ]
          },
          "metadata": {},
          "execution_count": 11
        }
      ]
    },
    {
      "cell_type": "markdown",
      "source": [
        "Dengan demikian, di masa depan, kita tidak perlu lagi mendefinisikan set_seedfungsi kita sendiri.\n",
        "\n",
        "Di PyTorch Lightning, kami mendefinisikan pl.LightningModule's (mewarisi dari torch.nn.Module) yang mengatur kode kami menjadi 5 bagian utama:\n",
        "\n",
        "1. Initialization (__init__), di mana kita membuat semua parameter/model yang diperlukan\n",
        "\n",
        "2. Optimizers (configure_optimizers), tempat kami membuat optimizers, learning rate scheduler, dll.\n",
        "\n",
        "3. Training loop (training_step), di mana kita hanya perlu mendefinisikan loss calculation untuk satu batch (loop optimizer.zero_grad(), loss.backward() dan optimizer.step(), serta operasi logging/saving apa pun, sudah selesai di background)\n",
        "\n",
        "4. Validation loop (validation_step), di mana mirip dengan pelatihan, kita hanya perlu menentukan apa yang harus terjadi per langkah\n",
        "\n",
        "5. Test loop (test_step), yang sama dengan validasi, hanya pada test set.\n",
        "\n",
        "Oleh karena itu, kami tidak mengabstraksi kode PyTorch, melainkan mengaturnya dan mendefinisikan beberapa operasi default yang umum digunakan. Jika Anda perlu mengubah sesuatu yang lain dalam loop pelatihan/validasi/pengujian Anda, ada banyak kemungkinan fungsi yang dapat Anda timpa (lihat dokumen untuk detailnya).\n",
        "\n",
        "Sekarang kita dapat melihat contoh bagaimana Lightning Module untuk pelatihan CNN terlihat seperti:"
      ],
      "metadata": {
        "id": "NdcHrYlJ1CPJ"
      }
    },
    {
      "cell_type": "code",
      "source": [
        "class CIFARModule(pl.LightningModule):\n",
        "\n",
        "    def __init__(self, model_name, model_hparams, optimizer_name, optimizer_hparams):\n",
        "        \"\"\"\n",
        "        Inputs:\n",
        "            model_name - Name of the model/CNN to run. Used for creating the model (see function below)\n",
        "            model_hparams - Hyperparameters for the model, as dictionary.\n",
        "            optimizer_name - Name of the optimizer to use. Currently supported: Adam, SGD\n",
        "            optimizer_hparams - Hyperparameters for the optimizer, as dictionary. This includes learning rate, weight decay, etc.\n",
        "        \"\"\"\n",
        "        # mengembalikan objek yang mewakili parent class atau memanggil parent class\n",
        "        super().__init__()\n",
        "        # call this to save (model_name, model_hparams, optimizer_name, optimizer_hparams) to the checkpoint\n",
        "        # Exports the hyperparameters to a YAML file, and create \"self.hparams\" namespace\n",
        "        self.save_hyperparameters()\n",
        "        # Create model\n",
        "        self.model = create_model(model_name, model_hparams)\n",
        "        # Create loss module\n",
        "        self.loss_module = nn.CrossEntropyLoss()\n",
        "        # Example input for visualizing the graph in Tensorboard\n",
        "        self.example_input_array = torch.zeros((1, 3, 32, 32), dtype=torch.float32)\n",
        "\n",
        "    def forward(self, imgs):\n",
        "        # Forward function that is run when visualizing the graph\n",
        "        return self.model(imgs)\n",
        "\n",
        "    def configure_optimizers(self):\n",
        "        # We will support Adam or SGD as optimizers.\n",
        "        if self.hparams.optimizer_name == \"Adam\":\n",
        "            # AdamW is Adam with a correct implementation of weight decay (see here for details: https://arxiv.org/pdf/1711.05101.pdf)\n",
        "            optimizer = optim.AdamW(\n",
        "                self.parameters(), **self.hparams.optimizer_hparams)\n",
        "        elif self.hparams.optimizer_name == \"SGD\":\n",
        "            optimizer = optim.SGD(self.parameters(), **self.hparams.optimizer_hparams)\n",
        "        else:\n",
        "            assert False, f\"Unknown optimizer: \\\"{self.hparams.optimizer_name}\\\"\"\n",
        "\n",
        "        # We will reduce the learning rate by 0.1 after 100 and 150 epochs\n",
        "        scheduler = optim.lr_scheduler.MultiStepLR(\n",
        "            optimizer, milestones=[100, 150], gamma=0.1)\n",
        "        return [optimizer], [scheduler]\n",
        "\n",
        "    def training_step(self, batch, batch_idx):\n",
        "        # \"batch\" is the output of the training data loader.\n",
        "        imgs, labels = batch\n",
        "        preds = self.model(imgs)\n",
        "        loss = self.loss_module(preds, labels)\n",
        "        # Calculate acc\n",
        "        acc = (preds.argmax(dim=-1) == labels).float().mean()\n",
        "\n",
        "        # Logs the accuracy per epoch to tensorboard (weighted average over batches)\n",
        "        self.log('train_acc', acc, on_step=False, on_epoch=True)\n",
        "        self.log('train_loss', loss)\n",
        "        return loss  # Return tensor to call \".backward\" on\n",
        "\n",
        "    def validation_step(self, batch, batch_idx):\n",
        "        imgs, labels = batch\n",
        "        # Mengembalikan indeks dari nilai maksimum semua elemen dalam tensor input.\n",
        "        preds = self.model(imgs).argmax(dim=-1)\n",
        "        # Calculate acc\n",
        "        acc = (labels == preds).float().mean()\n",
        "        # By default logs it per epoch (weighted average over batches)\n",
        "        self.log('val_acc', acc)\n",
        "\n",
        "    def test_step(self, batch, batch_idx):\n",
        "        imgs, labels = batch\n",
        "        preds = self.model(imgs).argmax(dim=-1)\n",
        "        # Calculate acc\n",
        "        acc = (labels == preds).float().mean()\n",
        "        # By default logs it per epoch (weighted average over batches), and returns it afterwards\n",
        "        self.log('test_acc', acc)"
      ],
      "metadata": {
        "id": "WqxqZ-raOd8x"
      },
      "execution_count": 12,
      "outputs": []
    },
    {
      "cell_type": "markdown",
      "source": [
        "Kami melihat bahwa kode tersebut terorganisir dan jelas, yang membantu jika orang lain mencoba memahami kode Anda.\n",
        "\n",
        "Bagian penting lainnya dari PyTorch Lightning adalah konsep callback. Callback adalah fungsi mandiri yang berisi logika non-esensial dari Lightning Module Anda. Mereka biasanya dipanggil setelah menyelesaikan pelatihan epoch, tetapi juga dapat memengaruhi bagian lain dari lingkaran pelatihan Anda. Misalnya, kami akan menggunakan dua callback yang telah ditentukan sebelumnya: LearningRateMonitordan ModelCheckpoint. Monitor learning rate menambahkan learning rate saat ini ke TensorBoard kami, yang membantu memverifikasi bahwa penjadwal learning rate kami berfungsi dengan benar. Model checkpoint callback memungkinkan Anda untuk menyesuaikan rutinitas penyimpanan checkpoints Anda. Misalnya, berapa banyak checkpoints yang harus disimpan, kapan harus disimpan, metrik mana yang harus diperhatikan, dll. Kami mengimpornya di bawah ini:"
      ],
      "metadata": {
        "id": "iGrIvS-Z1t4J"
      }
    },
    {
      "cell_type": "code",
      "source": [
        "# Callbacks \n",
        "from pytorch_lightning.callbacks import LearningRateMonitor, ModelCheckpoint"
      ],
      "metadata": {
        "id": "5PEAenxXOkPL"
      },
      "execution_count": 13,
      "outputs": []
    },
    {
      "cell_type": "markdown",
      "source": [
        "Untuk memungkinkan menjalankan beberapa model berbeda dengan modul Lightning yang sama, kami mendefinisikan fungsi di bawah ini yang memetakan nama model ke kelas model. Pada tahap ini, dictionary model_dict, tetapi kami akan mengisinya di seluruh buku catatan dengan model baru kami."
      ],
      "metadata": {
        "id": "5Z9ruYBZ1zmw"
      }
    },
    {
      "cell_type": "code",
      "source": [
        "model_dict = {}\n",
        "\n",
        "def create_model(model_name, model_hparams):\n",
        "    if model_name in model_dict:\n",
        "        return model_dict[model_name](**model_hparams)\n",
        "    else:\n",
        "        assert False, f\"Unknown model name \\\"{model_name}\\\". Available models are: {str(model_dict.keys())}\""
      ],
      "metadata": {
        "id": "KmlmYr_1OnvN"
      },
      "execution_count": 14,
      "outputs": []
    },
    {
      "cell_type": "markdown",
      "source": [
        "Demikian pula, untuk menggunakan fungsi aktivasi sebagai hyperparameter lain dalam model kami, kami mendefinisikan dict \"nama function\" di bawah ini:"
      ],
      "metadata": {
        "id": "qU69jTeN14JQ"
      }
    },
    {
      "cell_type": "code",
      "source": [
        "# Activation Functions\n",
        "act_fn_by_name = {\n",
        "    \"tanh\": nn.Tanh,\n",
        "    \"relu\": nn.ReLU,\n",
        "    \"leakyrelu\": nn.LeakyReLU,\n",
        "    \"gelu\": nn.GELU\n",
        "}"
      ],
      "metadata": {
        "id": "cr1YE3sKOnsa"
      },
      "execution_count": 15,
      "outputs": []
    },
    {
      "cell_type": "markdown",
      "source": [
        "Jika kita meneruskan kelas atau objek secara langsung sebagai argumen ke modul Lightning, kita tidak dapat memanfaatkan penyimpanan dan pemuatan hyperparameter PyTorch Lightning secara otomatis.\n",
        "\n",
        "Selain modul Lightning, modul terpenting kedua di PyTorch Lightning adalah Trainer. Pelatih bertanggung jawab untuk melaksanakan langkah-langkah pelatihan yang ditentukan dalam modul Lightning dan menyelesaikan kerangka kerja. Mirip dengan modul Lightning, Anda dapat mengganti bagian penting apa pun yang tidak ingin Anda otomatisasi, tetapi pengaturan default sering kali merupakan praktik terbaik untuk dilakukan. Untuk gambaran lengkap, lihat dokumentasi . Fungsi terpenting yang kami gunakan di bawah ini adalah:\n",
        "\n",
        "- trainer.fit: Mengambil input modul lightning, dataset pelatihan, dan dataset validasi (opsional). Fungsi ini melatih modul yang diberikan pada dataset pelatihan dengan validasi sesekali (default sekali per epoch, dapat diubah)\n",
        "\n",
        "- trainer.test: Mengambil model dan set data yang ingin kita uji sebagai input. Ini mengembalikan metrik pengujian pada dataset.\n",
        "\n",
        "Untuk pelatihan dan pengujian, kita tidak perlu khawatir tentang hal-hal seperti menyetel model ke mode eval ( model.eval()) karena ini semua dilakukan secara otomatis. Lihat di bawah bagaimana kami mendefinisikan fungsi pelatihan untuk model kami:"
      ],
      "metadata": {
        "id": "En7y-dSC1-Yf"
      }
    },
    {
      "cell_type": "code",
      "source": [
        "def train_model(model_name, save_name=None, **kwargs):\n",
        "    \"\"\"\n",
        "    Inputs:\n",
        "        model_name - Name of the model you want to run. Is used to look up the class in \"model_dict\"\n",
        "        save_name (optional) - If specified, this name will be used for creating the checkpoint and logging directory.\n",
        "    \"\"\"\n",
        "    if save_name is None:\n",
        "        save_name = model_name\n",
        "        \n",
        "    # Create a PyTorch Lightning trainer with the generation callback\n",
        "    trainer = pl.Trainer(default_root_dir=os.path.join(CHECKPOINT_PATH, save_name),                          # Where to save models\n",
        "                         gpus=1 if str(device)==\"cuda:0\" else 0,                                             # We run on a single GPU (if possible)\n",
        "                         max_epochs=180,                                                                     # How many epochs to train for if no patience is set\n",
        "                         callbacks=[ModelCheckpoint(save_weights_only=True, mode=\"max\", monitor=\"val_acc\"),  # Save the best checkpoint based on the maximum val_acc recorded. Saves only weights and not optimizer\n",
        "                                    LearningRateMonitor(\"epoch\")],                                           # Log learning rate every epoch\n",
        "                         progress_bar_refresh_rate=1)                                                        # In case your notebook crashes due to the progress bar, consider increasing the refresh rate\n",
        "    trainer.logger._log_graph = True         # If True, we plot the computation graph in tensorboard\n",
        "    trainer.logger._default_hp_metric = None # Optional logging argument that we don't need\n",
        "    \n",
        "    # Check whether pretrained model exists. If yes, load it and skip training\n",
        "    pretrained_filename = os.path.join(CHECKPOINT_PATH, save_name + \".ckpt\")\n",
        "    if os.path.isfile(pretrained_filename):\n",
        "        print(f\"Found pretrained model at {pretrained_filename}, loading...\")\n",
        "        model = CIFARModule.load_from_checkpoint(pretrained_filename) # Automatically loads the model with the saved hyperparameters\n",
        "    else:\n",
        "        pl.seed_everything(42) # To be reproducable\n",
        "        model = CIFARModule(model_name=model_name, **kwargs)\n",
        "        trainer.fit(model, train_loader, val_loader)\n",
        "        model = CIFARModule.load_from_checkpoint(trainer.checkpoint_callback.best_model_path) # Load best checkpoint after training\n",
        "        \n",
        "    # Test best model on validation and test set\n",
        "    val_result = trainer.test(model, dataloaders=val_loader, verbose=False) # model : The model to test, DataLoaders : LightningDataModule yang menentukan sampel uji, verbose : If false, dont prints the test results.\n",
        "    test_result = trainer.test(model, dataloaders=test_loader, verbose=False)\n",
        "    result = {\"test\": test_result[0][\"test_acc\"], \"val\": val_result[0][\"test_acc\"]}\n",
        "    \n",
        "    return model, result"
      ],
      "metadata": {
        "id": "fYcffxp9Oq30"
      },
      "execution_count": 16,
      "outputs": []
    },
    {
      "cell_type": "markdown",
      "source": [
        "# Inception"
      ],
      "metadata": {
        "id": "HSUQY4huOvsi"
      }
    },
    {
      "cell_type": "markdown",
      "source": [
        "Blok Inception menerapkan empat blok konvolusi secara terpisah pada peta fitur yang sama: konvolusi 1x1, 3x3, dan 5x5, dan operasi dictionary maks pool. Ini memungkinkan jaringan untuk melihat data yang sama dengan bidang reseptif yang berbeda. Tentu saja, mempelajari konvolusi 5x5 saja secara teoritis akan lebih kuat. Namun, ini tidak hanya lebih banyak komputasi dan memori, tetapi juga cenderung lebih mudah digunakan. Blok awal keseluruhan terlihat seperti di bawah ini (figure credit - Szegedy et al. ):"
      ],
      "metadata": {
        "id": "CsqYQ2iv2KJz"
      }
    },
    {
      "cell_type": "markdown",
      "source": [
        "Konvolusi 1x1 tambahan sebelum konvolusi 3x3 dan 5x5 digunakan untuk reduksi dimensi. Ini sangat penting karena peta fitur dari semua cabang digabungkan setelahnya, dan kami tidak ingin ada ledakan ukuran fitur. Karena konvolusi 5x5 25 kali lebih mahal daripada konvolusi 1x1, kami dapat menghemat banyak komputasi dan parameter dengan mengurangi dimensi sebelum konvolusi besar.\n",
        "\n",
        "Sekarang kita dapat mencoba mengimplementasikan Inception Block sendiri:"
      ],
      "metadata": {
        "id": "N_J9b8i82Ogr"
      }
    },
    {
      "cell_type": "code",
      "source": [
        "class InceptionBlock(nn.Module):\n",
        "    \n",
        "    def __init__(self, c_in, c_red : dict, c_out : dict, act_fn):\n",
        "        \"\"\"\n",
        "        Inputs:\n",
        "            c_in - Number of input feature maps from the previous layers\n",
        "            c_red - Dictionary with keys \"3x3\" and \"5x5\" specifying the output of the dimensionality reducing 1x1 convolutions\n",
        "            c_out - Dictionary with keys \"1x1\", \"3x3\", \"5x5\", and \"max\"\n",
        "            act_fn - Activation class constructor (e.g. nn.ReLU)\n",
        "        \"\"\"\n",
        "        super().__init__()\n",
        "        \n",
        "        # 1x1 convolution branch\n",
        "        self.conv_1x1 = nn.Sequential(\n",
        "            nn.Conv2d(c_in, c_out[\"1x1\"], kernel_size=1),\n",
        "            nn.BatchNorm2d(c_out[\"1x1\"]),\n",
        "            act_fn()\n",
        "        )\n",
        "        \n",
        "        # 3x3 convolution branch\n",
        "        self.conv_3x3 = nn.Sequential(\n",
        "            nn.Conv2d(c_in, c_red[\"3x3\"], kernel_size=1),\n",
        "            nn.BatchNorm2d(c_red[\"3x3\"]),\n",
        "            act_fn(),\n",
        "            nn.Conv2d(c_red[\"3x3\"], c_out[\"3x3\"], kernel_size=3, padding=1),\n",
        "            nn.BatchNorm2d(c_out[\"3x3\"]),\n",
        "            act_fn()\n",
        "        )\n",
        "        \n",
        "        # 5x5 convolution branch\n",
        "        self.conv_5x5 = nn.Sequential(\n",
        "            nn.Conv2d(c_in, c_red[\"5x5\"], kernel_size=1),\n",
        "            nn.BatchNorm2d(c_red[\"5x5\"]),\n",
        "            act_fn(),\n",
        "            nn.Conv2d(c_red[\"5x5\"], c_out[\"5x5\"], kernel_size=5, padding=2),\n",
        "            nn.BatchNorm2d(c_out[\"5x5\"]),\n",
        "            act_fn()\n",
        "        )\n",
        "        \n",
        "        # Max-pool branch\n",
        "        self.max_pool = nn.Sequential(\n",
        "            nn.MaxPool2d(kernel_size=3, padding=1, stride=1),\n",
        "            nn.Conv2d(c_in, c_out[\"max\"], kernel_size=1),\n",
        "            nn.BatchNorm2d(c_out[\"max\"]),\n",
        "            act_fn()\n",
        "        )\n",
        "\n",
        "    def forward(self, x):\n",
        "        x_1x1 = self.conv_1x1(x)\n",
        "        x_3x3 = self.conv_3x3(x)\n",
        "        x_5x5 = self.conv_5x5(x)\n",
        "        x_max = self.max_pool(x)\n",
        "        x_out = torch.cat([x_1x1, x_3x3, x_5x5, x_max], dim=1)\n",
        "        return x_out"
      ],
      "metadata": {
        "id": "mUmmYJbMOq1T"
      },
      "execution_count": 17,
      "outputs": []
    },
    {
      "cell_type": "markdown",
      "source": [
        "Arsitektur GoogleNet terdiri dari menumpuk beberapa blok Inception dengan max pooling sesekali untuk mengurangi tinggi dan lebar peta fitur. GoogleNet asli dirancang untuk ukuran gambar ImageNet (224x224 piksel) dan memiliki hampir 7 juta parameter. Saat kami berlatih di CIFAR10 dengan ukuran gambar 32x32, kami tidak memerlukan arsitektur yang berat, dan sebaliknya, menerapkan versi yang lebih kecil. Jumlah saluran untuk pengurangan dimensi dan keluaran per filter (1x1, 3x3, 5x5, dan pooling maks) perlu ditentukan secara manual dan dapat diubah jika tertarik. Intuisi umumnya adalah memiliki filter terbanyak untuk konvolusi 3x3, karena filter tersebut cukup kuat untuk mempertimbangkan konteks sementara membutuhkan hampir sepertiga dari parameter konvolusi 5x5."
      ],
      "metadata": {
        "id": "NBkomhQe2WER"
      }
    },
    {
      "cell_type": "code",
      "source": [
        "class GoogleNet(nn.Module):\n",
        "\n",
        "    def __init__(self, num_classes=10, act_fn_name=\"relu\", **kwargs):\n",
        "        super().__init__()\n",
        "        self.hparams = SimpleNamespace(num_classes=num_classes,\n",
        "                                       act_fn_name=act_fn_name,\n",
        "                                       act_fn=act_fn_by_name[act_fn_name])\n",
        "        self._create_network()\n",
        "        self._init_params()\n",
        "\n",
        "    def _create_network(self):\n",
        "        # A first convolution on the original image to scale up the channel size\n",
        "        self.input_net = nn.Sequential(\n",
        "            nn.Conv2d(3, 64, kernel_size=3, padding=1),\n",
        "            nn.BatchNorm2d(64),\n",
        "            self.hparams.act_fn()\n",
        "        )\n",
        "        # Stacking inception blocks\n",
        "        self.inception_blocks = nn.Sequential(\n",
        "            InceptionBlock(64, c_red={\"3x3\": 32, \"5x5\": 16}, c_out={\"1x1\": 16, \"3x3\": 32, \"5x5\": 8, \"max\": 8}, act_fn=self.hparams.act_fn),\n",
        "            InceptionBlock(64, c_red={\"3x3\": 32, \"5x5\": 16}, c_out={\"1x1\": 24, \"3x3\": 48, \"5x5\": 12, \"max\": 12}, act_fn=self.hparams.act_fn),\n",
        "            nn.MaxPool2d(3, stride=2, padding=1),  # 32x32 => 16x16\n",
        "            InceptionBlock(96, c_red={\"3x3\": 32, \"5x5\": 16}, c_out={\"1x1\": 24, \"3x3\": 48, \"5x5\": 12, \"max\": 12}, act_fn=self.hparams.act_fn),\n",
        "            InceptionBlock(96, c_red={\"3x3\": 32, \"5x5\": 16}, c_out={\"1x1\": 16, \"3x3\": 48, \"5x5\": 16, \"max\": 16}, act_fn=self.hparams.act_fn),\n",
        "            InceptionBlock(96, c_red={\"3x3\": 32, \"5x5\": 16}, c_out={\"1x1\": 16, \"3x3\": 48, \"5x5\": 16, \"max\": 16}, act_fn=self.hparams.act_fn),\n",
        "            InceptionBlock(96, c_red={\"3x3\": 32, \"5x5\": 16}, c_out={\"1x1\": 32, \"3x3\": 48, \"5x5\": 24, \"max\": 24}, act_fn=self.hparams.act_fn),\n",
        "            nn.MaxPool2d(3, stride=2, padding=1),  # 16x16 => 8x8\n",
        "            InceptionBlock(128, c_red={\"3x3\": 48, \"5x5\": 16}, c_out={\"1x1\": 32, \"3x3\": 64, \"5x5\": 16, \"max\": 16}, act_fn=self.hparams.act_fn),\n",
        "            InceptionBlock(128, c_red={\"3x3\": 48, \"5x5\": 16}, c_out={\"1x1\": 32, \"3x3\": 64, \"5x5\": 16, \"max\": 16}, act_fn=self.hparams.act_fn)\n",
        "        )\n",
        "        # Mapping to classification output\n",
        "        self.output_net = nn.Sequential(\n",
        "            nn.AdaptiveAvgPool2d((1, 1)),\n",
        "            nn.Flatten(),\n",
        "            nn.Linear(128, self.hparams.num_classes)\n",
        "        )\n",
        "\n",
        "    def _init_params(self):\n",
        "        # Based on our discussion in Tutorial 4, we should initialize the convolutions according to the activation function\n",
        "        for m in self.modules():\n",
        "            if isinstance(m, nn.Conv2d):\n",
        "                nn.init.kaiming_normal_(\n",
        "                    m.weight, nonlinearity=self.hparams.act_fn_name)\n",
        "            elif isinstance(m, nn.BatchNorm2d):\n",
        "                nn.init.constant_(m.weight, 1)\n",
        "                nn.init.constant_(m.bias, 0)\n",
        "\n",
        "    def forward(self, x):\n",
        "        x = self.input_net(x)\n",
        "        x = self.inception_blocks(x)\n",
        "        x = self.output_net(x)\n",
        "        return x"
      ],
      "metadata": {
        "id": "vsyKwKUZOqya"
      },
      "execution_count": 18,
      "outputs": []
    },
    {
      "cell_type": "markdown",
      "source": [
        "Sekarang, kita dapat mengintegrasikan model kita ke modeldict yang kita definisikan di atas:"
      ],
      "metadata": {
        "id": "bpTHBZSw2bo6"
      }
    },
    {
      "cell_type": "code",
      "source": [
        "model_dict[\"GoogleNet\"] = GoogleNet"
      ],
      "metadata": {
        "id": "8PkFV4guO6yC"
      },
      "execution_count": 19,
      "outputs": []
    },
    {
      "cell_type": "markdown",
      "source": [
        "Pelatihan model ditangani oleh PyTorch Lightning, dan kita hanya perlu mendefinisikan perintah untuk memulai. Perhatikan bahwa kami berlatih selama hampir 200 epoch, yang memakan waktu sekitar satu jam pada GPU default Lisa (GTX1080Ti). Kami akan merekomendasikan menggunakan model yang disimpan dan melatih model Anda sendiri jika Anda tertarik."
      ],
      "metadata": {
        "id": "mehOCV-l2ibR"
      }
    },
    {
      "cell_type": "code",
      "source": [
        "googlenet_model, googlenet_results = train_model(model_name=\"GoogleNet\", \n",
        "                                                 model_hparams={\"num_classes\": 10, \n",
        "                                                                \"act_fn_name\": \"relu\"}, \n",
        "                                                 optimizer_name=\"Adam\",\n",
        "                                                 optimizer_hparams={\"lr\": 1e-3,\n",
        "                                                                    \"weight_decay\": 1e-4})"
      ],
      "metadata": {
        "colab": {
          "base_uri": "https://localhost:8080/",
          "height": 257,
          "referenced_widgets": [
            "73b3aac688ab4bf3904e8d6c26eee798",
            "16d1fe7d04294080a365961a7e5a2e18",
            "559322d4ccfe4255b61fb8e2f24c6661",
            "b3a96e3f626842f38c24441de119d6a1",
            "9e48c2ba8fb2462e9c7889b608b92e51",
            "021792474472400b9b9d03a47f2ff591",
            "7c6ec14b72f843bebf16125ee3a35d20",
            "78582bd8684d44fd9b9ee235b6c8ff46",
            "4b0b89cfcbe947c6ad31f10b9c95cf76",
            "d7d77ff40c604bc98b065803f4da511a",
            "ae68456fae3141a2b0f2b1200f932901",
            "21e0cc301ef44a5eb0d975f052652562",
            "2bb31b6bba564e17aef74084c06d85c5",
            "cd3c7da1fab946559a38783c6d0e54f2",
            "cd8d787bf14f4261bfdc81ddf8d62562",
            "760cd3de2b894560a086b2f0b7c16382",
            "3399d4909ded4797baff3c03dbb1dc4f",
            "a30bf46139df488081c5445280b73437",
            "8832ad26f07340e5bc207648d8f528ed",
            "4b62fd2b552942489ad4485371ee780b",
            "9e98ee09a66c476f9245551502c2bf55",
            "3d792e04a6714d8185de0efd938631d0"
          ]
        },
        "id": "_Xhk03rdO60o",
        "outputId": "28140a85-5fab-4724-b811-4f45e798f0ac"
      },
      "execution_count": 20,
      "outputs": [
        {
          "output_type": "stream",
          "name": "stderr",
          "text": [
            "/usr/local/lib/python3.7/dist-packages/pytorch_lightning/trainer/connectors/callback_connector.py:97: LightningDeprecationWarning: Setting `Trainer(progress_bar_refresh_rate=1)` is deprecated in v1.5 and will be removed in v1.7. Please pass `pytorch_lightning.callbacks.progress.TQDMProgressBar` with `refresh_rate` directly to the Trainer's `callbacks` argument instead. Or, to disable the progress bar pass `enable_progress_bar = False` to the Trainer.\n",
            "  f\"Setting `Trainer(progress_bar_refresh_rate={progress_bar_refresh_rate})` is deprecated in v1.5 and\"\n",
            "GPU available: True, used: True\n",
            "TPU available: False, using: 0 TPU cores\n",
            "IPU available: False, using: 0 IPUs\n",
            "HPU available: False, using: 0 HPUs\n",
            "LOCAL_RANK: 0 - CUDA_VISIBLE_DEVICES: [0]\n"
          ]
        },
        {
          "output_type": "stream",
          "name": "stdout",
          "text": [
            "Found pretrained model at ../saved_models/tutorial5/GoogleNet.ckpt, loading...\n"
          ]
        },
        {
          "output_type": "display_data",
          "data": {
            "text/plain": [
              "Testing: 0it [00:00, ?it/s]"
            ],
            "application/vnd.jupyter.widget-view+json": {
              "version_major": 2,
              "version_minor": 0,
              "model_id": "73b3aac688ab4bf3904e8d6c26eee798"
            }
          },
          "metadata": {}
        },
        {
          "output_type": "stream",
          "name": "stderr",
          "text": [
            "LOCAL_RANK: 0 - CUDA_VISIBLE_DEVICES: [0]\n"
          ]
        },
        {
          "output_type": "display_data",
          "data": {
            "text/plain": [
              "Testing: 0it [00:00, ?it/s]"
            ],
            "application/vnd.jupyter.widget-view+json": {
              "version_major": 2,
              "version_minor": 0,
              "model_id": "21e0cc301ef44a5eb0d975f052652562"
            }
          },
          "metadata": {}
        }
      ]
    },
    {
      "cell_type": "markdown",
      "source": [
        "Kami akan membandingkan hasilnya nanti di notebook, tapi kami sudah bisa mencetaknya di sini untuk pertama kalinya:"
      ],
      "metadata": {
        "id": "Ylr8oqEg2n1j"
      }
    },
    {
      "cell_type": "code",
      "source": [
        "print(\"GoogleNet Results\", googlenet_results)"
      ],
      "metadata": {
        "id": "65I-228kPuJl",
        "colab": {
          "base_uri": "https://localhost:8080/"
        },
        "outputId": "f7e33f86-a07b-429a-96c5-8673f04cad2b"
      },
      "execution_count": 21,
      "outputs": [
        {
          "output_type": "stream",
          "name": "stdout",
          "text": [
            "GoogleNet Results {'test': 0.8970000147819519, 'val': 0.9039999842643738}\n"
          ]
        }
      ]
    },
    {
      "cell_type": "markdown",
      "source": [
        "# Tensorboard log"
      ],
      "metadata": {
        "id": "F8opkoXpP2Oo"
      }
    },
    {
      "cell_type": "markdown",
      "source": [
        "Tambahan yang bagus dari PyTorch Lightning adalah login otomatis ke TensorBoard. Untuk memberi Anda intuisi yang lebih baik tentang apa yang dapat digunakan TensorBoard, kita dapat melihat board yang telah dibuat oleh PyTorch Lightning saat melatih GoogleNet. TensorBoard menyediakan fungsionalitas sebaris untuk notebook Jupyter, dan kami menggunakannya di sini:"
      ],
      "metadata": {
        "id": "1IJXqdfm2sTM"
      }
    },
    {
      "cell_type": "code",
      "source": [
        "# Load tensorboard extension\n",
        "%load_ext tensorboard"
      ],
      "metadata": {
        "id": "s4HeH82QP3ru"
      },
      "execution_count": 22,
      "outputs": []
    },
    {
      "cell_type": "code",
      "source": [
        "# Opens tensorboard in notebook. Adjust the path to your CHECKPOINT_PATH!\n",
        "%tensorboard --logdir ../saved_models/tutorial5/tensorboards/GoogleNet/"
      ],
      "metadata": {
        "id": "HM90XKAbP4Lz",
        "colab": {
          "base_uri": "https://localhost:8080/",
          "height": 839
        },
        "outputId": "3a7119c6-0514-4ef1-9442-3f17bbb9dc36"
      },
      "execution_count": 23,
      "outputs": [
        {
          "output_type": "display_data",
          "data": {
            "text/plain": [
              "Reusing TensorBoard on port 6006 (pid 220), started 0:01:23 ago. (Use '!kill 220' to kill it.)"
            ]
          },
          "metadata": {}
        },
        {
          "output_type": "display_data",
          "data": {
            "text/plain": [
              "<IPython.core.display.Javascript object>"
            ],
            "application/javascript": [
              "\n",
              "        (async () => {\n",
              "            const url = new URL(await google.colab.kernel.proxyPort(6006, {'cache': true}));\n",
              "            url.searchParams.set('tensorboardColab', 'true');\n",
              "            const iframe = document.createElement('iframe');\n",
              "            iframe.src = url;\n",
              "            iframe.setAttribute('width', '100%');\n",
              "            iframe.setAttribute('height', '800');\n",
              "            iframe.setAttribute('frameborder', 0);\n",
              "            document.body.appendChild(iframe);\n",
              "        })();\n",
              "    "
            ]
          },
          "metadata": {}
        }
      ]
    },
    {
      "cell_type": "markdown",
      "source": [
        "TensorBoard diatur dalam beberapa tab. Tab utama adalah tab skalar tempat kita dapat mencatat perkembangan bilangan tunggal. Sebagai contoh, kita telah memplot training loss, akurasi, learning rate, dll. Jika kita melihat akurasi training atau validasi, kita benar-benar dapat melihat dampak penggunaan learning rate scheduler. Mengurangi tingkat pembelajaran memberi model kami peningkatan yang bagus dalam kinerja pelatihan. Demikian pula, ketika melihat kerugian pelatihan, kami melihat penurunan mendadak pada titik ini. Namun, angka yang tinggi pada set pelatihan dibandingkan dengan validasi menunjukkan bahwa model kami overfitting yang tidak dapat dihindari untuk jaringan sebesar itu."
      ],
      "metadata": {
        "id": "G41QeWxS21T8"
      }
    },
    {
      "cell_type": "markdown",
      "source": [
        "Tab menarik lainnya di TensorBoard adalah tab grafik. Ini menunjukkan kepada kita arsitektur jaringan yang diatur oleh blok bangunan dari input ke output. Ini pada dasarnya menunjukkan operasi yang diambil dalam langkah maju dari CIFARModule. Klik dua kali pada modul untuk membukanya. Jangan ragu untuk menjelajahi arsitektur dari perspektif yang berbeda. Visualisasi grafik seringkali dapat membantu Anda untuk memvalidasi bahwa model Anda benar-benar melakukan apa yang seharusnya dilakukan, dan Anda tidak melewatkan lapisan apa pun dalam grafik komputasi."
      ],
      "metadata": {
        "id": "t5_vNqPw24yD"
      }
    },
    {
      "cell_type": "markdown",
      "source": [
        "# ResNet"
      ],
      "metadata": {
        "id": "4AW2i8_jQCw7"
      }
    },
    {
      "cell_type": "markdown",
      "source": [
        "ResNet (Residual Network) adalah salah satu paper AI yang banyak dikutip dan telah menjadi dasar untuk jaringan saraf yang sangat dalam dengan lebih dari 1000 lapisan. Terlepas dari itu, ide koneksi residual juga sangat efektif karena mendukung propagasi gradien yang stabil melalui jaringan.Kita juga memodelkan pemetaan non-linear(biasanya urutan modul NN seperti konvolusi, fungsi aktivasi, dan normalisasi).\n",
        "\n",
        "Bias terhadap matriks identitas menjamin propagasi gradien yang stabil menjadi kurang dipengaruhi oleh ***F*** itu sendiri. Ada banyak varian ResNet yang diusulkan, yang sebagian besar menyangkut fungsi ***F*** , atau operasi yang diterapkan pada penjumlahan. Dalam tutorial ini, kita melihat dua di antaranya: blok ResNet asli, dan blok ResNet Pra-Aktivasi.\n",
        "\n",
        "![CapturerESNET.PNG](data:image/png;base64,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)\n",
        "\n",
        "Blok ResNet asli menerapkan fungsi aktivasi non-linear, biasanya ReLU, setelah koneksi lewati. Sebaliknya, blok ResNet pra-aktivasi menerapkan non-linearitas di awal **F**. Keduanya memiliki kelebihan dan kekurangan. Namun, untuk jaringan yang sangat dalam, pra-aktivasi ResNet telah menunjukkan kinerja yang lebih baik karena aliran gradien dijamin memiliki matriks identitas seperti yang dihitung di atas, dan tidak dirugikan oleh aktivasi non-linear yang diterapkan padanya. Sebagai perbandingan, di notebook ini, kami menerapkan kedua jenis ResNet sebagai jaringan dangkal.\n",
        "\n",
        "Pertama kita akan mengimplementasikan dengan blok ResNet asli. Visualisasi di atas sudah menunjukkan lapisan apa saja yang termasuk dalam . Satu kasus khusus yang harus kita tangani adalah ketika kita ingin mengurangi dimensi gambar dalam hal lebar dan tinggi"
      ],
      "metadata": {
        "id": "Fk7skR9d-fKp"
      }
    },
    {
      "cell_type": "code",
      "source": [
        "class ResNetBlock(nn.Module):\n",
        "\n",
        "    def __init__(self, c_in, act_fn, subsample=False, c_out=-1):\n",
        "        \"\"\"\n",
        "        Inputs:\n",
        "            c_in - Number of input features\n",
        "            act_fn - Activation class constructor (e.g. nn.ReLU)\n",
        "            subsample - If True, we want to apply a stride inside the block and reduce the output shape by 2 in height and width\n",
        "            c_out - Number of output features. Note that this is only relevant if subsample is True, as otherwise, c_out = c_in\n",
        "        \"\"\"\n",
        "        #Mengembalikan atribut dari super objek (induk) suatu kelas\n",
        "        super().__init__()\n",
        "        if not subsample:\n",
        "            c_out = c_in\n",
        "            \n",
        "        # Network representing F\n",
        "        self.net = nn.Sequential(\n",
        "            nn.Conv2d(c_in, c_out, kernel_size=3, padding=1, stride=1 if not subsample else 2, bias=False),  # No bias needed as the Batch Norm handles it\n",
        "            nn.BatchNorm2d(c_out),\n",
        "            act_fn(),\n",
        "            nn.Conv2d(c_out, c_out, kernel_size=3, padding=1, bias=False),\n",
        "            nn.BatchNorm2d(c_out)\n",
        "        )\n",
        "        \n",
        "        # 1x1 convolution with stride 2 means we take the upper left value, and transform it to new output size\n",
        "        self.downsample = nn.Conv2d(c_in, c_out, kernel_size=1, stride=2) if subsample else None\n",
        "        self.act_fn = act_fn()\n",
        "\n",
        "    def forward(self, x):\n",
        "        z = self.net(x)\n",
        "        if self.downsample is not None:\n",
        "            x = self.downsample(x)\n",
        "        out = z + x\n",
        "        out = self.act_fn(out)\n",
        "        return out"
      ],
      "metadata": {
        "id": "wySc0eulP4Og"
      },
      "execution_count": 24,
      "outputs": []
    },
    {
      "cell_type": "markdown",
      "source": [
        "Blok kedua yang kita terapkan adalah blok ResNet pra-aktivasi. Untuk ini, kita harus mengubah urutan layer di self.net, dan tidak menerapkan fungsi aktivasi pada output. Selain itu, operasi downsampling harus menerapkan non-linearitas serta input, , belum diproses oleh non-linearitas. Oleh karena itu, blok terlihat sebagai berikut:"
      ],
      "metadata": {
        "id": "w46qTINKJG7_"
      }
    },
    {
      "cell_type": "code",
      "source": [
        "class PreActResNetBlock(nn.Module):\n",
        "\n",
        "    def __init__(self, c_in, act_fn, subsample=False, c_out=-1):\n",
        "        \"\"\"\n",
        "        Inputs:\n",
        "            c_in - Number of input features\n",
        "            act_fn - Activation class constructor (e.g. nn.ReLU)\n",
        "            subsample - If True, we want to apply a stride inside the block and reduce the output shape by 2 in height and width\n",
        "            c_out - Number of output features. Note that this is only relevant if subsample is True, as otherwise, c_out = c_in\n",
        "        \"\"\"\n",
        "        super().__init__()\n",
        "        if not subsample:\n",
        "            c_out = c_in\n",
        "            \n",
        "        # Network representing F\n",
        "        self.net = nn.Sequential(\n",
        "            nn.BatchNorm2d(c_in),\n",
        "            act_fn(),\n",
        "            nn.Conv2d(c_in, c_out, kernel_size=3, padding=1, stride=1 if not subsample else 2, bias=False),\n",
        "            nn.BatchNorm2d(c_out),\n",
        "            act_fn(),\n",
        "            nn.Conv2d(c_out, c_out, kernel_size=3, padding=1, bias=False)\n",
        "        )\n",
        "        \n",
        "        # 1x1 convolution needs to apply non-linearity as well as not done on skip connection\n",
        "        self.downsample = nn.Sequential(\n",
        "            nn.BatchNorm2d(c_in),\n",
        "            act_fn(),\n",
        "            nn.Conv2d(c_in, c_out, kernel_size=1, stride=2, bias=False)\n",
        "        ) if subsample else None\n",
        "\n",
        "    def forward(self, x):\n",
        "        z = self.net(x)\n",
        "        if self.downsample is not None:\n",
        "            x = self.downsample(x)\n",
        "        out = z + x\n",
        "        return out"
      ],
      "metadata": {
        "id": "9fFdBcBDP4RH"
      },
      "execution_count": 25,
      "outputs": []
    },
    {
      "cell_type": "markdown",
      "source": [
        "Sama halnya dengan pemilihan model, kita mendefinisikan untuk membuat pemetaan dari kelas string ke blok. Kita akan menggunakan nama string sebagai nilai hyperparameter dalam model kita untuk memilih di antara blok ResNet."
      ],
      "metadata": {
        "id": "lw4WiWC8J68s"
      }
    },
    {
      "cell_type": "code",
      "source": [
        "resnet_blocks_by_name = {\n",
        "    \"ResNetBlock\": ResNetBlock,\n",
        "    \"PreActResNetBlock\": PreActResNetBlock\n",
        "}"
      ],
      "metadata": {
        "id": "1JS3t4qRQQqO"
      },
      "execution_count": 26,
      "outputs": []
    },
    {
      "cell_type": "markdown",
      "source": [
        "Arsitektur ResNet keseluruhan terdiri dari penumpukan beberapa blok ResNet, di mana beberapa di antaranya melakukan downsampling input. Ketika berbicara tentang blok ResNet di seluruh jaringan, kami biasanya mengelompokkannya berdasarkan bentuk keluaran yang sama. Oleh karena itu, jika kita mengatakan ResNet memiliki [3,3,3] blok, itu berarti bahwa kita memiliki 3 kali kelompok 3 blok ResNet, di mana subsampling terjadi di blok keempat dan ketujuh. ResNet dengan [3,3,3] blok di CIFAR10 divisualisasikan di bawah ini.\n",
        "\n",
        "![new.PNG](data:image/png;base64,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)\n",
        "\n",
        "Tiga kelompok beroperasi pada resolusi **32 X 32 16 X 16 dan 8 X 8** masing-masing. Blok berwarna oranye menunjukkan blok ResNet dengan downsampling. Notasi yang sama digunakan oleh banyak implementasi lain seperti di perpustakaan torchvision dari PyTorch. Jadi, kode kita terlihat sebagai berikut:"
      ],
      "metadata": {
        "id": "ZnZbMGihKWom"
      }
    },
    {
      "cell_type": "code",
      "source": [
        "class ResNet(nn.Module):\n",
        "\n",
        "    def __init__(self, num_classes=10, num_blocks=[3,3,3], c_hidden=[16,32,64], act_fn_name=\"relu\", block_name=\"ResNetBlock\", **kwargs):\n",
        "        \"\"\"\n",
        "        Inputs: \n",
        "            num_classes - Number of classification outputs (10 for CIFAR10)\n",
        "            num_blocks - List with the number of ResNet blocks to use. The first block of each group uses downsampling, except the first.\n",
        "            c_hidden - List with the hidden dimensionalities in the different blocks. Usually multiplied by 2 the deeper we go.\n",
        "            act_fn_name - Name of the activation function to use, looked up in \"act_fn_by_name\"\n",
        "            block_name - Name of the ResNet block, looked up in \"resnet_blocks_by_name\"\n",
        "        \"\"\"\n",
        "        super().__init__()\n",
        "        assert block_name in resnet_blocks_by_name\n",
        "        self.hparams = SimpleNamespace(num_classes=num_classes, \n",
        "                                       c_hidden=c_hidden, \n",
        "                                       num_blocks=num_blocks, \n",
        "                                       act_fn_name=act_fn_name,\n",
        "                                       act_fn=act_fn_by_name[act_fn_name],\n",
        "                                       block_class=resnet_blocks_by_name[block_name])\n",
        "        self._create_network()\n",
        "        self._init_params()\n",
        "\n",
        "    def _create_network(self):\n",
        "        c_hidden = self.hparams.c_hidden\n",
        "        \n",
        "        # A first convolution on the original image to scale up the channel size\n",
        "        if self.hparams.block_class == PreActResNetBlock: # => Don't apply non-linearity on output\n",
        "            self.input_net = nn.Sequential(\n",
        "                nn.Conv2d(3, c_hidden[0], kernel_size=3, padding=1, bias=False)\n",
        "            )\n",
        "        else:\n",
        "            self.input_net = nn.Sequential(\n",
        "                nn.Conv2d(3, c_hidden[0], kernel_size=3, padding=1, bias=False),\n",
        "                nn.BatchNorm2d(c_hidden[0]),\n",
        "                self.hparams.act_fn()\n",
        "            )\n",
        "        \n",
        "        # Creating the ResNet blocks\n",
        "        blocks = []\n",
        "        for block_idx, block_count in enumerate(self.hparams.num_blocks):\n",
        "            for bc in range(block_count):\n",
        "                subsample = (bc == 0 and block_idx > 0) # Subsample the first block of each group, except the very first one.\n",
        "                blocks.append(\n",
        "                    self.hparams.block_class(c_in=c_hidden[block_idx if not subsample else (block_idx-1)],\n",
        "                                             act_fn=self.hparams.act_fn,\n",
        "                                             subsample=subsample,\n",
        "                                             c_out=c_hidden[block_idx])\n",
        "                )\n",
        "        self.blocks = nn.Sequential(*blocks)\n",
        "        \n",
        "        # Mapping to classification output\n",
        "        self.output_net = nn.Sequential(\n",
        "            nn.AdaptiveAvgPool2d((1,1)),\n",
        "            nn.Flatten(),\n",
        "            nn.Linear(c_hidden[-1], self.hparams.num_classes)\n",
        "        )\n",
        "\n",
        "    def _init_params(self):\n",
        "        # Based on our discussion in Tutorial 4, we should initialize the convolutions according to the activation function\n",
        "        # Fan-out focuses on the gradient distribution, and is commonly used in ResNets\n",
        "        for m in self.modules():\n",
        "            if isinstance(m, nn.Conv2d):\n",
        "                nn.init.kaiming_normal_(m.weight, mode='fan_out', nonlinearity=self.hparams.act_fn_name)\n",
        "            elif isinstance(m, nn.BatchNorm2d):\n",
        "                nn.init.constant_(m.weight, 1)\n",
        "                nn.init.constant_(m.bias, 0)\n",
        "\n",
        "    def forward(self, x):\n",
        "        x = self.input_net(x)\n",
        "        x = self.blocks(x)\n",
        "        x = self.output_net(x)\n",
        "        return x"
      ],
      "metadata": {
        "id": "ZNyagiKsQQsv"
      },
      "execution_count": 27,
      "outputs": []
    },
    {
      "cell_type": "code",
      "source": [
        "#Menambahkan ResNet ke model dictionary\n",
        "model_dict[\"ResNet\"] = ResNet"
      ],
      "metadata": {
        "id": "JL4xWREyQQvf"
      },
      "execution_count": 28,
      "outputs": []
    },
    {
      "cell_type": "markdown",
      "source": [
        "Akhirnya, kita dapat melatih model ResNet kita. Satu perbedaan pada pelatihan GoogleNet adalah bahwa kami secara eksplisit menggunakan SGD dengan Momentum sebagai pengoptimal, bukan Adam. Adam sering menghasilkan akurasi yang sedikit lebih buruk pada ResNets yang sederhana dan dangkal. Tidak 100% jelas mengapa kinerja Adam lebih buruk dalam konteks ini, tetapi satu penjelasan yang mungkin terkait dengan permukaan kerugian ResNet. ResNet telah terbukti menghasilkan permukaan kerugian yang lebih halus daripada jaringan tanpa melewatkan koneksi.\n",
        "\n",
        "![skip.PNG](data:image/png;base64,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)\n",
        "\n",
        "Sumbu x dan y menunjukkan proyeksi ruang parameter, dan sumbu menunjukkan nilai kerugian yang dicapai oleh nilai parameter yang berbeda. Pada permukaan halus seperti yang ada di sebelah kanan, kita mungkin tidak memerlukan tingkat pembelajaran adaptif seperti yang disediakan Adam. Sebaliknya, Adam bisa terjebak di local optima sementara SGD menemukan minima yang lebih luas yang cenderung menggeneralisasi lebih baik. Namun, untuk menjawab pertanyaan ini secara mendetail, kita membutuhkan tutorial tambahan karena tidak mudah untuk menjawabnya. Untuk saat ini, kami menyimpulkan: untuk arsitektur ResNet, anggap pengoptimal sebagai hyperparameter penting, dan coba pelatihan dengan Adam dan SGD."
      ],
      "metadata": {
        "id": "jzv0ZZ2fMHuV"
      }
    },
    {
      "cell_type": "code",
      "source": [
        "resnet_model, resnet_results = train_model(model_name=\"ResNet\", \n",
        "                                           model_hparams={\"num_classes\": 10,\n",
        "                                                          \"c_hidden\": [16,32,64],\n",
        "                                                          \"num_blocks\": [3,3,3],\n",
        "                                                          \"act_fn_name\": \"relu\"}, \n",
        "                                           optimizer_name=\"SGD\",\n",
        "                                           optimizer_hparams={\"lr\": 0.1,\n",
        "                                                              \"momentum\": 0.9,\n",
        "                                                              \"weight_decay\": 1e-4})"
      ],
      "metadata": {
        "id": "3pQZkkCUQQyV",
        "colab": {
          "base_uri": "https://localhost:8080/",
          "height": 257,
          "referenced_widgets": [
            "6a1abe64c45449599fb3dfe4715a4eba",
            "d57a0f2f8099447bb4da9723bc29959e",
            "d8b43594fb8545d8a6ad93b87d5ae3cc",
            "14f7dd9f481e4419bb48bf6040bfaa6a",
            "281604e85411455a8e3c35edb6d3e633",
            "1240ede0eeef4d67955af85706e820d9",
            "5c65e6c1e54949f18d6190bd9ac96607",
            "1da63bd9f56246e3a2cca5e5e348f343",
            "bb3ba313a6ee431e8b4b159f1fd63df3",
            "cc189cb1c78548faad825dfd0fb05a23",
            "6b9cef36e0824aa78d017b51add93e37",
            "13463f25ab5044c5b2d3552c1cf21b04",
            "f648fdf3c9484b99ae0cb5503bc58d34",
            "fc20896947814b108be47b6d871acba0",
            "4edd145f10d84134ab200cce1a4eb8f6",
            "d608a19c2f0c414eb4824d986b4d44e8",
            "55ebe4e970f642be9dc225a7764b79c8",
            "91c93284359a481597ce595722c2df4a",
            "cb1333187baa41069303421ef6552c7f",
            "8e2dad92969e44efae7d71a7dcf175f8",
            "8d60805736b248a594386dd9975dea7f",
            "63301635669b4278904e33df0d307754"
          ]
        },
        "outputId": "f9529dbe-d1f2-4051-98df-1e5121995ced"
      },
      "execution_count": 29,
      "outputs": [
        {
          "output_type": "stream",
          "name": "stderr",
          "text": [
            "/usr/local/lib/python3.7/dist-packages/pytorch_lightning/trainer/connectors/callback_connector.py:97: LightningDeprecationWarning: Setting `Trainer(progress_bar_refresh_rate=1)` is deprecated in v1.5 and will be removed in v1.7. Please pass `pytorch_lightning.callbacks.progress.TQDMProgressBar` with `refresh_rate` directly to the Trainer's `callbacks` argument instead. Or, to disable the progress bar pass `enable_progress_bar = False` to the Trainer.\n",
            "  f\"Setting `Trainer(progress_bar_refresh_rate={progress_bar_refresh_rate})` is deprecated in v1.5 and\"\n",
            "GPU available: True, used: True\n",
            "TPU available: False, using: 0 TPU cores\n",
            "IPU available: False, using: 0 IPUs\n",
            "HPU available: False, using: 0 HPUs\n",
            "LOCAL_RANK: 0 - CUDA_VISIBLE_DEVICES: [0]\n"
          ]
        },
        {
          "output_type": "stream",
          "name": "stdout",
          "text": [
            "Found pretrained model at ../saved_models/tutorial5/ResNet.ckpt, loading...\n"
          ]
        },
        {
          "output_type": "display_data",
          "data": {
            "text/plain": [
              "Testing: 0it [00:00, ?it/s]"
            ],
            "application/vnd.jupyter.widget-view+json": {
              "version_major": 2,
              "version_minor": 0,
              "model_id": "6a1abe64c45449599fb3dfe4715a4eba"
            }
          },
          "metadata": {}
        },
        {
          "output_type": "stream",
          "name": "stderr",
          "text": [
            "LOCAL_RANK: 0 - CUDA_VISIBLE_DEVICES: [0]\n"
          ]
        },
        {
          "output_type": "display_data",
          "data": {
            "text/plain": [
              "Testing: 0it [00:00, ?it/s]"
            ],
            "application/vnd.jupyter.widget-view+json": {
              "version_major": 2,
              "version_minor": 0,
              "model_id": "13463f25ab5044c5b2d3552c1cf21b04"
            }
          },
          "metadata": {}
        }
      ]
    },
    {
      "cell_type": "markdown",
      "source": [
        "Selanjutnya kita juga melatih ResNet pra-aktivasi sebagai perbandingan:"
      ],
      "metadata": {
        "id": "F-JcP7xpOBja"
      }
    },
    {
      "cell_type": "code",
      "source": [
        "resnetpreact_model, resnetpreact_results = train_model(model_name=\"ResNet\", \n",
        "                                                       model_hparams={\"num_classes\": 10,\n",
        "                                                                      \"c_hidden\": [16,32,64],\n",
        "                                                                      \"num_blocks\": [3,3,3],\n",
        "                                                                      \"act_fn_name\": \"relu\",\n",
        "                                                                      \"block_name\": \"PreActResNetBlock\"}, \n",
        "                                                       optimizer_name=\"SGD\",\n",
        "                                                       optimizer_hparams={\"lr\": 0.1,\n",
        "                                                                          \"momentum\": 0.9,\n",
        "                                                                          \"weight_decay\": 1e-4},\n",
        "                                                       save_name=\"ResNetPreAct\")"
      ],
      "metadata": {
        "id": "lNtyn3DtQhqt",
        "colab": {
          "base_uri": "https://localhost:8080/",
          "height": 257,
          "referenced_widgets": [
            "72a3bbe001a94e4eb133839f513cc307",
            "80429a64eb634fa6896e2f870873c871",
            "27ef5d9ac1114a8d99b9e3fb225332d1",
            "64d3faab14204e199ae2dd25e36c09f7",
            "dbd494713ad34f1db50f4e1fc80515fb",
            "6a617354c3394056a2698492c547bb72",
            "ccfb56092eb44f06a79590dc7baf08b2",
            "820d2619b5b44dcd9183debed1957515",
            "3115562706b343c8aeb20916388a4504",
            "84b04ecb13e543ed85b082c4edad1706",
            "f90c27fdea634aeeae38db12fdc4f604",
            "f845b8e682294699a076b773e5933ed1",
            "04eed8a0ade24197b275b49dde9955cb",
            "d2f0e8ac38ab466a98da7dcb590190db",
            "64be2e6784764487b407f9198fc0cf08",
            "5bc1f5e7587048729b87e04cb8f3417c",
            "e0c8830ea1f44fb2bf55c8e9a9bc409e",
            "695643cc87f143a885830c782b070061",
            "bb43154f6ea64f12a0906889d0eef99b",
            "22f061fe0c624e9980bcc615b5494a72",
            "0717b0b1c23647998f6be7f85d254dda",
            "2beb7923cf424fdb90320980a3a11bbe"
          ]
        },
        "outputId": "93b76cc3-86b5-40c4-a205-4b1c7245748b"
      },
      "execution_count": 30,
      "outputs": [
        {
          "output_type": "stream",
          "name": "stderr",
          "text": [
            "/usr/local/lib/python3.7/dist-packages/pytorch_lightning/trainer/connectors/callback_connector.py:97: LightningDeprecationWarning: Setting `Trainer(progress_bar_refresh_rate=1)` is deprecated in v1.5 and will be removed in v1.7. Please pass `pytorch_lightning.callbacks.progress.TQDMProgressBar` with `refresh_rate` directly to the Trainer's `callbacks` argument instead. Or, to disable the progress bar pass `enable_progress_bar = False` to the Trainer.\n",
            "  f\"Setting `Trainer(progress_bar_refresh_rate={progress_bar_refresh_rate})` is deprecated in v1.5 and\"\n",
            "GPU available: True, used: True\n",
            "TPU available: False, using: 0 TPU cores\n",
            "IPU available: False, using: 0 IPUs\n",
            "HPU available: False, using: 0 HPUs\n",
            "LOCAL_RANK: 0 - CUDA_VISIBLE_DEVICES: [0]\n"
          ]
        },
        {
          "output_type": "stream",
          "name": "stdout",
          "text": [
            "Found pretrained model at ../saved_models/tutorial5/ResNetPreAct.ckpt, loading...\n"
          ]
        },
        {
          "output_type": "display_data",
          "data": {
            "text/plain": [
              "Testing: 0it [00:00, ?it/s]"
            ],
            "application/vnd.jupyter.widget-view+json": {
              "version_major": 2,
              "version_minor": 0,
              "model_id": "72a3bbe001a94e4eb133839f513cc307"
            }
          },
          "metadata": {}
        },
        {
          "output_type": "stream",
          "name": "stderr",
          "text": [
            "LOCAL_RANK: 0 - CUDA_VISIBLE_DEVICES: [0]\n"
          ]
        },
        {
          "output_type": "display_data",
          "data": {
            "text/plain": [
              "Testing: 0it [00:00, ?it/s]"
            ],
            "application/vnd.jupyter.widget-view+json": {
              "version_major": 2,
              "version_minor": 0,
              "model_id": "f845b8e682294699a076b773e5933ed1"
            }
          },
          "metadata": {}
        }
      ]
    },
    {
      "cell_type": "markdown",
      "source": [
        "# Tensorboard log"
      ],
      "metadata": {
        "id": "haL-yp1RQqQC"
      }
    },
    {
      "cell_type": "code",
      "source": [
        "# Opens tensorboard in notebook. Adjust the path to your CHECKPOINT_PATH! Feel free to change \"ResNet\" to \"ResNetPreAct\"\n",
        "%tensorboard --logdir ../saved_models/tutorial5/tensorboards/ResNet/"
      ],
      "metadata": {
        "id": "7-Kmv7V_Qhn4",
        "colab": {
          "base_uri": "https://localhost:8080/",
          "height": 839
        },
        "outputId": "95b78861-895a-4088-dde2-215eebd08447"
      },
      "execution_count": 31,
      "outputs": [
        {
          "output_type": "display_data",
          "data": {
            "text/plain": [
              "Reusing TensorBoard on port 6007 (pid 282), started 0:01:20 ago. (Use '!kill 282' to kill it.)"
            ]
          },
          "metadata": {}
        },
        {
          "output_type": "display_data",
          "data": {
            "text/plain": [
              "<IPython.core.display.Javascript object>"
            ],
            "application/javascript": [
              "\n",
              "        (async () => {\n",
              "            const url = new URL(await google.colab.kernel.proxyPort(6007, {'cache': true}));\n",
              "            url.searchParams.set('tensorboardColab', 'true');\n",
              "            const iframe = document.createElement('iframe');\n",
              "            iframe.src = url;\n",
              "            iframe.setAttribute('width', '100%');\n",
              "            iframe.setAttribute('height', '800');\n",
              "            iframe.setAttribute('frameborder', 0);\n",
              "            document.body.appendChild(iframe);\n",
              "        })();\n",
              "    "
            ]
          },
          "metadata": {}
        }
      ]
    },
    {
      "cell_type": "markdown",
      "source": [
        "# 3. DenseNet"
      ],
      "metadata": {
        "id": "mm_QELw9Qx9I"
      }
    },
    {
      "cell_type": "markdown",
      "source": [
        "DenseNet adalah arsitektur lain untuk mengaktifkan neural network yang sangat dalam dan mengambil perspektif yang sedikit berbeda pada residual connections. Alih-alih memodelkan perbedaan antar lapisan, DenseNet menganggap residual connections sebagai cara yang memungkinkan untuk menggunakan kembali fitur di seluruh lapisan/layer, menghilangkan keperluan apa pun untuk mempelajari peta fitur yang berlebihan. Jika kita masuk lebih dalam ke jaringan/network, model mempelajari fitur abstrak untuk mengenali pola. Namun, beberapa pola kompleks terdiri dari kombinasi fitur abstrak (misalnya tangan, wajah, dll.), dan fitur low-level (misalnya tepi, warna dasar, dll.). Untuk menemukan fitur low-level ini di layer dalam, CNN standar harus belajar menyalin peta fitur tersebut, yang membuang banyak kompleksitas parameter. DenseNet menyediakan cara yang efisien untuk menggunakan kembali fitur dengan membuat setiap konvolusi bergantung pada semua fitur input sebelumnya, tetapi hanya menambahkan sedikit filter ke dalamnya. Lihat gambar di bawah untuk ilustrasi (gambar kredit - Hu dkk):\n",
        "\n",
        "![Screenshot 2022-04-26 152747.png](data:image/png;base64,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)\n",
        "\n",
        "Kelebihan lain DenseNet adalah meringankan masalah gradien-gradien, memperkuat penyebaran fitur, mendorong penggunaan kembali fitur, dan secara substansial mengurangi jumlah parameter."
      ],
      "metadata": {
        "id": "eZzbr7wT-E9B"
      }
    },
    {
      "cell_type": "markdown",
      "source": [
        "Layer terakhir, yang disebut Transition Layer, bertanggung jawab untuk mengurangi dimensi peta fitur dalam tinggi, lebar, dan ukuran channel. Meskipun secara teknis akan merusak identitas backpropagation, namun hanya ada beberapa backpropagation di jaringan sehingga tidak banyak mempengaruhi \n",
        "gradient flow.\n",
        "Layer DenseNet dibagi menjadi tiga bagian: DenseLayer, DenseBlock, dan TransitionLayer. Modul DenseLayer mengimplementasikan satu layer di dalam dense block. Ini menerapkan konvolusi 1x1 untuk pengurangan dimensi dengan konvolusi 3x3 berikutnya. Output channel digabungkan ke aslinya sebelum di return. Diterapkan Batch Normalization sebagai layer pertama dari setiap blok. Ini memungkinkan aktivasi yang sedikit berbeda untuk fitur yang sama ke layer yang berbeda, tergantung pada apa yang dibutuhkan."
      ],
      "metadata": {
        "id": "-wQeGDsmKFQU"
      }
    },
    {
      "cell_type": "code",
      "source": [
        "class DenseLayer(nn.Module):\n",
        "    \n",
        "    def __init__(self, c_in, bn_size, growth_rate, act_fn):\n",
        "        \"\"\"\n",
        "        Inputs:\n",
        "            c_in - Number of input channels\n",
        "            bn_size - Bottleneck size (factor of growth rate) for the output of the 1x1 convolution. Typically between 2 and 4.\n",
        "            growth_rate - Number of output channels of the 3x3 convolution\n",
        "            act_fn - Activation class constructor (e.g. nn.ReLU)\n",
        "        \"\"\"\n",
        "        super().__init__()\n",
        "        self.net = nn.Sequential(\n",
        "            nn.BatchNorm2d(c_in),\n",
        "            act_fn(),\n",
        "            nn.Conv2d(c_in, bn_size * growth_rate, kernel_size=1, bias=False),\n",
        "            nn.BatchNorm2d(bn_size * growth_rate),\n",
        "            act_fn(),\n",
        "            nn.Conv2d(bn_size * growth_rate, growth_rate, kernel_size=3, padding=1, bias=False)\n",
        "        )\n",
        "        \n",
        "    def forward(self, x):\n",
        "        out = self.net(x)\n",
        "        out = torch.cat([out, x], dim=1)\n",
        "        return out"
      ],
      "metadata": {
        "id": "bpoogpOEQsFz"
      },
      "execution_count": 32,
      "outputs": []
    },
    {
      "cell_type": "markdown",
      "source": [
        "Modul DenseBlock merangkum beberapa dense layer yang diterapkan secara berurutan. Setiap dense layer mengambil input asli sebagai input yang digabungkan dengan semua peta fitur layer sebelumnya."
      ],
      "metadata": {
        "id": "p6XG3qUoLfqX"
      }
    },
    {
      "cell_type": "code",
      "source": [
        "class DenseBlock(nn.Module):\n",
        "    \n",
        "    def __init__(self, c_in, num_layers, bn_size, growth_rate, act_fn):\n",
        "        \"\"\"\n",
        "        Inputs:\n",
        "            c_in - Number of input channels\n",
        "            num_layers - Number of dense layers to apply in the block\n",
        "            bn_size - Bottleneck size to use in the dense layers\n",
        "            growth_rate - Growth rate to use in the dense layers\n",
        "            act_fn - Activation function to use in the dense layers\n",
        "        \"\"\"\n",
        "        super().__init__()\n",
        "        layers = []\n",
        "        for layer_idx in range(num_layers):\n",
        "            layers.append(\n",
        "                DenseLayer(c_in=c_in + layer_idx * growth_rate, # Input channels are original plus the feature maps from previous layers\n",
        "                           bn_size=bn_size,\n",
        "                           growth_rate=growth_rate,\n",
        "                           act_fn=act_fn)\n",
        "            )\n",
        "        self.block = nn.Sequential(*layers)\n",
        "        \n",
        "    def forward(self, x):\n",
        "        out = self.block(x)\n",
        "        return out"
      ],
      "metadata": {
        "id": "erfxdtN8QsIy"
      },
      "execution_count": 33,
      "outputs": []
    },
    {
      "cell_type": "markdown",
      "source": [
        "Kemudian TransitionLayer mengambil output akhir dari dense block sebagai input dan mengurangi dimensi channelnya menggunakan konvolusi 1x1. Untuk mengurangi dimensi tinggi dan lebar, diambil pendekatan yang berbeda daripada di ResNet dan menerapkan average pooling (penyatuan rata-rata) dengan ukuran kernel 2 dan stride 2. Ini karena kita tidak memiliki koneksi tambahan ke output yang akan mempertimbangkan patch 2x2 secara penuh, alih-alih tunggal. Selain itu, parameter ini lebih efisien daripada menggunakan konvolusi 3x3 dengan stride 2."
      ],
      "metadata": {
        "id": "xJWisElML9KG"
      }
    },
    {
      "cell_type": "code",
      "source": [
        "class TransitionLayer(nn.Module):\n",
        "    \n",
        "    def __init__(self, c_in, c_out, act_fn):\n",
        "        super().__init__()\n",
        "        self.transition = nn.Sequential(\n",
        "            nn.BatchNorm2d(c_in),\n",
        "            act_fn(),\n",
        "            nn.Conv2d(c_in, c_out, kernel_size=1, bias=False),\n",
        "            nn.AvgPool2d(kernel_size=2, stride=2) # Average the output for each 2x2 pixel group\n",
        "        )\n",
        "        \n",
        "    def forward(self, x):\n",
        "        return self.transition(x)"
      ],
      "metadata": {
        "id": "4St-3f6CQ5MG"
      },
      "execution_count": 34,
      "outputs": []
    },
    {
      "cell_type": "markdown",
      "source": [
        "Sekarang menggabungkan semuanya dan membuat jaringan DenseNet. Untuk menentukan jumlah layer, digunakan notasi yang sama seperti di ResNet dan meneruskan list berisi integer yang mewakili jumlah layer per blok. Setelah setiap dence block kecuali yang terakhir, diterapkan Transition layer untuk mengurangi dimensi sebesar 2."
      ],
      "metadata": {
        "id": "w4mh9IGsOMFo"
      }
    },
    {
      "cell_type": "code",
      "source": [
        "class DenseNet(nn.Module):\n",
        "    \n",
        "    def __init__(self, num_classes=10, num_layers=[6,6,6,6], bn_size=2, growth_rate=16, act_fn_name=\"relu\", **kwargs):\n",
        "        super().__init__()\n",
        "        self.hparams = SimpleNamespace(num_classes=num_classes,\n",
        "                                       num_layers=num_layers,\n",
        "                                       bn_size=bn_size,\n",
        "                                       growth_rate=growth_rate,\n",
        "                                       act_fn_name=act_fn_name,\n",
        "                                       act_fn=act_fn_by_name[act_fn_name])\n",
        "        self._create_network()\n",
        "        self._init_params()\n",
        "        \n",
        "    def _create_network(self):\n",
        "        c_hidden = self.hparams.growth_rate * self.hparams.bn_size # The start number of hidden channels\n",
        "        \n",
        "        # A first convolution on the original image to scale up the channel size\n",
        "        self.input_net = nn.Sequential(\n",
        "            nn.Conv2d(3, c_hidden, kernel_size=3, padding=1) # No batch norm or activation function as done inside the Dense layers\n",
        "        )\n",
        "        \n",
        "        # Creating the dense blocks, eventually including transition layers\n",
        "        blocks = []\n",
        "        for block_idx, num_layers in enumerate(self.hparams.num_layers):\n",
        "            blocks.append( \n",
        "                DenseBlock(c_in=c_hidden, \n",
        "                           num_layers=num_layers, \n",
        "                           bn_size=self.hparams.bn_size,\n",
        "                           growth_rate=self.hparams.growth_rate,\n",
        "                           act_fn=self.hparams.act_fn)\n",
        "            )\n",
        "            c_hidden = c_hidden + num_layers * self.hparams.growth_rate # Overall output of the dense block\n",
        "            if block_idx < len(self.hparams.num_layers)-1: # Don't apply transition layer on last block\n",
        "                blocks.append(\n",
        "                    TransitionLayer(c_in=c_hidden,\n",
        "                                    c_out=c_hidden // 2,\n",
        "                                    act_fn=self.hparams.act_fn))\n",
        "                c_hidden = c_hidden // 2\n",
        "                \n",
        "        self.blocks = nn.Sequential(*blocks)\n",
        "        \n",
        "        # Mapping to classification output\n",
        "        self.output_net = nn.Sequential(\n",
        "            nn.BatchNorm2d(c_hidden), # The features have not passed a non-linearity until here.\n",
        "            self.hparams.act_fn(),\n",
        "            nn.AdaptiveAvgPool2d((1,1)),\n",
        "            nn.Flatten(),\n",
        "            nn.Linear(c_hidden, self.hparams.num_classes)\n",
        "        )\n",
        "\n",
        "    def _init_params(self):\n",
        "        # Based on our discussion in Tutorial 4, we should initialize the convolutions according to the activation function\n",
        "        for m in self.modules():\n",
        "            if isinstance(m, nn.Conv2d):\n",
        "                nn.init.kaiming_normal_(m.weight, nonlinearity=self.hparams.act_fn_name)\n",
        "            elif isinstance(m, nn.BatchNorm2d):\n",
        "                nn.init.constant_(m.weight, 1)\n",
        "                nn.init.constant_(m.bias, 0)\n",
        "\n",
        "    def forward(self, x):\n",
        "        x = self.input_net(x)\n",
        "        x = self.blocks(x)\n",
        "        x = self.output_net(x)\n",
        "        return x"
      ],
      "metadata": {
        "id": "B3X7H0M0Q5O5"
      },
      "execution_count": 35,
      "outputs": []
    },
    {
      "cell_type": "markdown",
      "source": [
        "Menambahkan juga DenseNet ke model dictionary kita:"
      ],
      "metadata": {
        "id": "mN4IatizO5ew"
      }
    },
    {
      "cell_type": "code",
      "source": [
        "model_dict[\"DenseNet\"] = DenseNet"
      ],
      "metadata": {
        "id": "RxEvZdLoRKCf"
      },
      "execution_count": 36,
      "outputs": []
    },
    {
      "cell_type": "markdown",
      "source": [
        "Terakhir, melatih model DenseNet. Berbeda dengan ResNet, DenseNet tidak menunjukkan masalah apa pun dengan Adam, dan karenanya modelnya dilatih dengan optimizer ini. Hyperparameter lainnya disetel sama dengan hyperparameter dari model GoogLeNet dan ResNet. Umumnya, ketika merancang network yang sangat dalam, DenseNet merupakan parameter yang lebih efisien daripada ResNet, serta mencapai kinerja yang serupa atau bahkan lebih baik."
      ],
      "metadata": {
        "id": "1wcyHQDWPHNn"
      }
    },
    {
      "cell_type": "code",
      "source": [
        "densenet_model, densenet_results = train_model(model_name=\"DenseNet\", \n",
        "                                               model_hparams={\"num_classes\": 10,\n",
        "                                                              \"num_layers\": [6,6,6,6],\n",
        "                                                              \"bn_size\": 2,\n",
        "                                                              \"growth_rate\": 16,\n",
        "                                                              \"act_fn_name\": \"relu\"}, \n",
        "                                               optimizer_name=\"Adam\",\n",
        "                                               optimizer_hparams={\"lr\": 1e-3,\n",
        "                                                                  \"weight_decay\": 1e-4})"
      ],
      "metadata": {
        "id": "vC-JF5flRJ4I",
        "colab": {
          "base_uri": "https://localhost:8080/",
          "height": 257,
          "referenced_widgets": [
            "f177d415bab7451ab0d3532a1fccf324",
            "07cc682054434ee2ae1bddf0b374ac1c",
            "4fdc142c81454190863b98b82fafee10",
            "8628b2d4eade48a0be4146316de55046",
            "d34413919a32495583a48cf2e1edac2a",
            "f728c9f228cb4944a0e8751cae95ac0b",
            "5adab803c6624dc2b6bdf9b87241b4f7",
            "b70c1ced47754f71aca721873508a47d",
            "a25cb2b35fbe45659c912ad643bbb3a8",
            "a9b64ed5c0b349cc8fdbcdba2385241b",
            "55dc4ad903e24e20a9ae424dc4981eaf",
            "b1e527cd46bf42628972e7c0a558341f",
            "34dfcc805a284c42b2747de2304df350",
            "f8f7bff21fc444b98756c6ae3e786370",
            "f281859776684c6484501e4d414ff4db",
            "e06336b7a2ae4118a21acf82833c46fe",
            "f88009d93d3749f9aaa0f40f1765e3d2",
            "92d79cdf46b64df0849877c330d53069",
            "42b842df16244280b4476cc721972a10",
            "9bf37b180a154d239325d43979694815",
            "8d2739b0c15047829d32c55573977a6a",
            "3e73ebef51114d0fa779c12f9dd3165d"
          ]
        },
        "outputId": "babbd8c2-8d5d-4a87-c313-b620a742f0c6"
      },
      "execution_count": 37,
      "outputs": [
        {
          "output_type": "stream",
          "name": "stderr",
          "text": [
            "/usr/local/lib/python3.7/dist-packages/pytorch_lightning/trainer/connectors/callback_connector.py:97: LightningDeprecationWarning: Setting `Trainer(progress_bar_refresh_rate=1)` is deprecated in v1.5 and will be removed in v1.7. Please pass `pytorch_lightning.callbacks.progress.TQDMProgressBar` with `refresh_rate` directly to the Trainer's `callbacks` argument instead. Or, to disable the progress bar pass `enable_progress_bar = False` to the Trainer.\n",
            "  f\"Setting `Trainer(progress_bar_refresh_rate={progress_bar_refresh_rate})` is deprecated in v1.5 and\"\n",
            "GPU available: True, used: True\n",
            "TPU available: False, using: 0 TPU cores\n",
            "IPU available: False, using: 0 IPUs\n",
            "HPU available: False, using: 0 HPUs\n",
            "LOCAL_RANK: 0 - CUDA_VISIBLE_DEVICES: [0]\n"
          ]
        },
        {
          "output_type": "stream",
          "name": "stdout",
          "text": [
            "Found pretrained model at ../saved_models/tutorial5/DenseNet.ckpt, loading...\n"
          ]
        },
        {
          "output_type": "display_data",
          "data": {
            "text/plain": [
              "Testing: 0it [00:00, ?it/s]"
            ],
            "application/vnd.jupyter.widget-view+json": {
              "version_major": 2,
              "version_minor": 0,
              "model_id": "f177d415bab7451ab0d3532a1fccf324"
            }
          },
          "metadata": {}
        },
        {
          "output_type": "stream",
          "name": "stderr",
          "text": [
            "LOCAL_RANK: 0 - CUDA_VISIBLE_DEVICES: [0]\n"
          ]
        },
        {
          "output_type": "display_data",
          "data": {
            "text/plain": [
              "Testing: 0it [00:00, ?it/s]"
            ],
            "application/vnd.jupyter.widget-view+json": {
              "version_major": 2,
              "version_minor": 0,
              "model_id": "b1e527cd46bf42628972e7c0a558341f"
            }
          },
          "metadata": {}
        }
      ]
    },
    {
      "cell_type": "markdown",
      "source": [
        "# Tensorboard log"
      ],
      "metadata": {
        "id": "Ej_iQobERSCQ"
      }
    },
    {
      "cell_type": "markdown",
      "source": [
        "Kita juga memiliki TensorBoard untuk pelatihan DenseNet."
      ],
      "metadata": {
        "id": "yZARU_q1P67B"
      }
    },
    {
      "cell_type": "code",
      "source": [
        "# Opens tensorboard in notebook. Adjust the path to your CHECKPOINT_PATH! Feel free to change \"ResNet\" to \"ResNetPreAct\"\n",
        "%tensorboard --logdir ../saved_models/tutorial5/tensorboards/DenseNet/"
      ],
      "metadata": {
        "id": "3rp22yPhRJzb",
        "colab": {
          "base_uri": "https://localhost:8080/",
          "height": 839
        },
        "outputId": "951eebad-cc97-4619-8292-1858c96ea938"
      },
      "execution_count": 38,
      "outputs": [
        {
          "output_type": "display_data",
          "data": {
            "text/plain": [
              "Reusing TensorBoard on port 6008 (pid 356), started 0:01:15 ago. (Use '!kill 356' to kill it.)"
            ]
          },
          "metadata": {}
        },
        {
          "output_type": "display_data",
          "data": {
            "text/plain": [
              "<IPython.core.display.Javascript object>"
            ],
            "application/javascript": [
              "\n",
              "        (async () => {\n",
              "            const url = new URL(await google.colab.kernel.proxyPort(6008, {'cache': true}));\n",
              "            url.searchParams.set('tensorboardColab', 'true');\n",
              "            const iframe = document.createElement('iframe');\n",
              "            iframe.src = url;\n",
              "            iframe.setAttribute('width', '100%');\n",
              "            iframe.setAttribute('height', '800');\n",
              "            iframe.setAttribute('frameborder', 0);\n",
              "            document.body.appendChild(iframe);\n",
              "        })();\n",
              "    "
            ]
          },
          "metadata": {}
        }
      ]
    },
    {
      "cell_type": "markdown",
      "source": [
        "# Kesimpulan dan Perbandingan"
      ],
      "metadata": {
        "id": "ueUdM3cCRYMk"
      }
    },
    {
      "cell_type": "markdown",
      "source": [
        "Setelah membahas setiap model secara terpisah, dan melakukan training, akhirnya kita dapat membandingkannya. Pertama, kita mengaturatur hasil dari semua model kedalam sebuah tabel."
      ],
      "metadata": {
        "id": "YJXYsUEfQE3a"
      }
    },
    {
      "cell_type": "code",
      "source": [
        "%%html\n",
        "<!-- Some HTML code to increase font size in the following table -->\n",
        "<style>\n",
        "th {font-size: 120%;}\n",
        "td {font-size: 120%;}\n",
        "</style>"
      ],
      "metadata": {
        "id": "eS-PyegmRUWL",
        "colab": {
          "base_uri": "https://localhost:8080/",
          "height": 17
        },
        "outputId": "b278be3d-adc9-43cc-8f79-b2270a0fed7a"
      },
      "execution_count": 39,
      "outputs": [
        {
          "output_type": "display_data",
          "data": {
            "text/plain": [
              "<IPython.core.display.HTML object>"
            ],
            "text/html": [
              "<!-- Some HTML code to increase font size in the following table -->\n",
              "<style>\n",
              "th {font-size: 120%;}\n",
              "td {font-size: 120%;}\n",
              "</style>"
            ]
          },
          "metadata": {}
        }
      ]
    },
    {
      "cell_type": "code",
      "source": [
        "import tabulate\n",
        "from IPython.display import display, HTML\n",
        "all_models = [\n",
        "    (\"GoogleNet\", googlenet_results, googlenet_model),\n",
        "    (\"ResNet\", resnet_results, resnet_model),\n",
        "    (\"ResNetPreAct\", resnetpreact_results, resnetpreact_model),\n",
        "    (\"DenseNet\", densenet_results, densenet_model)\n",
        "]\n",
        "table = [[model_name,\n",
        "          f\"{100.0*model_results['val']:4.2f}%\",\n",
        "          f\"{100.0*model_results['test']:4.2f}%\",\n",
        "          \"{:,}\".format(sum([np.prod(p.shape) for p in model.parameters()]))]\n",
        "         for model_name, model_results, model in all_models]\n",
        "display(HTML(tabulate.tabulate(table, tablefmt='html', headers=[\"Model\", \"Val Accuracy\", \"Test Accuracy\", \"Num Parameters\"])))"
      ],
      "metadata": {
        "id": "O2U5pR_SRUZk",
        "colab": {
          "base_uri": "https://localhost:8080/",
          "height": 126
        },
        "outputId": "f4ce1e58-0c0e-4114-8c5d-a08431044093"
      },
      "execution_count": 40,
      "outputs": [
        {
          "output_type": "display_data",
          "data": {
            "text/plain": [
              "<IPython.core.display.HTML object>"
            ],
            "text/html": [
              "<table>\n",
              "<thead>\n",
              "<tr><th>Model       </th><th>Val Accuracy  </th><th>Test Accuracy  </th><th>Num Parameters  </th></tr>\n",
              "</thead>\n",
              "<tbody>\n",
              "<tr><td>GoogleNet   </td><td>90.40%        </td><td>89.70%         </td><td>260,650         </td></tr>\n",
              "<tr><td>ResNet      </td><td>91.84%        </td><td>91.06%         </td><td>272,378         </td></tr>\n",
              "<tr><td>ResNetPreAct</td><td>91.80%        </td><td>91.07%         </td><td>272,250         </td></tr>\n",
              "<tr><td>DenseNet    </td><td>90.72%        </td><td>90.23%         </td><td>239,146         </td></tr>\n",
              "</tbody>\n",
              "</table>"
            ]
          },
          "metadata": {}
        }
      ]
    },
    {
      "cell_type": "markdown",
      "source": [
        "Dapat dilihat bahwa semua model memiliki kinrja yang cukup baik. GoogleNet adalah model untuk mendapatkan kinerja terendah pada set validasi dan test, meskipun sangat dekat dengan DenseNet. Pencarian hyperparameter yang tepat untuk semua ukuran channel di GoogleNet kemungkinan akan meningkatkan akurasi model ke tingkat yang sama, tetapi ini juga mahal mengingat jumlah hyperparameter yang besar. ResNet mengungguli DenseNet dan GoogleNet lebih dari 1% pada set validasi, sementara ada perbedaan kecil antara kedua versi, versi asli dan versi pra-aktivasi. Dari sini kita dapat menyimpulkan bahwa untuk network dangkal, tempat dari fungsi aktivasi tampaknya tidak terlalu penting, meskipun makalah telah melaporkan sebaliknya untuk jaringan yang sangat dalam (misalnya He dkk).\n",
        "\n",
        "Secara umum, kita dapat menyimpulkan bahwa ResNet adalah arsitektur yang sederhana namun kuat. Jika kita akan menerapkan model pada tugas yang lebih kompleks dengan gambar yang lebih besar serta lebih banyak lapisan dalam network, kemungkinan kita akan melihat kesenjangan yang lebih besar antara GoogleNet dan arsitektur skip-connection seperti ResNet dan DenseNet. Perbandingan dengan model yang lebih dalam di CIFAR10 misalnya dapat ditemukan di sini. Menariknya, DenseNet mengungguli ResNet asli pada pengaturan mereka tetapi berada di belakang ResNet Pra-Aktivasi. Model terbaik, Dual Path Network (Chen dkk), sebenarnya merupakan kombinasi dari ResNet dan DenseNet yang menunjukkan bahwa keduanya menawarkan keuntungan yang berbeda."
      ],
      "metadata": {
        "id": "LxjAANx9RVzb"
      }
    },
    {
      "cell_type": "markdown",
      "source": [
        "# Model mana yang harus saya pilih untuk tugas saya?"
      ],
      "metadata": {
        "id": "pbBDDnSDdRaN"
      }
    },
    {
      "cell_type": "markdown",
      "source": [
        "Telah ditinjau empat model yang berbeda. Jadi, mana yang harus kita pilih jika telah diberi tugas baru? Biasanya, memulai dengan ResNet adalah ide yang bagus mengingat kinerja yang unggul dari kumpulan data CIFAR dan implementasinya yang sederhana. Selain itu, untuk nomor parameter yang kami pilih di sini, ResNet adalah yang tercepat karena DenseNet dan GoogleNet memiliki lebih banyak lapisan yang diterapkan secara berurutan dalam implementasi primitif. Namun, jika tugasnya sangat sulit, seperti segmentasi semantik pada gambar HD, disarankan menggunakan varian ResNet dan DenseNet yang lebih kompleks."
      ],
      "metadata": {
        "id": "dZSeD7PXdPCk"
      }
    }
  ]
}